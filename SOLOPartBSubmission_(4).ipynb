{
  "nbformat": 4,
  "nbformat_minor": 0,
  "metadata": {
    "colab": {
      "name": "SOLOPartBSubmission (4).ipynb",
      "provenance": [],
      "collapsed_sections": [],
      "toc_visible": true,
      "machine_shape": "hm"
    },
    "kernelspec": {
      "name": "python3",
      "display_name": "Python 3"
    },
    "accelerator": "GPU",
    "widgets": {
      "application/vnd.jupyter.widget-state+json": {
        "15dbcbc6ebed4ba39736cd1450e08fd7": {
          "model_module": "@jupyter-widgets/controls",
          "model_name": "HBoxModel",
          "state": {
            "_view_name": "HBoxView",
            "_dom_classes": [],
            "_model_name": "HBoxModel",
            "_view_module": "@jupyter-widgets/controls",
            "_model_module_version": "1.5.0",
            "_view_count": null,
            "_view_module_version": "1.5.0",
            "box_style": "",
            "layout": "IPY_MODEL_efd0b8f1d5844516bb1263ea1cebf5ac",
            "_model_module": "@jupyter-widgets/controls",
            "children": [
              "IPY_MODEL_bc0b06d904ab45e4996c3ce12442a21d",
              "IPY_MODEL_7046275c7a54466f94aefe6602a6edc6"
            ]
          }
        },
        "efd0b8f1d5844516bb1263ea1cebf5ac": {
          "model_module": "@jupyter-widgets/base",
          "model_name": "LayoutModel",
          "state": {
            "_view_name": "LayoutView",
            "grid_template_rows": null,
            "right": null,
            "justify_content": null,
            "_view_module": "@jupyter-widgets/base",
            "overflow": null,
            "_model_module_version": "1.2.0",
            "_view_count": null,
            "flex_flow": null,
            "width": null,
            "min_width": null,
            "border": null,
            "align_items": null,
            "bottom": null,
            "_model_module": "@jupyter-widgets/base",
            "top": null,
            "grid_column": null,
            "overflow_y": null,
            "overflow_x": null,
            "grid_auto_flow": null,
            "grid_area": null,
            "grid_template_columns": null,
            "flex": null,
            "_model_name": "LayoutModel",
            "justify_items": null,
            "grid_row": null,
            "max_height": null,
            "align_content": null,
            "visibility": null,
            "align_self": null,
            "height": null,
            "min_height": null,
            "padding": null,
            "grid_auto_rows": null,
            "grid_gap": null,
            "max_width": null,
            "order": null,
            "_view_module_version": "1.2.0",
            "grid_template_areas": null,
            "object_position": null,
            "object_fit": null,
            "grid_auto_columns": null,
            "margin": null,
            "display": null,
            "left": null
          }
        },
        "bc0b06d904ab45e4996c3ce12442a21d": {
          "model_module": "@jupyter-widgets/controls",
          "model_name": "FloatProgressModel",
          "state": {
            "_view_name": "ProgressView",
            "style": "IPY_MODEL_3aff2172282b4a579c07fcc7a85b5e20",
            "_dom_classes": [],
            "description": "100%",
            "_model_name": "FloatProgressModel",
            "bar_style": "success",
            "max": 102502400,
            "_view_module": "@jupyter-widgets/controls",
            "_model_module_version": "1.5.0",
            "value": 102502400,
            "_view_count": null,
            "_view_module_version": "1.5.0",
            "orientation": "horizontal",
            "min": 0,
            "description_tooltip": null,
            "_model_module": "@jupyter-widgets/controls",
            "layout": "IPY_MODEL_a8aa2958319548b7b731d497103b10a8"
          }
        },
        "7046275c7a54466f94aefe6602a6edc6": {
          "model_module": "@jupyter-widgets/controls",
          "model_name": "HTMLModel",
          "state": {
            "_view_name": "HTMLView",
            "style": "IPY_MODEL_cc72bdbd691340a6be28503e8454ee20",
            "_dom_classes": [],
            "description": "",
            "_model_name": "HTMLModel",
            "placeholder": "​",
            "_view_module": "@jupyter-widgets/controls",
            "_model_module_version": "1.5.0",
            "value": " 97.8M/97.8M [00:19&lt;00:00, 5.18MB/s]",
            "_view_count": null,
            "_view_module_version": "1.5.0",
            "description_tooltip": null,
            "_model_module": "@jupyter-widgets/controls",
            "layout": "IPY_MODEL_5fe10d5a6e51433399af96650463c9fb"
          }
        },
        "3aff2172282b4a579c07fcc7a85b5e20": {
          "model_module": "@jupyter-widgets/controls",
          "model_name": "ProgressStyleModel",
          "state": {
            "_view_name": "StyleView",
            "_model_name": "ProgressStyleModel",
            "description_width": "initial",
            "_view_module": "@jupyter-widgets/base",
            "_model_module_version": "1.5.0",
            "_view_count": null,
            "_view_module_version": "1.2.0",
            "bar_color": null,
            "_model_module": "@jupyter-widgets/controls"
          }
        },
        "a8aa2958319548b7b731d497103b10a8": {
          "model_module": "@jupyter-widgets/base",
          "model_name": "LayoutModel",
          "state": {
            "_view_name": "LayoutView",
            "grid_template_rows": null,
            "right": null,
            "justify_content": null,
            "_view_module": "@jupyter-widgets/base",
            "overflow": null,
            "_model_module_version": "1.2.0",
            "_view_count": null,
            "flex_flow": null,
            "width": null,
            "min_width": null,
            "border": null,
            "align_items": null,
            "bottom": null,
            "_model_module": "@jupyter-widgets/base",
            "top": null,
            "grid_column": null,
            "overflow_y": null,
            "overflow_x": null,
            "grid_auto_flow": null,
            "grid_area": null,
            "grid_template_columns": null,
            "flex": null,
            "_model_name": "LayoutModel",
            "justify_items": null,
            "grid_row": null,
            "max_height": null,
            "align_content": null,
            "visibility": null,
            "align_self": null,
            "height": null,
            "min_height": null,
            "padding": null,
            "grid_auto_rows": null,
            "grid_gap": null,
            "max_width": null,
            "order": null,
            "_view_module_version": "1.2.0",
            "grid_template_areas": null,
            "object_position": null,
            "object_fit": null,
            "grid_auto_columns": null,
            "margin": null,
            "display": null,
            "left": null
          }
        },
        "cc72bdbd691340a6be28503e8454ee20": {
          "model_module": "@jupyter-widgets/controls",
          "model_name": "DescriptionStyleModel",
          "state": {
            "_view_name": "StyleView",
            "_model_name": "DescriptionStyleModel",
            "description_width": "",
            "_view_module": "@jupyter-widgets/base",
            "_model_module_version": "1.5.0",
            "_view_count": null,
            "_view_module_version": "1.2.0",
            "_model_module": "@jupyter-widgets/controls"
          }
        },
        "5fe10d5a6e51433399af96650463c9fb": {
          "model_module": "@jupyter-widgets/base",
          "model_name": "LayoutModel",
          "state": {
            "_view_name": "LayoutView",
            "grid_template_rows": null,
            "right": null,
            "justify_content": null,
            "_view_module": "@jupyter-widgets/base",
            "overflow": null,
            "_model_module_version": "1.2.0",
            "_view_count": null,
            "flex_flow": null,
            "width": null,
            "min_width": null,
            "border": null,
            "align_items": null,
            "bottom": null,
            "_model_module": "@jupyter-widgets/base",
            "top": null,
            "grid_column": null,
            "overflow_y": null,
            "overflow_x": null,
            "grid_auto_flow": null,
            "grid_area": null,
            "grid_template_columns": null,
            "flex": null,
            "_model_name": "LayoutModel",
            "justify_items": null,
            "grid_row": null,
            "max_height": null,
            "align_content": null,
            "visibility": null,
            "align_self": null,
            "height": null,
            "min_height": null,
            "padding": null,
            "grid_auto_rows": null,
            "grid_gap": null,
            "max_width": null,
            "order": null,
            "_view_module_version": "1.2.0",
            "grid_template_areas": null,
            "object_position": null,
            "object_fit": null,
            "grid_auto_columns": null,
            "margin": null,
            "display": null,
            "left": null
          }
        }
      }
    }
  },
  "cells": [
    {
      "cell_type": "code",
      "metadata": {
        "id": "UzBdGIY2SvgO",
        "colab": {
          "base_uri": "https://localhost:8080/",
          "height": 35
        },
        "outputId": "839b8991-f8c9-4743-d39c-014d2cddf3dc"
      },
      "source": [
        "import os\n",
        "from google.colab import drive\n",
        "\n",
        "# Mount google drive\n",
        "DRIVE_MOUNT='/content/gdrive'\n",
        "drive.mount(DRIVE_MOUNT)\n",
        "\n",
        "# # # # create folder to write data to\n",
        "# CIS680_FOLDER=os.path.join(DRIVE_MOUNT, 'My Drive', 'CIS680_Rectified')\n",
        "# HOMEWORK_FOLDER=os.path.join(CIS680_FOLDER, 'SOLO_FINALNORMALIZATION')\n",
        "# os.makedirs(HOMEWORK_FOLDER, exist_ok=True)"
      ],
      "execution_count": null,
      "outputs": [
        {
          "output_type": "stream",
          "text": [
            "Mounted at /content/gdrive\n"
          ],
          "name": "stdout"
        }
      ]
    },
    {
      "cell_type": "code",
      "metadata": {
        "id": "JHF_gWIDbi5O"
      },
      "source": [
        "## Author: Lishuo Pan 2020/4/18\n",
        "import torch\n",
        "from torchvision import transforms\n",
        "import torch.nn.functional as F\n",
        "from torch.utils.data import Dataset, DataLoader\n",
        "import h5py\n",
        "import numpy as np\n",
        "import matplotlib.pyplot as plt\n",
        "import matplotlib.patches as patches\n",
        "import pdb\n",
        "import torchvision \n",
        "from matplotlib.patches import Rectangle\n",
        "import random\n",
        "\n",
        "\n",
        "class BuildDataset(torch.utils.data.Dataset):\n",
        "    def __init__(self, path):\n",
        "      self.images_h5 = h5py.File(path[0],mode='r')\n",
        "      self.image_data = self.images_h5.get('data')\n",
        "      self.mask_h5 = h5py.File(path[1],mode='r')\n",
        "      self.mask_data = self.mask_h5.get('data')\n",
        "      self.bbox_data = np.load(path[3], allow_pickle=True)\n",
        "      self.label_data = np.load(path[2], allow_pickle=True)\n",
        "      #self.transform = transforms.Compose([transforms.Normalize((0.5, 0.5, 0.5), (0.5, 0.5, 0.5))])\n",
        "      self.totensor = transforms.ToTensor()\n",
        "      self.pad = 11\n",
        "      self.target_h = 800\n",
        "      self.target_w = 1088\n",
        "      self.resize_h = self.target_h\n",
        "      self.resize_w = self.target_w - 2*self.pad\n",
        "\n",
        "      self.struct_mask = self.grouping_mask_label(self.label_data, self.mask_data)\n",
        "    #   self.device = torch.device(\"cuda:0\" if torch.cuda.is_available() else \"cpu\")\n",
        "\n",
        "\n",
        "      \n",
        "    # output:\n",
        "        # transed_img\n",
        "        # label\n",
        "        # transed_mask\n",
        "        # transed_bbox\n",
        "\n",
        "    def grouping_mask_label(self,labels, masks):\n",
        "        mask_group =[]\n",
        "        items = 0\n",
        "        for i in range(len(labels)):        \n",
        "            mask_group.append(masks[items:items+len(labels[i])])\n",
        "\n",
        "            items += len(labels[i])\n",
        "        return np.array(mask_group)\n",
        "    \n",
        "    # def grouping_mask_label(self,labels, masks):\n",
        "    #     final_mask =[]\n",
        "    #     items = 0\n",
        "    #     for i in range(len(labels)):        \n",
        "    #         if len(labels[i]) > 1:\n",
        "    #             final_mask.append(masks[items:items+len(labels[i])])\n",
        "    #         else:\n",
        "    #             final_mask.append(np.asarray([masks[items]]))\n",
        "    #         items = items + len(labels[i])\n",
        "    #     return np.array(final_mask)\n",
        "\n",
        "    def __getitem__(self, index):\n",
        "        # TODO: __getitem__\n",
        "        # check flag\n",
        "        image_data = self.image_data[index]\n",
        "        label_data = self.label_data[index]\n",
        "        bbox_data = self.bbox_data[index]\n",
        "        mask_data = self.mask_data[index]\n",
        "        mask_list = self.struct_mask[index]\n",
        "        image_data,mask_list ,bbox_data = self.pre_process_batch(image_data,mask_list,bbox_data)\n",
        "        # print(label_data)\n",
        "        # label_data = self.totensor(label_data)\n",
        "        #assert image_data.shape == (3, 800, 1088)\n",
        "        #print(\"Initial List shape\",bbox_data.shape[0])\n",
        "        #print(\"Masked List shape\",mask_list.shape[0])\n",
        "        # if bbox_data.shape[0] == mask_list.shape[0]:\n",
        "            #print(\"Success!!\")\n",
        "        #assert bbox_data.shape[0] == mask_list.shape[0]\n",
        "\n",
        "        # for j in range(len(label_data[i])):\n",
        "        #         print(\"SCALE\",scale)\n",
        "        #         #bbox = bbox.copy().astype(float)\n",
        "        #         bbox_data[i][j][0] = np.multiply(bbox_data[i][j][0], x_scale )\n",
        "        #         bbox_data[i][j][1] = np.multiply(bbox_data[i][j][1], y_scale )\n",
        "        #         bbox_data[i][j][2] = np.multiply(bbox_data[i][j][2], x_scale)\n",
        "        #         bbox_data[i][j][3] = np.multiply(bbox_data[i][j][3], y_scale )\n",
        "\n",
        "        return image_data,label_data,mask_list,bbox_data\n",
        "\n",
        "    def __len__(self):\n",
        "        return len(self.image_data)\n",
        "    \n",
        "    # This function take care of the pre-process of img,mask,bbox\n",
        "    # in the input mini-batch\n",
        "    # input:\n",
        "        # img: 3*300*400\n",
        "        # mask: 3*300*400\n",
        "        # bbox: n_box*4\n",
        "    def pre_process_batch(self, img, mask, bbox):\n",
        "        # TODO: image preprocess\n",
        "        img = img.astype('float64')\n",
        "        img = self.totensor(img)\n",
        "        bbox1 =np.zeros(bbox.shape)\n",
        "        mask = mask.astype('float64')\n",
        "        mask = self.totensor(mask)\n",
        "        ori_h, ori_w = 300, 400\n",
        "        h_zoom_ratio, w_zoom_ratio = self.resize_h / ori_h, self.resize_w / ori_w\n",
        "\t\n",
        "\n",
        "        img = img.permute(1, 2, 0)\n",
        "        #print(\"Image shape 1\",img.shape)\n",
        "        img = img.permute(0, 2, 1)\n",
        "        #print(\"Image shape 2\",img.shape)\n",
        "        img = F.interpolate(img, size=800)\n",
        "        img = img.permute(0, 2, 1)\n",
        "        img = F.interpolate(img, size=1066)\n",
        "\n",
        "        \n",
        "        img = torchvision.transforms.functional.normalize(img,[0.485, 0.456, 0.406],[0.229, 0.224, 0.225])\n",
        "        img = torch.nn.functional.pad(img,(11,11))\n",
        "        #Interpolating the mask\n",
        "        mask = mask.permute(1, 2, 0)\n",
        "        mask = mask.permute(0, 2, 1)\n",
        "        mask = F.interpolate(mask, size=800)\n",
        "        mask = mask.permute(0, 2, 1)\n",
        "        mask = F.interpolate(mask, size=1066)\n",
        "        mask = torch.nn.functional.pad(mask,(11,11))\n",
        "        # # check flag\n",
        "        # if img.shape == (3, 800, 1088):\n",
        "          #print(\"Works\")\n",
        "        \n",
        "        #assert img.shape == (3, 800, 1088)\n",
        "\n",
        "        #assert bbox.shape[0] == mask.shape[0]\n",
        "        x_scale = 800 / 300\n",
        "        y_scale = 1066 / 400\n",
        "        #print(\"BBOX SHAPE\",bbox.shape)\n",
        "        # pdb.set_trace()\n",
        "\n",
        "        # bbox1[:, 0] = bbox[:, 0] * w_zoom_ratio + self.pad\n",
        "        # bbox1[:, 1] = bbox[:, 1] * h_zoom_ratio\n",
        "        # bbox1[:, 2] = bbox[:, 2] * w_zoom_ratio + self.pad\n",
        "        # bbox1[:, 3] = bbox[:, 3] * h_zoom_ratio\n",
        "\n",
        "        bbox1[:, 0] = bbox[:, 0] * 2.665  + self.pad\n",
        "        bbox1[:, 1] = bbox[:, 1] * 2.6667\n",
        "        bbox1[:, 2] = bbox[:, 2] * 2.665 + self.pad\n",
        "        bbox1[:, 3] = bbox[:, 3] * 2.6667\n",
        "\n",
        "        return img, mask, bbox1\n",
        "\n",
        "\n",
        "class BuildDataLoader(torch.utils.data.DataLoader):\n",
        "    def __init__(self, dataset, batch_size, shuffle, num_workers):\n",
        "        self.dataset = dataset\n",
        "        self.batch_size = batch_size\n",
        "        self.shuffle = shuffle\n",
        "        self.num_workers = num_workers      \n",
        "\n",
        "    # output:\n",
        "        # img: (bz, 3, 800, 1088)\n",
        "        # label_list: list, len:bz, each (n_obj,)\n",
        "        # transed_mask_list: list, len:bz, each (n_obj, 800,1088)\n",
        "        # transed_bbox_list: list, len:bz, each (n_obj, 4)\n",
        "        # img: (bz, 3, 300, 400)\n",
        "    def collect_fn(self, batch):\n",
        "        # TODO: collect_fn\n",
        "        transed_img_list = []\n",
        "        label_list = []\n",
        "        transed_mask_list = []\n",
        "        transed_bbox_list = []\n",
        "        for transed_img, label, transed_mask, transed_bbox in batch:\n",
        "            transed_img_list.append(transed_img)\n",
        "            label_list.append(label)\n",
        "            transed_mask_list.append(transed_mask)\n",
        "            transed_bbox_list.append(transed_bbox)\n",
        "        return torch.stack(transed_img_list, dim=0), label_list, transed_mask_list, transed_bbox_list\n",
        "      \n",
        "\n",
        "    def loader(self):\n",
        "      return DataLoader(self.dataset, batch_size=self.batch_size,shuffle=True, collate_fn=self.collect_fn)"
      ],
      "execution_count": null,
      "outputs": []
    },
    {
      "cell_type": "code",
      "metadata": {
        "id": "eDK0AkWtbyCB",
        "colab": {
          "base_uri": "https://localhost:8080/",
          "height": 195,
          "referenced_widgets": [
            "15dbcbc6ebed4ba39736cd1450e08fd7",
            "efd0b8f1d5844516bb1263ea1cebf5ac",
            "bc0b06d904ab45e4996c3ce12442a21d",
            "7046275c7a54466f94aefe6602a6edc6",
            "3aff2172282b4a579c07fcc7a85b5e20",
            "a8aa2958319548b7b731d497103b10a8",
            "cc72bdbd691340a6be28503e8454ee20",
            "5fe10d5a6e51433399af96650463c9fb"
          ]
        },
        "outputId": "4f340e9b-c997-4c68-f6f2-59ec3405d04d"
      },
      "source": [
        "import torchvision\n",
        "import torch\n",
        "\n",
        "\n",
        "def Resnet50Backbone(checkpoint_file=None, device=\"cpu\", eval=True):\n",
        "    model = torchvision.models.detection.maskrcnn_resnet50_fpn(pretrained=False, pretrained_backbone=True)\n",
        "\n",
        "    if eval == True:\n",
        "        model.eval()\n",
        "\n",
        "    # device = torch.device(\"cuda:0\" if torch.cuda.is_available() else \"cpu\")\n",
        "    model.to(device)\n",
        "\n",
        "    resnet50_fpn = model.backbone\n",
        "\n",
        "    if checkpoint_file:\n",
        "        checkpoint = torch.load(checkpoint_file)\n",
        "\n",
        "        resnet50_fpn.load_state_dict(checkpoint['backbone'])\n",
        "\n",
        "    return resnet50_fpn\n",
        "\n",
        "if __name__ == '__main__':\n",
        "    device = torch.device(\"cuda:0\" if torch.cuda.is_available() else \"cpu\")\n",
        "    resnet50_fpn = Resnet50Backbone(device=device)\n",
        "    # backbone = Resnet50Backbone('checkpoint680.pth')\n",
        "    E = torch.ones([2,3,800,1088], device=device)\n",
        "    backout = resnet50_fpn(E)\n",
        "    print(backout.keys())\n",
        "    print(backout[\"0\"].shape)\n",
        "    print(backout[\"1\"].shape)\n",
        "    print(backout[\"2\"].shape)\n",
        "    print(backout[\"3\"].shape)\n",
        "    print(backout[\"pool\"].shape)\n",
        "\n",
        "    # print(torch.nn.functional.interpolate(backout[\"pool\"],size=2).shape) ## check this\n",
        "\n",
        "    # print(torch.cat(backout[\"pool\"],))"
      ],
      "execution_count": null,
      "outputs": [
        {
          "output_type": "stream",
          "text": [
            "Downloading: \"https://download.pytorch.org/models/resnet50-19c8e357.pth\" to /root/.cache/torch/hub/checkpoints/resnet50-19c8e357.pth\n"
          ],
          "name": "stderr"
        },
        {
          "output_type": "display_data",
          "data": {
            "application/vnd.jupyter.widget-view+json": {
              "model_id": "15dbcbc6ebed4ba39736cd1450e08fd7",
              "version_minor": 0,
              "version_major": 2
            },
            "text/plain": [
              "HBox(children=(FloatProgress(value=0.0, max=102502400.0), HTML(value='')))"
            ]
          },
          "metadata": {
            "tags": []
          }
        },
        {
          "output_type": "stream",
          "text": [
            "\n",
            "odict_keys(['0', '1', '2', '3', 'pool'])\n",
            "torch.Size([2, 256, 200, 272])\n",
            "torch.Size([2, 256, 100, 136])\n",
            "torch.Size([2, 256, 50, 68])\n",
            "torch.Size([2, 256, 25, 34])\n",
            "torch.Size([2, 256, 13, 17])\n"
          ],
          "name": "stdout"
        }
      ]
    },
    {
      "cell_type": "markdown",
      "metadata": {
        "id": "lE0Ky6RpFHU_"
      },
      "source": [
        "# solo_head.py"
      ]
    },
    {
      "cell_type": "code",
      "metadata": {
        "id": "Y-O06Zq0FCIU"
      },
      "source": [
        "\n",
        "import torch\n",
        "import torch.nn as nn\n",
        "import torch.nn.functional as F\n",
        "import numpy as np\n",
        "from scipy import ndimage\n",
        "#from dataset import *\n",
        "from functools import partial\n",
        "from scipy.ndimage import measurements\n",
        "\n",
        "class SOLOHead(nn.Module):\n",
        "    def __init__(self,\n",
        "                 num_classes,\n",
        "                 in_channels=256,\n",
        "                 seg_feat_channels=256,\n",
        "                 stacked_convs=7,\n",
        "                 strides=[8, 8, 16, 32, 32],\n",
        "                 scale_ranges=((1, 96), (48, 192), (96, 384), (192, 768), (384, 2048)),\n",
        "                 epsilon=0.2,\n",
        "                 num_grids=[40, 36, 24, 16, 12],\n",
        "                 cate_down_pos=0,\n",
        "                 with_deform=False,\n",
        "                 mask_loss_cfg=dict(weight=3),\n",
        "                 cate_loss_cfg=dict(gamma=2,\n",
        "                                alpha=0.25,\n",
        "                                weight=1),\n",
        "                 postprocess_cfg=dict(cate_thresh=0.2,\n",
        "                                      ins_thresh=0.5,\n",
        "                                      pre_NMS_num=50,\n",
        "                                      keep_instance=5,\n",
        "                                      IoU_thresh=0.5)):\n",
        "        super(SOLOHead, self).__init__()\n",
        "        self.num_classes = num_classes\n",
        "        self.seg_num_grids = num_grids\n",
        "        self.cate_out_channels = self.num_classes - 1\n",
        "        self.in_channels = in_channels\n",
        "        self.seg_feat_channels = seg_feat_channels\n",
        "        self.stacked_convs = stacked_convs\n",
        "        self.strides = strides\n",
        "        self.epsilon = epsilon\n",
        "        self.cate_down_pos = cate_down_pos\n",
        "        self.scale_ranges = scale_ranges\n",
        "        self.with_deform = with_deform\n",
        "\n",
        "        self.mask_loss_cfg = mask_loss_cfg\n",
        "        self.cate_loss_cfg = cate_loss_cfg\n",
        "        self.postprocess_cfg = postprocess_cfg\n",
        "        # initialize the layers for cate and mask branch, and initialize the weights\n",
        "        self._init_layers()\n",
        "        self._init_weights()\n",
        "        self.device = torch.device(\"cuda:0\" if torch.cuda.is_available() else \"cpu\")\n",
        "\n",
        "        # check flag\n",
        "        # assert len(self.ins_head) == self.stacked_convs\n",
        "        # assert len(self.cate_head) == self.stacked_convs\n",
        "        # assert len(self.ins_out_list) == len(self.strides)\n",
        "\n",
        "    # This function build network layer for cate and ins branch\n",
        "    # it builds 4 self.var\n",
        "        # self.cate_head is nn.ModuleList 7 inter-layers of conv2d\n",
        "        # self.ins_head is nn.ModuleList 7 inter-layers of conv2d\n",
        "        # self.cate_out is 1 out-layer of conv2d\n",
        "        # self.ins_out_list is nn.ModuleList len(self.seg_num_grids) out-layers of conv2d, one for each fpn_feat\n",
        "    def _init_layers(self):\n",
        "        ## TODO initialize layers: stack intermediate layer and output layer\n",
        "        # define groupnorm\n",
        "        num_groups = 32\n",
        "        # initial the two branch head modulelist\n",
        "        self.cate_head = nn.ModuleList([nn.Sequential(nn.Conv2d(256,256,3,stride=1,padding=1,bias=False),nn.GroupNorm(num_groups,256),nn.ReLU()) for i in range(7)])\n",
        "        self.cate_out = nn.Sequential(nn.Conv2d(256,3,3,padding=1,bias=True),nn.Sigmoid())\n",
        "        self.ins_head = nn.ModuleList([nn.Sequential(nn.Conv2d(258,256,3,stride=1,padding=1,bias=False),nn.GroupNorm(num_groups,256),nn.ReLU()),nn.Sequential(nn.Conv2d(256,256,3,stride=1,padding=1,bias=False),nn.GroupNorm(num_groups,256),nn.ReLU()),nn.Sequential(nn.Conv2d(256,256,3,stride=1,padding=1,bias=False),nn.GroupNorm(num_groups,256),nn.ReLU()),nn.Sequential(nn.Conv2d(256,256,3,stride=1,padding=1,bias=False),nn.GroupNorm(num_groups,256),nn.ReLU()),nn.Sequential(nn.Conv2d(256,256,3,stride=1,padding=1,bias=False),nn.GroupNorm(num_groups,256),nn.ReLU()),nn.Sequential(nn.Conv2d(256,256,3,stride=1,padding=1,bias=False),nn.GroupNorm(num_groups,256),nn.ReLU()),nn.Sequential(nn.Conv2d(256,256,3,stride=1,padding=1,bias=False),nn.GroupNorm(num_groups,256),nn.ReLU())])\n",
        "        self.ins_out_list = nn.ModuleList([nn.Sequential(nn.Conv2d(256,numGrid**2,1,padding=0,bias=True),nn.Sigmoid()) for numGrid in self.seg_num_grids])\n",
        "\n",
        "    # This function initialize weights for head network\n",
        "    def _init_weights(self):\n",
        "        ## TODO: initialize the weights\n",
        "        i = 0\n",
        "        j = 0\n",
        "        while i < len(self.cate_head) or j < len(self.ins_head):\n",
        "            if i < len(self.cate_head):\n",
        "                nn.init.xavier_uniform_(self.cate_head[i][0].weight)\n",
        "                \n",
        "                i = i+1\n",
        "            if j < len(self.ins_head):\n",
        "                nn.init.xavier_uniform_(self.ins_head[j][0].weight)\n",
        "                # self.ins_head[j][0].weight.to(self.device)\n",
        "                j = j+1\n",
        "        for k in range(len(self.ins_out_list)):\n",
        "            nn.init.xavier_uniform_(self.ins_out_list[k][0].weight)\n",
        "\n",
        "\n",
        "    # Forward function should forward every levels in the FPN.\n",
        "    # this is done by map function or for loop\n",
        "    # Input:\n",
        "        # fpn_feat_list: backout_list of resnet50-fpn#             #print('H_FEAT',H_FEAT)\n",
        "#             print('W_FEAT',W_FEAT)\n",
        "#             print('FRAC_H',FRAC_H)\n",
        "#             print('FRAC_W',FRAC_W)\n",
        "    # Output:\n",
        "        # if eval = False\n",
        "            # cate_pred_list: list, len(fpn_level), each (bz,C-1,S,S)\n",
        "            # ins_pred_list: list, len(fpn_level), each (bz, S^2, 2H_feat, 2W_feat)\n",
        "        # if eval==True\n",
        "            # cate_pred_list: list, len(fpn_level), each (bz,S,S,C-1) / after point_NMS\n",
        "            # ins_pred_list: list, len(fpn_level), each (bz, S^2, Ori_H, Ori_W) / after upsampling\n",
        "    def forward(self, fpn_feat_list, eval=False):\n",
        "#         for i in range(len(fpn_feat_list)):\n",
        "# #             print('NEW',new_fpn_list[i].shape)\n",
        "#             print('OLD',fpn_feat_list[i].shape)\n",
        "#         print()\n",
        "        new_fpn_list = self.NewFPN(fpn_feat_list) # stride[8,8,16,32,32]\n",
        "        # for i in range(len(new_fpn_list)):\n",
        "            #print('NEW',new_fpn_list[i].shape)\n",
        "        #print()\n",
        "        # assert new_fpn_list[0].shape[1:] == (256,100,136)\n",
        "        quart_shape = [new_fpn_list[0].shape[-2]*2, new_fpn_list[0].shape[-1]*2]  # stride: 4\n",
        "#         print('Quart Shape',quart_shape)\n",
        "        # TODO: use MultiApply to compute cate_pred_list, ins_pred_list. Parallel w.r.t. feature level.\n",
        "        cate_pred_list, ins_pred_list = self.MultiApply(self.forward_single_level,\n",
        "                                                        new_fpn_list,\n",
        "                                                        list(range(len(new_fpn_list))),\n",
        "                                                        eval = eval,\n",
        "                                                        upsample_shape = quart_shape)\n",
        "        \n",
        "        # assert len(new_fpn_list) == len(self.seg_num_grids)\n",
        "\n",
        "        # assert cate_pred_list[1].shape[1] == self.cate_out_channels\n",
        "        # assert ins_pred_list[1].shape[1] == self.seg_num_grids[1]**2\n",
        "        # assert cate_pred_list[1].shape[2] == self.seg_num_grids[1]\n",
        "        return cate_pred_list, ins_pred_list\n",
        "\n",
        "    # This function upsample/downsample the fpn level for the network\n",
        "    # In paper author change the original fpn level resolution\n",
        "    # Input:\n",
        "        # fpn_feat_list, list, len(FPN), stride[4,8,16,32,64]\n",
        "    # Output:\n",
        "    # new_fpn_list, list, len(FPN), stride[8,8,16,32,32]\n",
        "    def NewFPN(self, fpn_feat_list):\n",
        "\n",
        "        new_fpn_list = fpn_feat_list\n",
        "        new_fpn_list[0] = torch.nn.functional.interpolate(fpn_feat_list[0],scale_factor=0.5,mode='bilinear')\n",
        "        new_fpn_list[-1] = torch.nn.functional.interpolate(fpn_feat_list[-1],size=(25,34),mode='bilinear')\n",
        "        return new_fpn_list\n",
        "\n",
        "    # This function forward a single level of fpn_feat map through the network\n",
        "    # Input:\n",
        "        # fpn_feat: (bz, fpn_channels(256), H_feat, W_feat)\n",
        "        # idx: indicate the fpn level idx, num_grids idx, the ins_out_layer idx\n",
        "    # Output:\n",
        "        # if eval==False\n",
        "            # cate_pred: (bz,C-1,S,S)\n",
        "            # ins_pred: (bz, S^2, 2H_feat, 2W_feat)\n",
        "        # if eval==True\n",
        "            # cate_pred: (bz,S,S,C-1) / after point_NMS\n",
        "            # ins_pred: (bz, S^2, Ori_H/4, Ori_W/4) / after upsampling\n",
        "    def forward_single_level(self, fpn_feat, idx, eval=False, upsample_shape=None):\n",
        "\n",
        "        cate_pred = fpn_feat.cuda()\n",
        "        ins_pred = fpn_feat.cuda()\n",
        "        # num_grid = self.seg_num_grids[idx]  # current level grid\n",
        "        #print('category before pass: ',cate_pred.shape)\n",
        "\n",
        "        # for i,layer in enumerate(self.cate_head):\n",
        "        #     cate_pred = layer(cate_pred)\n",
        "        cate_pred = torch.nn.functional.interpolate(cate_pred,size=self.seg_num_grids[idx], mode='bilinear')\n",
        "        cate_pred = self.cate_head[0](cate_pred)\n",
        "        cate_pred = self.cate_head[1](cate_pred)\n",
        "        cate_pred = self.cate_head[2](cate_pred)\n",
        "        cate_pred = self.cate_head[3](cate_pred)\n",
        "        cate_pred = self.cate_head[4](cate_pred)\n",
        "        cate_pred = self.cate_head[5](cate_pred)\n",
        "        cate_pred = self.cate_head[6](cate_pred)\n",
        "            \n",
        "        cate_pred = self.cate_out(cate_pred)\n",
        "        #print('category tensor after pass: ',cate_pred.shape)\n",
        "        # device = torch.device(\"cuda:0\" if torch.cuda.is_available() else \"cpu\")\n",
        "        bz = fpn_feat.shape[0]\n",
        "        H_FEAT = fpn_feat.shape[2]\n",
        "        W_FEAT = fpn_feat.shape[3]\n",
        "        yv, xv = torch.meshgrid([torch.linspace(-1,1,H_FEAT), torch.linspace(-1,1,W_FEAT)])\n",
        "        yv = yv.to(self.device)\n",
        "        xv = xv.to(self.device)\n",
        "        yv = yv.view(1,1,H_FEAT,W_FEAT)\n",
        "        yv = torch.cat([yv]*bz)\n",
        "        xv = xv.view(1,1,H_FEAT,W_FEAT)\n",
        "        xv = torch.cat([xv]*bz)\n",
        "        #print('xv: ',xv.shape)\n",
        "        #print('yv: ',yv.shape)\n",
        "\n",
        "        ins_pred = torch.cat([ins_pred,xv,yv],1)\n",
        "#         torch.cat([ins_pred[1],xv,yv],0)\n",
        "        #print('ins_pred tensor after concat: ', ins_pred.shape)\n",
        "\n",
        "        # for i,layer in enumerate(self.ins_head):\n",
        "        #     ins_pred = layer(ins_pred)\n",
        "        \n",
        "        ins_pred = self.ins_head[0](ins_pred)\n",
        "        ins_pred = self.ins_head[1](ins_pred)\n",
        "        ins_pred = self.ins_head[2](ins_pred)\n",
        "        ins_pred = self.ins_head[3](ins_pred)\n",
        "        ins_pred = self.ins_head[4](ins_pred)\n",
        "        ins_pred = self.ins_head[5](ins_pred)\n",
        "        ins_pred = self.ins_head[6](ins_pred)\n",
        "        \n",
        "        ins_pred = self.ins_out_list[idx](ins_pred)\n",
        "        #print('ins_pred after forward pass: ', ins_pred.shape)\n",
        "        \n",
        "        # in inference time, upsample the pred to (ori image size/4)\n",
        "        if eval == True:\n",
        "            ## TODO resize ins_pred            \n",
        "            cate_pred = torch.nn.functional.interpolate(cate_pred,size=self.seg_num_grids[idx],mode='bilinear')\n",
        "            cate_pred = self.points_nms(cate_pred).permute(0,2,3,1)\n",
        "            #print('eval=false modification for cat: ',cate_pred.shape)\n",
        "            \n",
        "            # ORI_H = 800\n",
        "            # ORI_W = 1088\n",
        "            # FRAC_H = (ORI_H/4)/H_FEAT\n",
        "            # FRAC_W= (ORI_W/4)/W_FEAT\n",
        "            #print('eval=false modification for ins (BEFORE): ', ins_pred.shape)\n",
        "            ins_pred = torch.nn.functional.interpolate(ins_pred,size=upsample_shape, mode='bilinear')\n",
        "            #print('eval=false modification for ins (AFTER): ', ins_pred.shape)\n",
        "\n",
        "        # check flag\n",
        "        if eval == False:\n",
        "            # cate_pred = torch.nn.functional.interpolate(cate_pred,size=self.seg_num_grids[idx], mode='bilinear')\n",
        "            #print('eval=false modification for cat: ',cate_pred.shape)\n",
        "            \n",
        "            #print('eval=false modification for ins (BEFORE): ', ins_pred.shape)\n",
        "            ins_pred = torch.nn.functional.interpolate(ins_pred,size=(2*H_FEAT,2*W_FEAT), mode='bilinear')\n",
        "            #print('eval=false modification for ins (AFTER): ', ins_pred.shape)\n",
        "            \n",
        "            # assert cate_pred.shape[1:] == (3, num_grid, num_grid)\n",
        "            # assert ins_pred.shape[1:] == (num_grid**2, fpn_feat.shape[2]*2, fpn_feat.shape[3]*2)\n",
        "        else:\n",
        "            pass\n",
        "        #print()\n",
        "        return cate_pred, ins_pred\n",
        "\n",
        "    # Credit to SOLO Author's code\n",
        "    # This function do a NMS on the heat map(cate_pred), grid-level\n",
        "    # Input:\n",
        "        # heat: (bz,C-1, S, S)\n",
        "    # Output:\n",
        "        # (bz,C-1, S, S)\n",
        "    def points_nms(self, heat, kernel=2):\n",
        "        # kernel must be 2\n",
        "        hmax = nn.functional.max_pool2d(\n",
        "            heat, (kernel, kernel), stride=1, padding=1)\n",
        "        keep = (hmax[:, :, :-1, :-1] == heat).float()\n",
        "        return heat * keep\n",
        "\n",
        "    def loss(self,cate_pred_list,ins_pred_list,ins_gts_list,ins_ind_gts_list,cate_gts_list):\n",
        "        ins_gts = [torch.cat([ins_labels_level_img[ins_ind_labels_level_img,...]for ins_labels_level_img,ins_ind_labels_level_img in zip(ins_labels_level,ins_ind_labels_level)],0)\\\n",
        "                  for ins_labels_level,ins_ind_labels_level in zip(zip(*ins_gts_list),zip(*ins_ind_gts_list))]\n",
        "        ins_preds = [torch.cat([ins_preds_level_img[ins_ind_labels_level_img,...]\\\n",
        "                               for ins_preds_level_img,ins_ind_labels_level_img in\\\n",
        "                               zip(ins_preds_level,ins_ind_labels_level)],0)\\\n",
        "                    for ins_preds_level,ins_ind_labels_level in\\\n",
        "                    zip(ins_pred_list,zip(*ins_ind_gts_list))]\n",
        "        cate_gts = [torch.cat([cate_gts_level_img.flatten()\\\n",
        "                               for cate_gts_level_img in cate_gts_level])\\\n",
        "                    for cate_gts_level in zip(*cate_gts_list)]\n",
        "        cate_gts = torch.cat(cate_gts)\n",
        "        cate_preds = [cate_pred_level.permute(0,2,3,1).reshape(-1,self.cate_out_channels)\\\n",
        "                      for cate_pred_level in cate_pred_list]\n",
        "        cate_preds = torch.cat(cate_preds,0)\n",
        "\n",
        "        ##Loss Computation\n",
        "        cate_loss = self.FocalLoss(cate_preds,cate_gts)\n",
        "        mask_loss = 0\n",
        "        # start = time.time()\n",
        "        total_masks = 0.0000001\n",
        "        for level in range(len(ins_preds)):\n",
        "          level_mask_loss = 0\n",
        "          for i in range(len(ins_preds[level])):\n",
        "            level_mask_loss += 1-self.DiceLoss(ins_preds[level][i].cpu(),ins_gts[level][i].cpu())\n",
        "          total_masks += ins_preds[level].size(0)\n",
        "          mask_loss += level_mask_loss\n",
        "        mask_loss /= total_masks\n",
        "        # print('Time Taken={}'.format(time.time()-start))\n",
        "        total_loss = cate_loss + self.mask_loss_cfg['weight']*mask_loss\n",
        "        return cate_loss,mask_loss,total_loss\n",
        "        \n",
        "\n",
        "\n",
        "    # This function compute the DiceLoss\n",
        "    # Input:\n",
        "        # mask_pred: (2H_feat, 2W_feat)\n",
        "        # mask_gt: (2H_feat, 2W_feat)\n",
        "    # Output: dice_loss, scalar\n",
        "    def DiceLoss(self, mask_pred, mask_gt):\n",
        "        ## TODO: compute DiceLoss\n",
        "        # print(mask_pred.is_cuda,mask_gt.is_cuda)\n",
        "        DL = 2*torch.sum(mask_pred*mask_gt)/(torch.sum(mask_pred*mask_pred)+torch.sum(mask_gt*mask_gt))\n",
        "        return DL\n",
        "\n",
        "    # This function compute the cate loss\n",
        "    # Input:\n",
        "        # cate_preds: (num_entry, C-1)\n",
        "        # cate_gts: (num_entry,)\n",
        "    # Output: focal_loss, scalar\n",
        "    def FocalLoss(self, cate_preds, cate_gts):\n",
        "        ## TODO: compute focalloss\n",
        "        # start = time.time()\n",
        "        pt = torch.flatten(cate_preds).cpu()\n",
        "        cate_gts = cate_gts.reshape(cate_gts.size(0),1)\n",
        "        cate_onehot_gts = (cate_gts.cpu() == torch.arange(self.cate_out_channels+1).reshape(1,self.cate_out_channels+1)).float()\n",
        "        cate_onehot_gts = cate_onehot_gts[:,1:]\n",
        "        y = torch.flatten(cate_onehot_gts)\n",
        "        # print(pt.is_cuda,y.is_cuda,sep='\\n')\n",
        "        focal_loss = -0.25*y*(1-pt)**2*torch.log(pt)-0.75*(1-y)*(1-(1-pt))**2*torch.log(1-pt)\n",
        "        focal_loss /= focal_loss.size(0)\n",
        "        FL = torch.sum(focal_loss)\n",
        "        # print('time taken:{}'.format(time.time()-start))\n",
        "        return FL\n",
        "\n",
        "\n",
        "    def MultiApply(self, func, *args, **kwargs):\n",
        "        pfunc = partial(func, **kwargs) if kwargs else func\n",
        "        map_results = map(pfunc, *args)\n",
        "\n",
        "        return tuple(map(list, zip(*map_results)))\n",
        "\n",
        "    # This function build the ground truth tensor for each batch in the training\n",
        "    # Input:\n",
        "        # ins_pred_list: list, len(fpn_level), each (bz, S^2, 2H_feat, 2W_feat)\n",
        "        # / ins_pred_list is only used to record feature map\n",
        "        # bbox_list: list, len(batch_size), each (n_object, 4) (x1y1x2y2 system)\n",
        "        # label_list: list, len(batch_size), each (n_object, )\n",
        "        # mask_list: list, len(batch_size), each (n_object, 800, 1088)\n",
        "    # Output:\n",
        "        # ins_gts_list: list, len(bz), list, len(fpn), (S^2, 2H_f, 2W_f)\n",
        "        # ins_ind_gts_list: list, len(bz), list, len(fpn), (S^2,)\n",
        "        # cate_gts_list: list, len(bz), list, len(fpn), (S, S), {1,2,3}\n",
        " \n",
        "\n",
        "    def target(self,ins_pred_list,bbox_list,label_list,mask_list):\n",
        "        \n",
        "        #final_prediction = [] \n",
        "        # for i in range(len(ins_pred_list)):\n",
        "        #     final_prediction.append((ins_pred_list[1],ins_pred_list[2],ins_pred_list[3]))\n",
        "        \n",
        "        feat_map_list = [(100,136),(100,136),(50,68),(25,34),(25,34)] # already doubled\n",
        "        ins_gts_list,ins_ind_gts_list,cate_gts_list = self.MultiApply(self.target_single_img,bbox_list,label_list,mask_list, featmap_sizes= feat_map_list)\n",
        "        \n",
        "        # # TODO: use MultiApply to compute ins_gts_list, ins_ind_gts_list, cate_gts_list. Parallel w.r.t. img mini-batch\n",
        "        # # remember, you want to construct target of the same resolution as prediction output in training\n",
        "\n",
        "        # # check flag\n",
        "        # assert ins_gts_list[0][1].shape == (self.seg_num_grids[1]**2, 200, 272)\n",
        "        # assert ins_ind_gts_list[0][1].shape == (self.seg_num_grids[1]**2,)\n",
        "        # assert cate_gts_list[0][1].shape == (self.seg_num_grids[1], self.seg_num_grids[1])\n",
        "\n",
        "        return ins_gts_list, ins_ind_gts_list, cate_gts_list\n",
        "    # -----------------------------------\n",
        "    ## process single image in one batch\n",
        "    # -----------------------------------\n",
        "    # input:\n",
        "        # gt_bboxes_raw: n_obj, 4 (x1y1x2y2 system)\n",
        "        # gt_labels_raw: n_obj,\n",
        "        # gt_masks_raw: n_obj, H_ori, W_ori\n",
        "        # featmap_sizes: list of shapes of featmap\n",
        "    # output:\n",
        "        # ins_label_list: list, len: len(FPN), (S^2, 2H_feat, 2W_feat)\n",
        "        # cate_label_list: list, len: len(FPN), (S, S)\n",
        "        # ins_ind_label_list: list, len: len(FPN), (S^2, )\n",
        "    def target_single_img(self,\n",
        "                          gt_bboxes_raw,\n",
        "                          gt_labels_raw,\n",
        "                          gt_masks_raw,\n",
        "                          featmap_sizes=None):\n",
        "        ## TODO: finish single image target build\n",
        "        # compute the area of every object in this single image\n",
        "        # initial the output list, each entry for one featmap\n",
        "        ins_label_list = []\n",
        "        ins_ind_label_list = []\n",
        "        cate_label_list = []\n",
        "        for index,s in enumerate(self.seg_num_grids):\n",
        "            #Extracting the h and w value and doubling them \n",
        "            double_h_val = featmap_sizes[index][0] *2\n",
        "            double_w_val = featmap_sizes[index][1] *2\n",
        "            #Taking the s value \n",
        "            #Min and Max range based on FPN layers \n",
        "            minimum_scale = self.scale_ranges[index][0]\n",
        "            maximum_scale = self.scale_ranges[index][1]\n",
        "            #Initializing the output\n",
        "            cate_label = torch.zeros(s,s,device=self.device)\n",
        "            ins_label = torch.zeros(s*s,double_h_val,double_w_val,device=self.device)\n",
        "            ins_ind_label = torch.zeros(s*s,device=self.device)\n",
        "\n",
        "            #Calculating center of mass and appending to the list\n",
        "            for i in range(len(gt_bboxes_raw)):\n",
        "                x1,y1,x2,y2 = gt_bboxes_raw[i]\n",
        "                label_val = gt_labels_raw[i]\n",
        "                mask_val = gt_masks_raw[i]\n",
        "                # mask_val = mask_val.double().numpy()\n",
        "                instance_scale = ((y2-y1)*(x2-x1))**0.5\n",
        "                #Check the ranges for the instance scale\n",
        "                if instance_scale > minimum_scale and instance_scale < maximum_scale:\n",
        "                    center_height,center_width = measurements.center_of_mass(mask_val.double().numpy())\n",
        "                    #Fetching the height and width of the mask \n",
        "                    ori_h =  mask_val.shape[0]\n",
        "                    ori_w =  mask_val.shape[1]\n",
        "                    # print(\"ori_h\",ori_h)\n",
        "                    # print(\"ori_w\",ori_w)\n",
        "                    #Calculating the epsilon height and the width(multiplying epsilon with ori_h and ori_w)\n",
        "                    y_diff,x_diff = y2-y1, x2-x1\n",
        "                    epsilon_height = (self.epsilon*y_diff)/2\n",
        "                    epsilon_width = (self.epsilon*x_diff)/2\n",
        "                    #Calculating the image center \n",
        "                    center_grid_height = int(center_height/ori_h*s)\n",
        "                    center_grid_width = int(center_width/ori_w*s)\n",
        "                    #Coordinates calculation for the grid \n",
        "                    top = max(0,int((center_height-epsilon_height)/ori_h*s))\n",
        "                    bottom = min(s-1, int((center_height+ epsilon_height)/ori_h*s))\n",
        "                    left = max(0,int((center_width-epsilon_width)/ori_w*s))\n",
        "                    right = min(s-1,int((center_width+epsilon_width)/ori_w*s))\n",
        "                    #Constraining it within 3x3 grid \n",
        "                    top_val = max(top,center_grid_height - 1)\n",
        "                    bottom_val = min(bottom,center_grid_height + 1)\n",
        "                    left_val = max(left,center_grid_width - 1)\n",
        "                    right_val = min(right,center_grid_width + 1)\n",
        "                    #Unsqueezing the mask twice to get the right dimension\n",
        "                    mask_val = torch.unsqueeze(mask_val,0)\n",
        "                    mask_val = torch.unsqueeze(mask_val,0)\n",
        "                    scaling_gt_mask = F.interpolate(mask_val,size=(double_h_val,double_w_val),mode='bilinear')\n",
        "                    mask_val = torch.squeeze(mask_val,0)\n",
        "                    mask_val = torch.squeeze(mask_val,0)\n",
        "                    for i in range(top_val,bottom_val+1):\n",
        "                        for id in range(left_val,right_val+1):\n",
        "                            combined_ij = i*s + id\n",
        "                            ins_label[combined_ij]=scaling_gt_mask\n",
        "                            ins_ind_label[combined_ij]=1\n",
        "                            cate_label[i][id] = label_val\n",
        "\n",
        "          \n",
        "            ins_label_list.append(ins_label)\n",
        "            ins_ind_label_list.append(ins_ind_label.type(torch.BoolTensor).to(self.device))\n",
        "            cate_label_list.append(cate_label)\n",
        "            # print(i)\n",
        "        # print('ins_label.shape: ',ins_label_list[1].shape)\n",
        "        # print('ins_in_label.shape: ',ins_ind_label_list[1].shape)\n",
        "        # print('cate_label.shape: ',cate_label_list[1].shape)\n",
        "        # print()\n",
        "\n",
        "        # check flag\n",
        "        # print('ins_label_list.shape: ',ins_label_list[1].shape)\n",
        "        # print('ins_ind_label_list[1].shape: ',ins_ind_label_list[1].shape)\n",
        "        # print('cate_label_list[1].shape: ',cate_label_list[1].shape)\n",
        "\n",
        "\n",
        "        # assert ins_label_list[1].shape == (1296,200,272)\n",
        "        # assert ins_ind_label_list[1].shape == (1296,)\n",
        "        # assert cate_label_list[1].shape == (36, 36)\n",
        "\n",
        "        return ins_label_list, ins_ind_label_list, cate_label_list\n",
        "        \n",
        "    # This function receive pred list from forward and post-process\n",
        "    # Input:\n",
        "    #     ins_pred_list: list, len(fpn), (bz,S^2,Ori_H/4, Ori_W/4)\n",
        "    #     cate_pred_list: list, len(fpn), (bz,S,S,C-1)\n",
        "    #     ori_size: [ori_H, ori_W]\n",
        "    # Output:\n",
        "    #     NMS_sorted_scores_list, list, len(bz), (keep_instance,)\n",
        "    #     NMS_sorted_cate_label_list, list, len(bz), (keep_instance,)\n",
        "    #     NMS_sorted_ins_list, list, len(bz), (keep_instance, ori_H, ori_W)\n",
        "    def PostProcess(self,\n",
        "                    ins_pred_list,\n",
        "                    cate_pred_list,\n",
        "                    ori_size):\n",
        "      ori_h = ori_size[0]\n",
        "      ori_w = ori_size[1]\n",
        "      category_list = []\n",
        "      instance_list = []\n",
        "      batch_size = cate_pred_list[0].shape[0]\n",
        "      for fpn_idx, s in enumerate(self.seg_num_grids):\n",
        "        print(\"fpn_idx\",fpn_idx,\" \",\"s\",s,\" \",\"Number of Classes\",self.num_classes - 1)\n",
        "        print(\"Tensor Reshape\",[s*s,self.num_classes-1])\n",
        "      print(\"len(cate_pred_list)\",len(cate_pred_list))\n",
        "      NMS_sorted_scores_list=[]\n",
        "      NMS_sorted_cate_label_list=[]\n",
        "      NMS_sorted_ins_list=[]\n",
        "      for bs in range(batch_size):\n",
        "        for fpn_idx, s in enumerate(self.seg_num_grids):\n",
        "          cate_pred_list_app = torch.zeros(s*s,3)\n",
        "          print(\"Final shape\",cate_pred_list[fpn_idx][bs].shape)\n",
        "          cate_pred_list_app = cate_pred_list[fpn_idx][bs].reshape(s**2,3)\n",
        "          print(\"Reshaped Tensor\",cate_pred_list_app.shape)\n",
        "          category_list.append(cate_pred_list_app)\n",
        "          instance_list.append(ins_pred_list[fpn_idx][bs])\n",
        "        cate_pred_img = torch.cat((category_list[0],category_list[1],category_list[2],category_list[3],category_list[4]),dim=0)\n",
        "        ins_pred_img=torch.cat((instance_list[0],instance_list[1],instance_list[2],instance_list[3],instance_list[4]),dim=0)\n",
        "        print(\"Working\")\n",
        "        print(ins_pred_img.shape)\n",
        "        NMS_sorted_scores,NMS_sorted_cate_label,NMS_sorted_ins=self.MultiApply(self.PostProcessImg,ins_pred_img,cate_pred_img,ori_size)\n",
        "      \n",
        "      return NMS_sorted_scores_list, NMS_sorted_cate_label_list, NMS_sorted_ins_list\n",
        "      \n",
        "    def MatrixNMS(sorted_ins, sorted_scores, method='gauss', gauss_sigma=0.5):\n",
        "    \n",
        "      # print(sorted_ins.shape)\n",
        "      # for k in range(sorted_ins.shape[0]):\n",
        "      #   for i in range(sorted_ins.shape[1]):\n",
        "      #     for j in range(sorted_ins.shape[2]):\n",
        "      #       if sorted_ins[k][i][j] > 0.5:\n",
        "      #         sorted_ins[k][i][j] = 1\n",
        "      #       else:\n",
        "      #         sorted_ins[k][i][j] = 0\n",
        "\n",
        "      N,H,W = sorted_ins.shape[0],sorted_ins.shape[1],sorted_ins.shape[2]\n",
        "      sorted_ins = torch.cuda.FloatTensor(sorted_ins)\n",
        "      sorted_scores = torch.cuda.FloatTensor(sorted_scores)\n",
        "      print(\"N\",N,\" \",\"H\",H,\"W\",W)\n",
        "      sorted_ins = sorted_ins.reshape(N,H*W)\n",
        "      intersection = torch.matmul(sorted_ins,sorted_ins.T)\n",
        "      areas = sorted_ins.sum(dim=1).expand(N,N)\n",
        "      union = areas + areas.T - intersection\n",
        "      ious = (intersection/union).triu(diagonal=1)\n",
        "      print(type(ious))\n",
        "      ious_cmax = ious.max(dim=0)\n",
        "      ious_cmax = ious_cmax[0]\n",
        "      print(type(ious_cmax))\n",
        "      ious_cmax = ious_cmax.expand(N,N).T\n",
        "      if method == 'gauss':\n",
        "        decay = torch.exp(-(ious**2 - ious_cmax**2)/gauss_sigma)\n",
        "      else:\n",
        "        decay = (i-ious)/(i-ious_cmax)\n",
        "      decay = decay.min(dim=0)\n",
        "      decay=decay[0]\n",
        "      return sorted_scores * decay\n",
        "\n",
        "    def PostProcess(self,ins_pred_list,cate_pred_list,ori_size):\n",
        "      ori_h = ori_size[0]\n",
        "      ori_w = ori_size[1]\n",
        "      category_list = []\n",
        "      instance_list = []\n",
        "      batch_size = cate_pred_list[0].shape[0]\n",
        "      for fpn_idx, s in enumerate(self.seg_num_grids):\n",
        "        print(\"fpn_idx\",fpn_idx,\" \",\"s\",s,\" \",\"Number of Classes\",self.num_classes - 1)\n",
        "        print(\"Tensor Reshape\",[s*s,self.num_classes-1])\n",
        "      print(\"len(cate_pred_list)\",len(cate_pred_list))\n",
        "      NMS_sorted_scores_list=[]\n",
        "      NMS_sorted_cate_label_list=[]\n",
        "      NMS_sorted_ins_list=[]\n",
        "      for bs in range(batch_size):\n",
        "        for fpn_idx, s in enumerate(self.seg_num_grids):\n",
        "          cate_pred_list_app = torch.zeros(s*s,3)\n",
        "          print(\"Final shape\",cate_pred_list[fpn_idx][bs].shape)\n",
        "          cate_pred_list_app = cate_pred_list[fpn_idx][bs].reshape(s**2,3)\n",
        "          print(\"Reshaped Tensor\",cate_pred_list_app.shape)\n",
        "          category_list.append(cate_pred_list_app)\n",
        "          instance_list.append(ins_pred_list[fpn_idx][bs])\n",
        "        cate_pred_img = torch.cat((category_list[0],category_list[1],category_list[2],category_list[3],category_list[4]),dim=0)\n",
        "        ins_pred_img=torch.cat((instance_list[0],instance_list[1],instance_list[2],instance_list[3],instance_list[4]),dim=0)\n",
        "        print(\"Working\")\n",
        "        print(ins_pred_img.shape)\n",
        "        NMS_sorted_scores,NMS_sorted_cate_label,NMS_sorted_ins=self.MultiApply(self.PostProcessImg,ins_pred_img,cate_pred_img,ori_size)\n",
        "      \n",
        "      return NMS_sorted_scores_list, NMS_sorted_cate_label_list, NMS_sorted_ins_list\n",
        "\n",
        "    def PostProcessImg(self,\n",
        "                       ins_pred_img,\n",
        "                       cate_pred_img,\n",
        "                       ori_size):\n",
        "      \n",
        "      cmax = max(cate_pred_img)\n",
        "      print(\"CMAX\",cmax)\n",
        "      keep_instance = 5\n",
        "      cate_thresh = 0.2\n",
        "      ins_thresh = 0.5\n",
        "      sorted_scores=[]\n",
        "      sorted_cate_label_list=[]\n",
        "      sorted_ins=[]\n",
        "      #print(\"len(ins_pred_img[0]\",len(ins_pred_img[0]),\" \",\"ins_pred_img[0][0]\",len(ins_pred_img[0][0]))\n",
        "      for b in range(len(cate_pred_img)):\n",
        "        value = torch.max(cate_pred_img[i])\n",
        "        print(\"Value\",value)\n",
        "        if (value>cate_thresh):\n",
        "          s=0\n",
        "          denominator=0\n",
        "          #Searching the grid \n",
        "          for i in range(len(ins_pred_img[0])):\n",
        "            for j in range(len(ins_pred_img[0][0])):\n",
        "              if (ins_pred_img[b][i][j]>ins_thresh):\n",
        "                s+=ins_pred_img[b][i][j]\n",
        "                denominator+=1\n",
        "          #Score Value\n",
        "          s=s/denominator\n",
        "          sorted_scores.append(s)\n",
        "          sorted_cate_label_list.append(cate_pred_img[i])\n",
        "          sorted_ins.append(ins_pred_img[i])\n",
        "\n",
        "      #Sorting the lists based on the sorted_scores\n",
        "      sorted_scores,sorted_cate_label_list,sorted_ins = zip(*sorted(zip(sorted_scores, sorted_cate_label_list,sorted_ins),reverse=True))\n",
        "      # sorted_scores= sorted(sorted_scores,reverse=True)\n",
        "      # sorted_cate_label_list= sorted(sorted_cate_label_list,reverse=True)\n",
        "      # sorted_ins= sorted(sorted_ins,reverse=True)\n",
        "      sorted_scores = sorted_scores[:self.pre_NMS_num]\n",
        "      sorted_cate_label_list = sorted_cate_label_list[:self.pre_NMS_num]\n",
        "      sorted_ins = sorted_ins[:self.pre_NMS_num]      \n",
        "      #Sending the sorted lists into Matrix NMS\n",
        "      decay_scores=self.MultiApply(self.MatrixNMS,sorted_ins,sorted_scores, 'gauss', 0.5).tolist()\n",
        "      #Sorting the lists based on the decay_scores from the \n",
        "      NMS_sorted_scores_list,NMS_sorted_cate_label_list,NMS_sorted_ins_list = zip(*sorted(zip(decay_scores, sorted_cate_label_list,sorted_ins),reverse=True))\n",
        "      NMS_sorted_scores_list = NMS_sorted_scores_list[:self.keep_instance]\n",
        "      NMS_sorted_cate_label_list = NMS_sorted_cate_label_list[:self.keep_instance]\n",
        "      NMS_sorted_ins_list = NMS_sorted_ins_list[:self.keep_instance]\n",
        "      \n",
        "      NMS_sorted_ins_resize_list = []\n",
        "      for ij in range(5):\n",
        "        NMS_sorted_ins_list[ij] = torch.unsqueeze(NMS_sorted_ins_list[ij],0)\n",
        "        NMS_sorted_ins_list[ij] = torch.unsqueeze(NMS_sorted_ins_list[ij],0)\n",
        "        NMS_sorted_ins_list[ij] = F.interpolate(NMS_sorted_ins_list[ij],size=(800,1088),mode='bilinear')\n",
        "        NMS_sorted_ins_list[ij] = torch.squeeze(NMS_sorted_ins_list[ij],0)\n",
        "        NMS_sorted_ins_list[ij] = torch.squeeze(NMS_sorted_ins_list[ij],0)\n",
        "        NMS_sorted_ins_resize_list.append(NMS_sorted_ins_list[ij])\n",
        "\n",
        "\n",
        "      return NMS_sorted_scores_list[:], NMS_sorted_cate_label_list,NMS_sorted_ins_list\n",
        "      \n",
        "  \n",
        "    # This function Postprocess on single img\n",
        "    # Input:\n",
        "        # ins_pred_img: (all_level_S^2, ori_H/4, ori_W/4)\n",
        "        # cate_pred_img: (all_level_S^2, C-1)\n",
        "    # Output:\n",
        "        # NMS_sorted_scores_list, list, len(bz), (keep_instance,)\n",
        "        # NMS_sorted_cate_label_list, list, len(bz), (keep_instance,)\n",
        "        # NMS_sorted_ins_list, list, len(bz), (keep_instance, ori_H, ori_W)\n",
        "\n",
        "\n",
        "    \n",
        "      \n",
        "\n",
        "    # -----------------------------------\n",
        "    ## The following code is for visualization\n",
        "    # -----------------------------------\n",
        "    # this function visualize the ground truth tensor\n",
        "    # Input:\n",
        "        # ins_gts_list: list, len(bz), list, len(fpn), (S^2, 2H_f, 2W_f)\n",
        "        # ins_ind_gts_list: list, len(bz), list, len(fpn), (S^2,)\n",
        "        # cate_gts_list: list, len(bz), list, len(fpn), (S, S), {1,2,3}\n",
        "        # color_list: list, len(C-1)\n",
        "        # img: (bz,3,Ori_H, Ori_W)\n",
        "        ## self.strides: [8,8,16,32,32]\n",
        "    def PlotGT(self,ins_gts_list,ins_ind_gts_list,cate_gts_list,color_list,img):\n",
        "        ## TODO: target image recover, for each image, recover their segmentation in 5 FPN levels.\n",
        "        ## This is an important visual check flag.\n",
        "\n",
        "        #  For the first image, can be any image\n",
        "        #Getting the number of levels of the feature map\n",
        "        # pdb.set_trace()\n",
        "        for val in range(len(ins_gts_list)):\n",
        "            ins_val = ins_gts_list[val]\n",
        "            ins_ind_val = ins_ind_gts_list[val]\n",
        "            cate_val = cate_gts_list[val]\n",
        "            img_val = img[val]\n",
        "            factor = int(len(ins_gts_list[val])/5)\n",
        "            for idx, grid in enumerate(self.seg_num_grids):\n",
        "        #         img_val = transforms.functional.normalize(img_val, (-0.485,-0.456,-0.406),(1/0.229,1/0.224,1/0.225))\n",
        "                img_plot = img_val.data.numpy().transpose((1,2,0)).astype('int')\n",
        "                plt.imshow(img_plot)\n",
        "                for i in range(grid):\n",
        "                    for j in range(grid):\n",
        "                        for k in range(int(len(ins_gts_list[val])/5)):\n",
        "                            if ins_ind_gts_list[val][idx+k*5][i*grid+j] == 1:\n",
        "                                mask_val = ins_gts_list[val][idx+k*5][i*grid+j]\n",
        "                                category = cate_gts_list[val][idx+k*5][i][j].double()\n",
        "                                color = color_list[int(category)-1]\n",
        "                                mask_val = torch.unsqueeze(mask_val,0)\n",
        "                                mask_val = torch.unsqueeze(mask_val,0)\n",
        "                                mask_val = nn.functional.interpolate(mask_val,size=(800,1088),mode='bilinear')\n",
        "                                mask_val = mask_val.squeeze(0)\n",
        "                                mask_val = mask_val.squeeze(0).numpy()\n",
        "                                mask_re = np.reshape(mask_val,(800,1088,1))\n",
        "                                plt_mask = np.ma.masked_where(mask_re==0,mask_re)\n",
        "                                plt_mask = np.squeeze(plt_mask)\n",
        "    #                             plt_mask_list.append(plt_mask)\n",
        "                                plt.imshow(plt_mask,cmap=color,alpha=0.5)\n",
        "                # plt.savefig(\"fig-%d-fpn-%d\" % (val,idx))\n",
        "                plt.show()\n",
        "        \n",
        "\n",
        "    # This function plot the inference segmentation in img\n",
        "    # Input:\n",
        "        # NMS_sorted_scores_list, list, len(bz), (keep_instance,)\n",
        "        # NMS_sorted_cate_label_list, list, len(bz), (keep_instance,)\n",
        "        # NMS_sorted_ins_list, list, len(bz), (keep_instance, ori_H, ori_W)\n",
        "        # color_list: [\"jet\", \"ocean\", \"Spectral\"]\n",
        "        # img: (bz, 3, ori_H, ori_W)\n",
        "    def PlotInfer(self,\n",
        "                  NMS_sorted_scores_list,\n",
        "                  NMS_sorted_cate_label_list,\n",
        "                  NMS_sorted_ins_list,\n",
        "                  color_list,\n",
        "                  img,\n",
        "                  iter_ind):\n",
        "        ## TODO: Plot predictions\n",
        "        pass\n"
      ],
      "execution_count": null,
      "outputs": []
    },
    {
      "cell_type": "code",
      "metadata": {
        "id": "rz0ci-23EtKO"
      },
      "source": [
        "import torch\n",
        "import torch.nn as nn\n",
        "import torch.nn.functional as F\n",
        "import numpy as np\n",
        "from scipy import ndimage\n",
        "# from dataset import *\n",
        "from functools import partial\n",
        "from scipy.ndimage import measurements\n",
        "#from solo_head import *\n",
        "# from backbone import *\n",
        "import cProfile\n",
        "# !pip install pstats\n",
        "import pstats\n",
        "import io\n",
        "import time\n",
        "import pdb\n",
        "import tqdm\n",
        "# from pstats import SortKey\n",
        "# import StringIO"
      ],
      "execution_count": null,
      "outputs": []
    },
    {
      "cell_type": "code",
      "metadata": {
        "id": "A4CgFcnAJ9P6"
      },
      "source": [
        "bboxes_path = '/content/gdrive/My Drive/hw3_mycocodata_bboxes_comp_zlib.npy'\n",
        "imgs_path = '/content/gdrive/My Drive/hw3_mycocodata_img_comp_zlib.h5'\n",
        "masks_path = '/content/gdrive/My Drive/hw3_mycocodata_mask_comp_zlib.h5'\n",
        "labels_path = '/content/gdrive/My Drive/hw3_mycocodata_labels_comp_zlib.npy'\n",
        "bboxes_path = '/content/gdrive/My Drive/hw3_mycocodata_bboxes_comp_zlib.npy'\n",
        "paths = [imgs_path, masks_path, labels_path, bboxes_path]\n",
        "\n",
        "# load the data into data.Dataset\n",
        "dataset = BuildDataset(paths)\n",
        "\n",
        "# build the dataloader\n",
        "# set 20% of the dataset as the training data\n",
        "full_size = len(dataset)\n",
        "train_size = int(full_size * 0.8)\n",
        "test_size = full_size - train_size\n",
        "# random split the dataset into training and testset\n",
        "# set seed\n",
        "torch.random.manual_seed(1)\n",
        "train_dataset, test_dataset = torch.utils.data.random_split(dataset, [train_size, test_size])\n",
        "# push the randomized training data into the dataloader\n",
        "batch_size = 2\n",
        "train_build_loader = BuildDataLoader(train_dataset, batch_size=batch_size, shuffle=True, num_workers=0)\n",
        "train_loader = train_build_loader.loader()\n",
        "test_build_loader = BuildDataLoader(test_dataset, batch_size=1, shuffle=False, num_workers=0)\n",
        "test_loader = test_build_loader.loader()"
      ],
      "execution_count": null,
      "outputs": []
    },
    {
      "cell_type": "code",
      "metadata": {
        "id": "BiPZjSvIJ-Bq"
      },
      "source": [
        "device = torch.device(\"cuda:0\" if torch.cuda.is_available() else \"cpu\")\n",
        "resnet50_fpn = Resnet50Backbone(device=device)"
      ],
      "execution_count": null,
      "outputs": []
    },
    {
      "cell_type": "code",
      "metadata": {
        "id": "zbgex_zMvl8M"
      },
      "source": [
        "solo_head = SOLOHead(num_classes=4) ## class number is 4, because consider the background as one category.\n",
        "solo_head.to(device)\n",
        "optimizer = torch.optim.SGD(solo_head.parameters(),lr=0.01/8,weight_decay=0.0001,momentum=0.9)\n",
        "loss_list = []"
      ],
      "execution_count": null,
      "outputs": []
    },
    {
      "cell_type": "code",
      "metadata": {
        "id": "H9M57S0itvde"
      },
      "source": [
        "a = np.asarray([1,2,3,4])\n",
        "print(a)\n",
        "b = np.zeros(a.shape)\n",
        "print(b.shape)"
      ],
      "execution_count": null,
      "outputs": []
    },
    {
      "cell_type": "code",
      "metadata": {
        "id": "xyfvIfz57eKH"
      },
      "source": [
        "solo_head = SOLOHead(num_classes=4)"
      ],
      "execution_count": null,
      "outputs": []
    },
    {
      "cell_type": "code",
      "metadata": {
        "id": "aGfcfJze7tm0"
      },
      "source": [
        "train(train_loader,36,resnet50_fpn,solo_head)"
      ],
      "execution_count": null,
      "outputs": []
    },
    {
      "cell_type": "markdown",
      "metadata": {
        "id": "OcQ6rTG6d2e7"
      },
      "source": [
        "# Training Loop"
      ]
    },
    {
      "cell_type": "code",
      "metadata": {
        "id": "t9-aeMi7iHg_",
        "colab": {
          "base_uri": "https://localhost:8080/",
          "height": 1000
        },
        "outputId": "64d066d7-26c7-4024-d82a-73edee64be83"
      },
      "source": [
        "device = torch.device(\"cuda:0\" if torch.cuda.is_available() else \"cpu\")\n",
        "solo_head = solo_head.to(device)\n",
        "resnet50_fpn = Resnet50Backbone(device=device)\n",
        "optimizer = torch.optim.SGD(solo_head.parameters(),lr=0.01,momentum=0.9,weight_decay=0.0001)\n",
        "epochsdone = 0\n",
        "path = ''\n",
        "num_epochs = 36\n",
        "resume=False\n",
        "if resume:\n",
        "  path = '/content/gdrive/My Drive/CIS680_Rectified/SOLO_FINALNORMALIZATION/Result16'+str(resume_epoch)\n",
        "  checkpoint = torch.load(path)\n",
        "  solo_head.load_state_dict(checkpoint['model_state_dict'])\n",
        "  optimizer.load_state_dict(checkpoint['optimizer_state_dict'])\n",
        "  epochsdone = checkpoint['epoch']\n",
        "\n",
        "Mask_loss = []\n",
        "Focal_loss = []\n",
        "Total_loss = []\n",
        "Iters = []\n",
        "num_iters = 0\n",
        "tot_cumulative_loss = 0\n",
        "mask_cumulative_loss = 0\n",
        "focal_cumulative_loss = 0\n",
        "for epochs in tqdm.tqdm(range(num_epochs-epochsdone)):\n",
        "  start = time.time()\n",
        "  solo_head.train()\n",
        "  if epochs+epochsdone == 26:\n",
        "    optimizer = torch.optim.SGD(solo_head.parameters(),lr=0.01/10,momentum=0.9,weight_decay=0.0001)\n",
        "\n",
        "  if epochs+epochsdone == 33:\n",
        "    optimizer = torch.optim.SGD(solo_head.parameters(),lr=0.01/100,momentum=0.9,weight_decay=0.0001)\n",
        "\n",
        "\n",
        "  for i, data in enumerate(train_loader,0):\n",
        "    num_iters += 1\n",
        "    optimizer.zero_grad()\n",
        "    img, label_list, mask_list, bbox_list = [data[i] for i in range(len(data))]\n",
        "    img = img.float()\n",
        "    img=img.to(device)\n",
        "    with torch.no_grad():\n",
        "      backout = resnet50_fpn(img)\n",
        "      fpn_feat_list = list(backout.values())\n",
        "    del img\n",
        "    ## passing through the network\n",
        "    cate_pred_list,ins_pred_list = solo_head.forward(fpn_feat_list)\n",
        "    del fpn_feat_list\n",
        "    torch.cuda.empty_cache()\n",
        "    ##building Target\n",
        "\n",
        "\n",
        "    ins_gts_list, ins_ind_gts_list, cate_gts_list = solo_head.target(ins_pred_list,bbox_list,label_list,mask_list)\n",
        "    del bbox_list,label_list,mask_list\n",
        "    focal_loss,mask_loss,total_loss = solo_head.loss(cate_pred_list,ins_pred_list,ins_gts_list,ins_ind_gts_list,cate_gts_list)\n",
        "    total_loss.backward()\n",
        "    optimizer.step()\n",
        "    if num_iters%100 != 0:\n",
        "      tot_cumulative_loss += total_loss\n",
        "      mask_cumulative_loss += mask_loss\n",
        "      focal_cumulative_loss += focal_loss\n",
        "    else:\n",
        "      Total_loss.append(tot_cumulative_loss/100)\n",
        "      Mask_loss.append(mask_cumulative_loss/100)\n",
        "      Focal_loss.append(focal_cumulative_loss/100)\n",
        "      tot_cumulative_loss = 0\n",
        "      mask_cumulative_loss = 0\n",
        "      focal_cumulative_loss = 0\n",
        "      Iters.append(num_iters)\n",
        "      print(\"Epoch Number: {} | Iteration Number: {} | Focal Loss: {} | Mask Loss: {} | Total Loss: {}\".format(epochs+epochsdone+1,num_iters,focal_loss.cpu().item(),(mask_loss*3).cpu().item(),total_loss.cpu().item()))\n",
        "    # Mask_loss.append(mask_loss)\n",
        "    # Total_loss.append(total_loss)\n",
        "    # Focal_loss.append(focal_loss)\n",
        "    # print('Epoch:{} | Focal Loss:{} | Mask Loss:{} | Total Loss:{}'.format(epochs+epochsdone+1,focal_loss.cpu().item(),mask_loss.cpu().item(),total_loss.cpu().item()))\n",
        "  print('time taken in epoch {}:{}'.format(epochs+epochsdone+1,time.time()-start))\n",
        "  ##saving model\n",
        "  path = '/content/gdrive/My Drive/CIS680_Rectified/SOLO_FINALNORMALIZATION/Result1_'+str(epochs+epochsdone+1)\n",
        "  torch.save({\\\n",
        "              'epoch': epochs+1,\\\n",
        "              'model_state_dict': solo_head.state_dict(),\\\n",
        "              'optimizer_state_dict':optimizer.state_dict()\\\n",
        "              },path)\n",
        "\n"
      ],
      "execution_count": null,
      "outputs": [
        {
          "output_type": "stream",
          "text": [
            "\r  0%|          | 0/36 [00:00<?, ?it/s]/usr/local/lib/python3.6/dist-packages/torch/nn/functional.py:3121: UserWarning: Default upsampling behavior when mode=bilinear is changed to align_corners=False since 0.4.0. Please specify align_corners=True if the old behavior is desired. See the documentation of nn.Upsample for details.\n",
            "  \"See the documentation of nn.Upsample for details.\".format(mode))\n",
            "/usr/local/lib/python3.6/dist-packages/torch/nn/functional.py:3000: UserWarning: The default behavior for interpolate/upsample with float scale_factor changed in 1.6.0 to align with other frameworks/libraries, and uses scale_factor directly, instead of relying on the computed output size. If you wish to keep the old behavior, please set recompute_scale_factor=True. See the documentation of nn.Upsample for details. \n",
            "  warnings.warn(\"The default behavior for interpolate/upsample with float scale_factor changed \"\n"
          ],
          "name": "stderr"
        },
        {
          "output_type": "stream",
          "text": [
            "Epoch Number: 1 | Iteration Number: 100 | Focal Loss: 0.0012100033927708864 | Mask Loss: 1.9158353805541992 | Total Loss: 1.9170453548431396\n",
            "Epoch Number: 1 | Iteration Number: 200 | Focal Loss: 0.0006426242180168629 | Mask Loss: 1.9019261598587036 | Total Loss: 1.9025688171386719\n",
            "Epoch Number: 1 | Iteration Number: 300 | Focal Loss: 0.0005826413980685174 | Mask Loss: 1.9408316612243652 | Total Loss: 1.9414143562316895\n",
            "Epoch Number: 1 | Iteration Number: 400 | Focal Loss: 0.0008666443754918873 | Mask Loss: 1.874017596244812 | Total Loss: 1.8748842477798462\n",
            "Epoch Number: 1 | Iteration Number: 500 | Focal Loss: 0.0005805583787150681 | Mask Loss: 0.9843161106109619 | Total Loss: 0.9848966598510742\n",
            "Epoch Number: 1 | Iteration Number: 600 | Focal Loss: 0.0006419949349947274 | Mask Loss: 1.5188802480697632 | Total Loss: 1.5195221900939941\n",
            "Epoch Number: 1 | Iteration Number: 700 | Focal Loss: 0.0007292868685908616 | Mask Loss: 1.6632487773895264 | Total Loss: 1.663978099822998\n",
            "Epoch Number: 1 | Iteration Number: 800 | Focal Loss: 0.0008915654616430402 | Mask Loss: 1.9171195030212402 | Total Loss: 1.9180110692977905\n",
            "Epoch Number: 1 | Iteration Number: 900 | Focal Loss: 0.0007466280367225409 | Mask Loss: 2.119504928588867 | Total Loss: 2.1202516555786133\n",
            "Epoch Number: 1 | Iteration Number: 1000 | Focal Loss: 0.0005014269845560193 | Mask Loss: 1.7846949100494385 | Total Loss: 1.785196304321289\n",
            "Epoch Number: 1 | Iteration Number: 1100 | Focal Loss: 0.0006521429750137031 | Mask Loss: 1.8342726230621338 | Total Loss: 1.8349248170852661\n",
            "Epoch Number: 1 | Iteration Number: 1200 | Focal Loss: 0.00048482607235200703 | Mask Loss: 0.9418748617172241 | Total Loss: 0.9423596858978271\n",
            "Epoch Number: 1 | Iteration Number: 1300 | Focal Loss: 0.0006275161867961287 | Mask Loss: 1.2633872032165527 | Total Loss: 1.264014720916748\n",
            "time taken in epoch 1:348.10882925987244\n"
          ],
          "name": "stdout"
        },
        {
          "output_type": "stream",
          "text": [
            "\r  3%|▎         | 1/36 [05:48<3:23:23, 348.68s/it]"
          ],
          "name": "stderr"
        },
        {
          "output_type": "stream",
          "text": [
            "Epoch Number: 2 | Iteration Number: 1400 | Focal Loss: 0.0003892279928550124 | Mask Loss: 0.9870656728744507 | Total Loss: 0.987454891204834\n",
            "Epoch Number: 2 | Iteration Number: 1500 | Focal Loss: 0.00047418929170817137 | Mask Loss: 0.8888179063796997 | Total Loss: 0.8892921209335327\n",
            "Epoch Number: 2 | Iteration Number: 1600 | Focal Loss: 0.0005147777264937758 | Mask Loss: 1.643347978591919 | Total Loss: 1.6438627243041992\n",
            "Epoch Number: 2 | Iteration Number: 1700 | Focal Loss: 0.00036837937659583986 | Mask Loss: 1.7292677164077759 | Total Loss: 1.7296360731124878\n",
            "Epoch Number: 2 | Iteration Number: 1800 | Focal Loss: 0.0007795807905495167 | Mask Loss: 1.0060864686965942 | Total Loss: 1.0068660974502563\n",
            "Epoch Number: 2 | Iteration Number: 1900 | Focal Loss: 0.0003992696001660079 | Mask Loss: 1.3669075965881348 | Total Loss: 1.3673068284988403\n",
            "Epoch Number: 2 | Iteration Number: 2000 | Focal Loss: 0.00044385064393281937 | Mask Loss: 1.4352638721466064 | Total Loss: 1.435707688331604\n",
            "Epoch Number: 2 | Iteration Number: 2100 | Focal Loss: 0.00039218630990944803 | Mask Loss: 1.194169282913208 | Total Loss: 1.19456148147583\n",
            "Epoch Number: 2 | Iteration Number: 2200 | Focal Loss: 0.0009318445809185505 | Mask Loss: 1.6100094318389893 | Total Loss: 1.6109412908554077\n",
            "Epoch Number: 2 | Iteration Number: 2300 | Focal Loss: 0.0007334667607210577 | Mask Loss: 1.5930280685424805 | Total Loss: 1.5937615633010864\n",
            "Epoch Number: 2 | Iteration Number: 2400 | Focal Loss: 0.0008727255626581609 | Mask Loss: 1.8258572816848755 | Total Loss: 1.8267300128936768\n",
            "Epoch Number: 2 | Iteration Number: 2500 | Focal Loss: 0.0004908591508865356 | Mask Loss: 1.7471179962158203 | Total Loss: 1.7476089000701904\n",
            "Epoch Number: 2 | Iteration Number: 2600 | Focal Loss: 0.0005587085033766925 | Mask Loss: 1.2586649656295776 | Total Loss: 1.2592236995697021\n",
            "time taken in epoch 2:333.08918714523315\n"
          ],
          "name": "stdout"
        },
        {
          "output_type": "stream",
          "text": [
            "\r  6%|▌         | 2/36 [11:22<3:14:58, 344.08s/it]"
          ],
          "name": "stderr"
        },
        {
          "output_type": "stream",
          "text": [
            "Epoch Number: 3 | Iteration Number: 2700 | Focal Loss: 0.00034693116322159767 | Mask Loss: 1.2592363357543945 | Total Loss: 1.2595832347869873\n",
            "Epoch Number: 3 | Iteration Number: 2800 | Focal Loss: 0.0003889689105562866 | Mask Loss: 1.0796829462051392 | Total Loss: 1.0800719261169434\n",
            "Epoch Number: 3 | Iteration Number: 2900 | Focal Loss: 0.0006348611786961555 | Mask Loss: 1.2164466381072998 | Total Loss: 1.2170815467834473\n",
            "Epoch Number: 3 | Iteration Number: 3000 | Focal Loss: 0.00035353319253772497 | Mask Loss: 1.73320734500885 | Total Loss: 1.7335609197616577\n",
            "Epoch Number: 3 | Iteration Number: 3100 | Focal Loss: 0.0004899074556306005 | Mask Loss: 1.3507939577102661 | Total Loss: 1.3512839078903198\n",
            "Epoch Number: 3 | Iteration Number: 3200 | Focal Loss: 0.0005732729332521558 | Mask Loss: 0.9014036655426025 | Total Loss: 0.9019769430160522\n",
            "Epoch Number: 3 | Iteration Number: 3300 | Focal Loss: 0.0008564406889490783 | Mask Loss: 1.035722017288208 | Total Loss: 1.0365784168243408\n",
            "Epoch Number: 3 | Iteration Number: 3400 | Focal Loss: 0.0006947735091671348 | Mask Loss: 1.1960313320159912 | Total Loss: 1.1967260837554932\n",
            "Epoch Number: 3 | Iteration Number: 3500 | Focal Loss: 0.0006850240170024335 | Mask Loss: 2.7336134910583496 | Total Loss: 2.7342984676361084\n",
            "Epoch Number: 3 | Iteration Number: 3600 | Focal Loss: 0.000561328197363764 | Mask Loss: 1.694204330444336 | Total Loss: 1.6947656869888306\n",
            "Epoch Number: 3 | Iteration Number: 3700 | Focal Loss: 0.000602222396992147 | Mask Loss: 0.6099551916122437 | Total Loss: 0.6105574369430542\n",
            "Epoch Number: 3 | Iteration Number: 3800 | Focal Loss: 0.0005477272206917405 | Mask Loss: 1.2457754611968994 | Total Loss: 1.2463232278823853\n",
            "Epoch Number: 3 | Iteration Number: 3900 | Focal Loss: 0.00036188255762681365 | Mask Loss: 1.0953993797302246 | Total Loss: 1.0957612991333008\n",
            "time taken in epoch 3:333.43289160728455\n"
          ],
          "name": "stdout"
        },
        {
          "output_type": "stream",
          "text": [
            "\r  8%|▊         | 3/36 [16:55<3:07:31, 340.96s/it]"
          ],
          "name": "stderr"
        },
        {
          "output_type": "stream",
          "text": [
            "Epoch Number: 4 | Iteration Number: 4000 | Focal Loss: 0.0003604539961088449 | Mask Loss: 0.7778096199035645 | Total Loss: 0.7781700491905212\n",
            "Epoch Number: 4 | Iteration Number: 4100 | Focal Loss: 0.0007685022428631783 | Mask Loss: 1.2915725708007812 | Total Loss: 1.2923411130905151\n",
            "Epoch Number: 4 | Iteration Number: 4200 | Focal Loss: 0.0004431224660947919 | Mask Loss: 1.1733131408691406 | Total Loss: 1.1737562417984009\n",
            "Epoch Number: 4 | Iteration Number: 4300 | Focal Loss: 0.000624137232080102 | Mask Loss: 1.0933479070663452 | Total Loss: 1.093972086906433\n",
            "Epoch Number: 4 | Iteration Number: 4400 | Focal Loss: 0.0006668147980235517 | Mask Loss: 1.8889219760894775 | Total Loss: 1.8895888328552246\n",
            "Epoch Number: 4 | Iteration Number: 4500 | Focal Loss: 0.0010944065870717168 | Mask Loss: 1.4507405757904053 | Total Loss: 1.451835036277771\n",
            "Epoch Number: 4 | Iteration Number: 4600 | Focal Loss: 0.0006888270727358758 | Mask Loss: 1.3474078178405762 | Total Loss: 1.3480966091156006\n",
            "Epoch Number: 4 | Iteration Number: 4700 | Focal Loss: 0.0006615687161684036 | Mask Loss: 1.995666742324829 | Total Loss: 1.996328353881836\n",
            "Epoch Number: 4 | Iteration Number: 4800 | Focal Loss: 0.0008920042309910059 | Mask Loss: 1.4862456321716309 | Total Loss: 1.4871376752853394\n",
            "Epoch Number: 4 | Iteration Number: 4900 | Focal Loss: 0.0006241956725716591 | Mask Loss: 1.023741602897644 | Total Loss: 1.024365782737732\n",
            "Epoch Number: 4 | Iteration Number: 5000 | Focal Loss: 0.0004773375694639981 | Mask Loss: 1.3557965755462646 | Total Loss: 1.356273889541626\n",
            "Epoch Number: 4 | Iteration Number: 5100 | Focal Loss: 0.000797260960098356 | Mask Loss: 2.435593605041504 | Total Loss: 2.4363908767700195\n",
            "Epoch Number: 4 | Iteration Number: 5200 | Focal Loss: 0.0004818494780920446 | Mask Loss: 1.7513526678085327 | Total Loss: 1.751834511756897\n",
            "time taken in epoch 4:332.2961218357086\n"
          ],
          "name": "stdout"
        },
        {
          "output_type": "stream",
          "text": [
            "\r 11%|█         | 4/36 [22:28<3:00:30, 338.44s/it]"
          ],
          "name": "stderr"
        },
        {
          "output_type": "stream",
          "text": [
            "Epoch Number: 5 | Iteration Number: 5300 | Focal Loss: 0.0003804117441177368 | Mask Loss: 0.770598292350769 | Total Loss: 0.7709786891937256\n",
            "Epoch Number: 5 | Iteration Number: 5400 | Focal Loss: 0.0005194832920096815 | Mask Loss: 1.34064781665802 | Total Loss: 1.3411673307418823\n",
            "Epoch Number: 5 | Iteration Number: 5500 | Focal Loss: 0.0004576490609906614 | Mask Loss: 0.9916207790374756 | Total Loss: 0.992078423500061\n",
            "Epoch Number: 5 | Iteration Number: 5600 | Focal Loss: 0.00034243721165694296 | Mask Loss: 0.6735735535621643 | Total Loss: 0.6739159822463989\n",
            "Epoch Number: 5 | Iteration Number: 5700 | Focal Loss: 0.0007124280091375113 | Mask Loss: 2.1450066566467285 | Total Loss: 2.145719051361084\n",
            "Epoch Number: 5 | Iteration Number: 5800 | Focal Loss: 0.0005910915788263083 | Mask Loss: 1.4658377170562744 | Total Loss: 1.4664287567138672\n",
            "Epoch Number: 5 | Iteration Number: 5900 | Focal Loss: 0.00046974795986898243 | Mask Loss: 2.123715400695801 | Total Loss: 2.124185085296631\n",
            "Epoch Number: 5 | Iteration Number: 6000 | Focal Loss: 0.0005660841707140207 | Mask Loss: 1.5977321863174438 | Total Loss: 1.5982983112335205\n",
            "Epoch Number: 5 | Iteration Number: 6100 | Focal Loss: 0.0006279377266764641 | Mask Loss: 1.5255478620529175 | Total Loss: 1.526175856590271\n",
            "Epoch Number: 5 | Iteration Number: 6200 | Focal Loss: 0.00048268132377415895 | Mask Loss: 0.8253037333488464 | Total Loss: 0.8257864117622375\n",
            "Epoch Number: 5 | Iteration Number: 6300 | Focal Loss: 0.0004270679200999439 | Mask Loss: 0.9629368185997009 | Total Loss: 0.9633638858795166\n",
            "Epoch Number: 5 | Iteration Number: 6400 | Focal Loss: 0.0003527744847815484 | Mask Loss: 1.5682685375213623 | Total Loss: 1.568621277809143\n",
            "Epoch Number: 5 | Iteration Number: 6500 | Focal Loss: 0.0005318038747645915 | Mask Loss: 0.9577559232711792 | Total Loss: 0.9582877159118652\n",
            "time taken in epoch 5:332.5316364765167\n"
          ],
          "name": "stdout"
        },
        {
          "output_type": "stream",
          "text": [
            "\r 14%|█▍        | 5/36 [28:01<2:53:59, 336.75s/it]"
          ],
          "name": "stderr"
        },
        {
          "output_type": "stream",
          "text": [
            "Epoch Number: 6 | Iteration Number: 6600 | Focal Loss: 0.0005947301397100091 | Mask Loss: 1.228760004043579 | Total Loss: 1.229354739189148\n",
            "Epoch Number: 6 | Iteration Number: 6700 | Focal Loss: 0.000655311334412545 | Mask Loss: 1.1610958576202393 | Total Loss: 1.1617511510849\n",
            "Epoch Number: 6 | Iteration Number: 6800 | Focal Loss: 0.0005032829358242452 | Mask Loss: 2.2542877197265625 | Total Loss: 2.254791021347046\n",
            "Epoch Number: 6 | Iteration Number: 6900 | Focal Loss: 0.0005369276041164994 | Mask Loss: 1.199726939201355 | Total Loss: 1.2002638578414917\n",
            "Epoch Number: 6 | Iteration Number: 7000 | Focal Loss: 0.0009361990378238261 | Mask Loss: 1.4952220916748047 | Total Loss: 1.496158242225647\n",
            "Epoch Number: 6 | Iteration Number: 7100 | Focal Loss: 0.0006195232272148132 | Mask Loss: 0.7816140651702881 | Total Loss: 0.7822335958480835\n",
            "Epoch Number: 6 | Iteration Number: 7200 | Focal Loss: 0.00039472212665714324 | Mask Loss: 1.6457328796386719 | Total Loss: 1.6461275815963745\n",
            "Epoch Number: 6 | Iteration Number: 7300 | Focal Loss: 0.0005185248446650803 | Mask Loss: 1.0020473003387451 | Total Loss: 1.002565860748291\n",
            "Epoch Number: 6 | Iteration Number: 7400 | Focal Loss: 0.00056468416005373 | Mask Loss: 1.1285197734832764 | Total Loss: 1.1290844678878784\n",
            "Epoch Number: 6 | Iteration Number: 7500 | Focal Loss: 0.0007020183838903904 | Mask Loss: 1.475037693977356 | Total Loss: 1.4757397174835205\n",
            "Epoch Number: 6 | Iteration Number: 7600 | Focal Loss: 0.00048115127719938755 | Mask Loss: 0.9239091873168945 | Total Loss: 0.9243903160095215\n",
            "Epoch Number: 6 | Iteration Number: 7700 | Focal Loss: 0.0006025976035743952 | Mask Loss: 1.3442081212997437 | Total Loss: 1.3448107242584229\n",
            "Epoch Number: 6 | Iteration Number: 7800 | Focal Loss: 0.0003639889182522893 | Mask Loss: 1.20559561252594 | Total Loss: 1.2059595584869385\n",
            "time taken in epoch 6:330.9094729423523\n"
          ],
          "name": "stdout"
        },
        {
          "output_type": "stream",
          "text": [
            "\r 17%|█▋        | 6/36 [33:32<2:47:32, 335.08s/it]"
          ],
          "name": "stderr"
        },
        {
          "output_type": "stream",
          "text": [
            "Epoch Number: 7 | Iteration Number: 7900 | Focal Loss: 0.00047815527068451047 | Mask Loss: 0.8141995668411255 | Total Loss: 0.8146777153015137\n",
            "Epoch Number: 7 | Iteration Number: 8000 | Focal Loss: 0.0006390989292412996 | Mask Loss: 0.9481471180915833 | Total Loss: 0.948786199092865\n",
            "Epoch Number: 7 | Iteration Number: 8100 | Focal Loss: 0.00036205147625878453 | Mask Loss: 2.2988717555999756 | Total Loss: 2.299233913421631\n",
            "Epoch Number: 7 | Iteration Number: 8200 | Focal Loss: 0.000392593297874555 | Mask Loss: 0.8987608551979065 | Total Loss: 0.899153470993042\n",
            "Epoch Number: 7 | Iteration Number: 8300 | Focal Loss: 0.0008242701878771186 | Mask Loss: 0.9330763816833496 | Total Loss: 0.9339006543159485\n",
            "Epoch Number: 7 | Iteration Number: 8400 | Focal Loss: 0.0004972474998794496 | Mask Loss: 0.8855289220809937 | Total Loss: 0.88602614402771\n",
            "Epoch Number: 7 | Iteration Number: 8500 | Focal Loss: 0.0006793796201236546 | Mask Loss: 1.2941709756851196 | Total Loss: 1.2948503494262695\n",
            "Epoch Number: 7 | Iteration Number: 8600 | Focal Loss: 0.0003780374536290765 | Mask Loss: 0.8463094234466553 | Total Loss: 0.8466874361038208\n",
            "Epoch Number: 7 | Iteration Number: 8700 | Focal Loss: 0.0005475247162394226 | Mask Loss: 1.3102874755859375 | Total Loss: 1.3108350038528442\n",
            "Epoch Number: 7 | Iteration Number: 8800 | Focal Loss: 0.0003944764903280884 | Mask Loss: 0.6525399684906006 | Total Loss: 0.6529344320297241\n",
            "Epoch Number: 7 | Iteration Number: 8900 | Focal Loss: 0.0004817828885279596 | Mask Loss: 1.4481462240219116 | Total Loss: 1.4486279487609863\n",
            "Epoch Number: 7 | Iteration Number: 9000 | Focal Loss: 0.00034575205063447356 | Mask Loss: 1.4324088096618652 | Total Loss: 1.4327545166015625\n",
            "Epoch Number: 7 | Iteration Number: 9100 | Focal Loss: 0.0004801603499799967 | Mask Loss: 1.0107802152633667 | Total Loss: 1.0112603902816772\n",
            "time taken in epoch 7:330.98602294921875\n"
          ],
          "name": "stdout"
        },
        {
          "output_type": "stream",
          "text": [
            "\r 19%|█▉        | 7/36 [39:03<2:41:24, 333.94s/it]"
          ],
          "name": "stderr"
        },
        {
          "output_type": "stream",
          "text": [
            "Epoch Number: 8 | Iteration Number: 9200 | Focal Loss: 0.0004127822467125952 | Mask Loss: 0.860653817653656 | Total Loss: 0.8610665798187256\n",
            "Epoch Number: 8 | Iteration Number: 9300 | Focal Loss: 0.0009358102106489241 | Mask Loss: 1.275041937828064 | Total Loss: 1.2759777307510376\n",
            "Epoch Number: 8 | Iteration Number: 9400 | Focal Loss: 0.000416587688960135 | Mask Loss: 0.7597875595092773 | Total Loss: 0.7602041363716125\n",
            "Epoch Number: 8 | Iteration Number: 9500 | Focal Loss: 0.0006415785755962133 | Mask Loss: 1.321641445159912 | Total Loss: 1.3222830295562744\n",
            "Epoch Number: 8 | Iteration Number: 9600 | Focal Loss: 0.0006222570082172751 | Mask Loss: 1.2284241914749146 | Total Loss: 1.2290464639663696\n",
            "Epoch Number: 8 | Iteration Number: 9700 | Focal Loss: 0.0005788918351754546 | Mask Loss: 0.9151577353477478 | Total Loss: 0.9157366156578064\n",
            "Epoch Number: 8 | Iteration Number: 9800 | Focal Loss: 0.0005125256138853729 | Mask Loss: 1.4186023473739624 | Total Loss: 1.4191148281097412\n",
            "Epoch Number: 8 | Iteration Number: 9900 | Focal Loss: 0.0006448606145568192 | Mask Loss: 1.4569635391235352 | Total Loss: 1.4576083421707153\n",
            "Epoch Number: 8 | Iteration Number: 10000 | Focal Loss: 0.00042947669862769544 | Mask Loss: 0.6890485286712646 | Total Loss: 0.6894779801368713\n",
            "Epoch Number: 8 | Iteration Number: 10100 | Focal Loss: 0.0006119129247963428 | Mask Loss: 1.9422361850738525 | Total Loss: 1.9428480863571167\n",
            "Epoch Number: 8 | Iteration Number: 10200 | Focal Loss: 0.0005187945207580924 | Mask Loss: 1.5868706703186035 | Total Loss: 1.5873894691467285\n",
            "Epoch Number: 8 | Iteration Number: 10300 | Focal Loss: 0.00037368593621067703 | Mask Loss: 0.8474694490432739 | Total Loss: 0.8478431105613708\n",
            "Epoch Number: 8 | Iteration Number: 10400 | Focal Loss: 0.0007468252442777157 | Mask Loss: 1.1110581159591675 | Total Loss: 1.1118049621582031\n",
            "time taken in epoch 8:331.3936982154846\n"
          ],
          "name": "stdout"
        },
        {
          "output_type": "stream",
          "text": [
            "\r 22%|██▏       | 8/36 [44:35<2:35:31, 333.25s/it]"
          ],
          "name": "stderr"
        },
        {
          "output_type": "stream",
          "text": [
            "Epoch Number: 9 | Iteration Number: 10500 | Focal Loss: 0.0005464766873046756 | Mask Loss: 0.9104849100112915 | Total Loss: 0.9110313653945923\n",
            "Epoch Number: 9 | Iteration Number: 10600 | Focal Loss: 0.00042382479296065867 | Mask Loss: 1.7588226795196533 | Total Loss: 1.7592464685440063\n",
            "Epoch Number: 9 | Iteration Number: 10700 | Focal Loss: 0.0006837631808593869 | Mask Loss: 1.0079622268676758 | Total Loss: 1.008646011352539\n",
            "Epoch Number: 9 | Iteration Number: 10800 | Focal Loss: 0.0005733110010623932 | Mask Loss: 1.0849241018295288 | Total Loss: 1.0854973793029785\n",
            "Epoch Number: 9 | Iteration Number: 10900 | Focal Loss: 0.0008720193873159587 | Mask Loss: 0.9345064163208008 | Total Loss: 0.9353784322738647\n",
            "Epoch Number: 9 | Iteration Number: 11000 | Focal Loss: 0.0004945632535964251 | Mask Loss: 1.5680112838745117 | Total Loss: 1.568505883216858\n",
            "Epoch Number: 9 | Iteration Number: 11100 | Focal Loss: 0.0003828644985333085 | Mask Loss: 0.7948287725448608 | Total Loss: 0.7952116131782532\n",
            "Epoch Number: 9 | Iteration Number: 11200 | Focal Loss: 0.0004252277431078255 | Mask Loss: 2.2629494667053223 | Total Loss: 2.2633748054504395\n",
            "Epoch Number: 9 | Iteration Number: 11300 | Focal Loss: 0.0008990830392576754 | Mask Loss: 1.2187471389770508 | Total Loss: 1.2196462154388428\n",
            "Epoch Number: 9 | Iteration Number: 11400 | Focal Loss: 0.000637997523881495 | Mask Loss: 1.3119771480560303 | Total Loss: 1.312615156173706\n",
            "Epoch Number: 9 | Iteration Number: 11500 | Focal Loss: 0.0004438856558408588 | Mask Loss: 1.101928472518921 | Total Loss: 1.102372407913208\n",
            "Epoch Number: 9 | Iteration Number: 11600 | Focal Loss: 0.0005662718904204667 | Mask Loss: 0.9600768089294434 | Total Loss: 0.9606430530548096\n",
            "Epoch Number: 9 | Iteration Number: 11700 | Focal Loss: 0.00043866742635145783 | Mask Loss: 0.7983649969100952 | Total Loss: 0.7988036870956421\n",
            "time taken in epoch 9:330.3087077140808\n"
          ],
          "name": "stdout"
        },
        {
          "output_type": "stream",
          "text": [
            "\r 25%|██▌       | 9/36 [50:05<2:29:36, 332.45s/it]"
          ],
          "name": "stderr"
        },
        {
          "output_type": "stream",
          "text": [
            "Epoch Number: 10 | Iteration Number: 11800 | Focal Loss: 0.000306840636767447 | Mask Loss: 0.5185365676879883 | Total Loss: 0.518843412399292\n",
            "Epoch Number: 10 | Iteration Number: 11900 | Focal Loss: 0.00038034137105569243 | Mask Loss: 0.7972410917282104 | Total Loss: 0.7976214289665222\n",
            "Epoch Number: 10 | Iteration Number: 12000 | Focal Loss: 0.0004936798941344023 | Mask Loss: 1.585646390914917 | Total Loss: 1.5861400365829468\n",
            "Epoch Number: 10 | Iteration Number: 12100 | Focal Loss: 0.0006545262294821441 | Mask Loss: 1.6832787990570068 | Total Loss: 1.6839333772659302\n",
            "Epoch Number: 10 | Iteration Number: 12200 | Focal Loss: 0.000544696522410959 | Mask Loss: 0.9066018462181091 | Total Loss: 0.9071465134620667\n",
            "Epoch Number: 10 | Iteration Number: 12300 | Focal Loss: 0.0005664156633429229 | Mask Loss: 0.6522988080978394 | Total Loss: 0.6528652310371399\n",
            "Epoch Number: 10 | Iteration Number: 12400 | Focal Loss: 0.0005260941106826067 | Mask Loss: 1.1235711574554443 | Total Loss: 1.124097228050232\n",
            "Epoch Number: 10 | Iteration Number: 12500 | Focal Loss: 0.0006930725066922605 | Mask Loss: 0.8870395421981812 | Total Loss: 0.8877326250076294\n",
            "Epoch Number: 10 | Iteration Number: 12600 | Focal Loss: 0.0006724153063260019 | Mask Loss: 1.339902639389038 | Total Loss: 1.340575098991394\n",
            "Epoch Number: 10 | Iteration Number: 12700 | Focal Loss: 0.00041539460653439164 | Mask Loss: 1.0690624713897705 | Total Loss: 1.069477915763855\n",
            "Epoch Number: 10 | Iteration Number: 12800 | Focal Loss: 0.0005111129721626639 | Mask Loss: 0.7908353805541992 | Total Loss: 0.7913464903831482\n",
            "Epoch Number: 10 | Iteration Number: 12900 | Focal Loss: 0.00040327926399186254 | Mask Loss: 0.9417881369590759 | Total Loss: 0.9421914219856262\n",
            "Epoch Number: 10 | Iteration Number: 13000 | Focal Loss: 0.0004201817500870675 | Mask Loss: 1.2868847846984863 | Total Loss: 1.2873049974441528\n",
            "time taken in epoch 10:331.6608340740204\n"
          ],
          "name": "stdout"
        },
        {
          "output_type": "stream",
          "text": [
            "\r 28%|██▊       | 10/36 [55:37<2:23:59, 332.29s/it]"
          ],
          "name": "stderr"
        },
        {
          "output_type": "stream",
          "text": [
            "Epoch Number: 11 | Iteration Number: 13100 | Focal Loss: 0.0006949624512344599 | Mask Loss: 1.1695102453231812 | Total Loss: 1.1702052354812622\n",
            "Epoch Number: 11 | Iteration Number: 13200 | Focal Loss: 0.0005041311378590763 | Mask Loss: 1.2773897647857666 | Total Loss: 1.2778939008712769\n",
            "Epoch Number: 11 | Iteration Number: 13300 | Focal Loss: 0.000716088805347681 | Mask Loss: 1.4719908237457275 | Total Loss: 1.472706913948059\n",
            "Epoch Number: 11 | Iteration Number: 13400 | Focal Loss: 0.0006378027610480785 | Mask Loss: 1.0041528940200806 | Total Loss: 1.0047906637191772\n",
            "Epoch Number: 11 | Iteration Number: 13500 | Focal Loss: 0.0008398867212235928 | Mask Loss: 1.5429335832595825 | Total Loss: 1.5437734127044678\n",
            "Epoch Number: 11 | Iteration Number: 13600 | Focal Loss: 0.000393970258301124 | Mask Loss: 1.0821635723114014 | Total Loss: 1.0825575590133667\n",
            "Epoch Number: 11 | Iteration Number: 13700 | Focal Loss: 0.0004564537084661424 | Mask Loss: 0.6646119356155396 | Total Loss: 0.6650683879852295\n",
            "Epoch Number: 11 | Iteration Number: 13800 | Focal Loss: 0.0006036184495314956 | Mask Loss: 1.1718225479125977 | Total Loss: 1.1724262237548828\n",
            "Epoch Number: 11 | Iteration Number: 13900 | Focal Loss: 0.0008640147862024605 | Mask Loss: 1.2937018871307373 | Total Loss: 1.2945659160614014\n",
            "Epoch Number: 11 | Iteration Number: 14000 | Focal Loss: 0.0003609499544836581 | Mask Loss: 0.45145735144615173 | Total Loss: 0.4518182873725891\n",
            "Epoch Number: 11 | Iteration Number: 14100 | Focal Loss: 0.00046755679068155587 | Mask Loss: 1.0127897262573242 | Total Loss: 1.0132572650909424\n",
            "Epoch Number: 11 | Iteration Number: 14200 | Focal Loss: 0.00044510987936519086 | Mask Loss: 1.299203872680664 | Total Loss: 1.2996490001678467\n",
            "Epoch Number: 11 | Iteration Number: 14300 | Focal Loss: 0.0004651194903999567 | Mask Loss: 0.7190167903900146 | Total Loss: 0.719481885433197\n",
            "time taken in epoch 11:330.31172275543213\n"
          ],
          "name": "stdout"
        },
        {
          "output_type": "stream",
          "text": [
            "\r 31%|███       | 11/36 [1:01:08<2:18:14, 331.78s/it]"
          ],
          "name": "stderr"
        },
        {
          "output_type": "stream",
          "text": [
            "Epoch Number: 12 | Iteration Number: 14400 | Focal Loss: 0.00031010445673018694 | Mask Loss: 1.191330909729004 | Total Loss: 1.1916409730911255\n",
            "Epoch Number: 12 | Iteration Number: 14500 | Focal Loss: 0.0002942108258139342 | Mask Loss: 0.41178250312805176 | Total Loss: 0.4120767116546631\n",
            "Epoch Number: 12 | Iteration Number: 14600 | Focal Loss: 0.00024989075609482825 | Mask Loss: 0.7434090375900269 | Total Loss: 0.7436589002609253\n",
            "Epoch Number: 12 | Iteration Number: 14700 | Focal Loss: 0.0006120535545051098 | Mask Loss: 1.1953463554382324 | Total Loss: 1.1959583759307861\n",
            "Epoch Number: 12 | Iteration Number: 14800 | Focal Loss: 0.0003419850254431367 | Mask Loss: 1.365199089050293 | Total Loss: 1.3655411005020142\n",
            "Epoch Number: 12 | Iteration Number: 14900 | Focal Loss: 0.0005335313617251813 | Mask Loss: 0.778572142124176 | Total Loss: 0.7791056632995605\n",
            "Epoch Number: 12 | Iteration Number: 15000 | Focal Loss: 0.0007730003562755883 | Mask Loss: 1.1279219388961792 | Total Loss: 1.1286948919296265\n",
            "Epoch Number: 12 | Iteration Number: 15100 | Focal Loss: 0.00046483860933221877 | Mask Loss: 0.5642193555831909 | Total Loss: 0.5646842122077942\n",
            "Epoch Number: 12 | Iteration Number: 15200 | Focal Loss: 0.00040230024023912847 | Mask Loss: 1.4913909435272217 | Total Loss: 1.4917932748794556\n",
            "Epoch Number: 12 | Iteration Number: 15300 | Focal Loss: 0.0003311872133053839 | Mask Loss: 1.1059768199920654 | Total Loss: 1.1063079833984375\n",
            "Epoch Number: 12 | Iteration Number: 15400 | Focal Loss: 0.00042965859756805 | Mask Loss: 1.0362577438354492 | Total Loss: 1.0366873741149902\n",
            "Epoch Number: 12 | Iteration Number: 15500 | Focal Loss: 0.0005563856102526188 | Mask Loss: 0.9916642904281616 | Total Loss: 0.9922206997871399\n",
            "Epoch Number: 12 | Iteration Number: 15600 | Focal Loss: 0.000569944444578141 | Mask Loss: 1.011103868484497 | Total Loss: 1.0116738080978394\n",
            "time taken in epoch 12:331.78620648384094\n"
          ],
          "name": "stdout"
        },
        {
          "output_type": "stream",
          "text": [
            "\r 33%|███▎      | 12/36 [1:06:40<2:12:44, 331.86s/it]"
          ],
          "name": "stderr"
        },
        {
          "output_type": "stream",
          "text": [
            "Epoch Number: 13 | Iteration Number: 15700 | Focal Loss: 0.0005152752855792642 | Mask Loss: 0.8146936893463135 | Total Loss: 0.8152089715003967\n",
            "Epoch Number: 13 | Iteration Number: 15800 | Focal Loss: 0.0005401134840212762 | Mask Loss: 1.7794444561004639 | Total Loss: 1.7799845933914185\n",
            "Epoch Number: 13 | Iteration Number: 15900 | Focal Loss: 0.0003527797234710306 | Mask Loss: 1.35477614402771 | Total Loss: 1.3551288843154907\n",
            "Epoch Number: 13 | Iteration Number: 16000 | Focal Loss: 0.00031822765595279634 | Mask Loss: 0.9008536338806152 | Total Loss: 0.901171863079071\n",
            "Epoch Number: 13 | Iteration Number: 16100 | Focal Loss: 0.0005359946517273784 | Mask Loss: 0.9670935273170471 | Total Loss: 0.9676294922828674\n",
            "Epoch Number: 13 | Iteration Number: 16200 | Focal Loss: 0.00027155267889611423 | Mask Loss: 1.5927683115005493 | Total Loss: 1.593039870262146\n",
            "Epoch Number: 13 | Iteration Number: 16300 | Focal Loss: 0.00044883822556585073 | Mask Loss: 0.8779157996177673 | Total Loss: 0.878364622592926\n",
            "Epoch Number: 13 | Iteration Number: 16400 | Focal Loss: 0.000624532753136009 | Mask Loss: 1.0601412057876587 | Total Loss: 1.0607657432556152\n",
            "Epoch Number: 13 | Iteration Number: 16500 | Focal Loss: 0.000366409047273919 | Mask Loss: 1.2627524137496948 | Total Loss: 1.263118863105774\n",
            "Epoch Number: 13 | Iteration Number: 16600 | Focal Loss: 0.000563259469345212 | Mask Loss: 1.7238101959228516 | Total Loss: 1.724373459815979\n",
            "Epoch Number: 13 | Iteration Number: 16700 | Focal Loss: 0.0005150047945789993 | Mask Loss: 0.8019106388092041 | Total Loss: 0.8024256229400635\n",
            "Epoch Number: 13 | Iteration Number: 16800 | Focal Loss: 0.0005127210170030594 | Mask Loss: 1.0098484754562378 | Total Loss: 1.0103611946105957\n",
            "Epoch Number: 13 | Iteration Number: 16900 | Focal Loss: 0.0006546698859892786 | Mask Loss: 2.115464687347412 | Total Loss: 2.116119384765625\n",
            "time taken in epoch 13:332.18151569366455\n"
          ],
          "name": "stdout"
        },
        {
          "output_type": "stream",
          "text": [
            "\r 36%|███▌      | 13/36 [1:12:12<2:07:16, 332.04s/it]"
          ],
          "name": "stderr"
        },
        {
          "output_type": "stream",
          "text": [
            "Epoch Number: 14 | Iteration Number: 17000 | Focal Loss: 0.0003380068810656667 | Mask Loss: 0.7284063100814819 | Total Loss: 0.7287443280220032\n",
            "Epoch Number: 14 | Iteration Number: 17100 | Focal Loss: 0.0003073057741858065 | Mask Loss: 1.2186235189437866 | Total Loss: 1.2189308404922485\n",
            "Epoch Number: 14 | Iteration Number: 17200 | Focal Loss: 0.0007522156229242682 | Mask Loss: 1.2496709823608398 | Total Loss: 1.2504231929779053\n",
            "Epoch Number: 14 | Iteration Number: 17300 | Focal Loss: 0.0004346567438915372 | Mask Loss: 1.2782151699066162 | Total Loss: 1.2786498069763184\n",
            "Epoch Number: 14 | Iteration Number: 17400 | Focal Loss: 0.0009593043359927833 | Mask Loss: 1.4206206798553467 | Total Loss: 1.4215799570083618\n",
            "Epoch Number: 14 | Iteration Number: 17500 | Focal Loss: 0.0003356894012540579 | Mask Loss: 0.9012080430984497 | Total Loss: 0.9015437364578247\n",
            "Epoch Number: 14 | Iteration Number: 17600 | Focal Loss: 0.000546152819879353 | Mask Loss: 1.5689070224761963 | Total Loss: 1.5694531202316284\n",
            "Epoch Number: 14 | Iteration Number: 17700 | Focal Loss: 0.00043089137761853635 | Mask Loss: 0.5568182468414307 | Total Loss: 0.557249128818512\n",
            "Epoch Number: 14 | Iteration Number: 17800 | Focal Loss: 0.00040534453000873327 | Mask Loss: 0.9411315321922302 | Total Loss: 0.9415369033813477\n",
            "Epoch Number: 14 | Iteration Number: 17900 | Focal Loss: 0.00037077185697853565 | Mask Loss: 2.204718589782715 | Total Loss: 2.2050893306732178\n",
            "Epoch Number: 14 | Iteration Number: 18000 | Focal Loss: 0.0005445609567686915 | Mask Loss: 1.1554601192474365 | Total Loss: 1.1560046672821045\n",
            "Epoch Number: 14 | Iteration Number: 18100 | Focal Loss: 0.0005094060907140374 | Mask Loss: 1.0852766036987305 | Total Loss: 1.085785984992981\n",
            "Epoch Number: 14 | Iteration Number: 18200 | Focal Loss: 0.0004602651752065867 | Mask Loss: 1.3535345792770386 | Total Loss: 1.3539948463439941\n",
            "time taken in epoch 14:334.14223980903625\n"
          ],
          "name": "stdout"
        },
        {
          "output_type": "stream",
          "text": [
            "\r 39%|███▉      | 14/36 [1:17:47<2:02:00, 332.75s/it]"
          ],
          "name": "stderr"
        },
        {
          "output_type": "stream",
          "text": [
            "Epoch Number: 15 | Iteration Number: 18300 | Focal Loss: 0.000618146441411227 | Mask Loss: 1.016402244567871 | Total Loss: 1.017020344734192\n",
            "Epoch Number: 15 | Iteration Number: 18400 | Focal Loss: 0.0005048008752055466 | Mask Loss: 1.560124397277832 | Total Loss: 1.5606292486190796\n",
            "Epoch Number: 15 | Iteration Number: 18500 | Focal Loss: 0.0006386645254679024 | Mask Loss: 0.857566773891449 | Total Loss: 0.8582054376602173\n",
            "Epoch Number: 15 | Iteration Number: 18600 | Focal Loss: 0.0006298302905634046 | Mask Loss: 0.9970093965530396 | Total Loss: 0.9976392388343811\n",
            "Epoch Number: 15 | Iteration Number: 18700 | Focal Loss: 0.0005036639631725848 | Mask Loss: 0.971338152885437 | Total Loss: 0.9718418121337891\n",
            "Epoch Number: 15 | Iteration Number: 18800 | Focal Loss: 0.00046886730706319213 | Mask Loss: 1.1116019487380981 | Total Loss: 1.1120707988739014\n",
            "Epoch Number: 15 | Iteration Number: 18900 | Focal Loss: 0.0004898428451269865 | Mask Loss: 1.2909263372421265 | Total Loss: 1.2914161682128906\n",
            "Epoch Number: 15 | Iteration Number: 19000 | Focal Loss: 0.00039734371239319444 | Mask Loss: 1.0684261322021484 | Total Loss: 1.0688234567642212\n",
            "Epoch Number: 15 | Iteration Number: 19100 | Focal Loss: 0.0002915878430940211 | Mask Loss: 0.771082878112793 | Total Loss: 0.7713744640350342\n",
            "Epoch Number: 15 | Iteration Number: 19200 | Focal Loss: 0.0003634729655459523 | Mask Loss: 1.1232675313949585 | Total Loss: 1.1236310005187988\n",
            "Epoch Number: 15 | Iteration Number: 19300 | Focal Loss: 0.0005314555601216853 | Mask Loss: 0.9018235206604004 | Total Loss: 0.9023549556732178\n",
            "Epoch Number: 15 | Iteration Number: 19400 | Focal Loss: 0.0007140567759051919 | Mask Loss: 0.9896676540374756 | Total Loss: 0.9903817176818848\n",
            "Epoch Number: 15 | Iteration Number: 19500 | Focal Loss: 0.0005297777242958546 | Mask Loss: 1.1047390699386597 | Total Loss: 1.1052688360214233\n",
            "time taken in epoch 15:332.2827217578888\n"
          ],
          "name": "stdout"
        },
        {
          "output_type": "stream",
          "text": [
            "\r 42%|████▏     | 15/36 [1:23:19<1:56:26, 332.70s/it]"
          ],
          "name": "stderr"
        },
        {
          "output_type": "stream",
          "text": [
            "Epoch Number: 16 | Iteration Number: 19600 | Focal Loss: 0.00040163256926462054 | Mask Loss: 1.0120829343795776 | Total Loss: 1.0124845504760742\n",
            "Epoch Number: 16 | Iteration Number: 19700 | Focal Loss: 0.000602597719989717 | Mask Loss: 0.9755235910415649 | Total Loss: 0.9761261940002441\n",
            "Epoch Number: 16 | Iteration Number: 19800 | Focal Loss: 0.0005773495067842305 | Mask Loss: 0.8062951564788818 | Total Loss: 0.8068724870681763\n",
            "Epoch Number: 16 | Iteration Number: 19900 | Focal Loss: 0.0005370399449020624 | Mask Loss: 1.2334290742874146 | Total Loss: 1.2339661121368408\n",
            "Epoch Number: 16 | Iteration Number: 20000 | Focal Loss: 0.00046601545182056725 | Mask Loss: 1.1410669088363647 | Total Loss: 1.1415328979492188\n",
            "Epoch Number: 16 | Iteration Number: 20100 | Focal Loss: 0.0003976273292209953 | Mask Loss: 0.8014893531799316 | Total Loss: 0.8018869757652283\n",
            "Epoch Number: 16 | Iteration Number: 20200 | Focal Loss: 0.0006809842307120562 | Mask Loss: 0.9779872298240662 | Total Loss: 0.978668212890625\n",
            "Epoch Number: 16 | Iteration Number: 20300 | Focal Loss: 0.0007264107116498053 | Mask Loss: 1.406345248222351 | Total Loss: 1.4070717096328735\n",
            "Epoch Number: 16 | Iteration Number: 20400 | Focal Loss: 0.0009958614828065038 | Mask Loss: 1.2100164890289307 | Total Loss: 1.211012363433838\n",
            "Epoch Number: 16 | Iteration Number: 20500 | Focal Loss: 0.0005129390046931803 | Mask Loss: 1.2307703495025635 | Total Loss: 1.2312833070755005\n",
            "Epoch Number: 16 | Iteration Number: 20600 | Focal Loss: 0.00034349251654930413 | Mask Loss: 1.192224144935608 | Total Loss: 1.1925675868988037\n",
            "Epoch Number: 16 | Iteration Number: 20700 | Focal Loss: 0.00034015532582998276 | Mask Loss: 1.6875598430633545 | Total Loss: 1.6878999471664429\n",
            "Epoch Number: 16 | Iteration Number: 20800 | Focal Loss: 0.00044366682413965464 | Mask Loss: 1.068924903869629 | Total Loss: 1.069368600845337\n",
            "time taken in epoch 16:329.8599786758423\n"
          ],
          "name": "stdout"
        },
        {
          "output_type": "stream",
          "text": [
            "\r 44%|████▍     | 16/36 [1:28:49<1:50:38, 331.93s/it]"
          ],
          "name": "stderr"
        },
        {
          "output_type": "stream",
          "text": [
            "Epoch Number: 17 | Iteration Number: 20900 | Focal Loss: 0.0004688494955189526 | Mask Loss: 0.6595578193664551 | Total Loss: 0.6600266695022583\n",
            "Epoch Number: 17 | Iteration Number: 21000 | Focal Loss: 0.0007906112005002797 | Mask Loss: 0.9203779697418213 | Total Loss: 0.9211685657501221\n",
            "Epoch Number: 17 | Iteration Number: 21100 | Focal Loss: 0.0005013369955122471 | Mask Loss: 0.7414148449897766 | Total Loss: 0.7419161796569824\n",
            "Epoch Number: 17 | Iteration Number: 21200 | Focal Loss: 0.0005453188787214458 | Mask Loss: 0.8403952717781067 | Total Loss: 0.8409405946731567\n",
            "Epoch Number: 17 | Iteration Number: 21300 | Focal Loss: 0.0006269042496569455 | Mask Loss: 1.0657302141189575 | Total Loss: 1.066357135772705\n",
            "Epoch Number: 17 | Iteration Number: 21400 | Focal Loss: 0.0009155565057881176 | Mask Loss: 1.5596590042114258 | Total Loss: 1.5605745315551758\n",
            "Epoch Number: 17 | Iteration Number: 21500 | Focal Loss: 0.0007629867177456617 | Mask Loss: 0.6906407475471497 | Total Loss: 0.6914037466049194\n",
            "Epoch Number: 17 | Iteration Number: 21600 | Focal Loss: 0.00030954103567637503 | Mask Loss: 0.9979256391525269 | Total Loss: 0.9982351660728455\n",
            "Epoch Number: 17 | Iteration Number: 21700 | Focal Loss: 0.000570324482396245 | Mask Loss: 0.8138600587844849 | Total Loss: 0.8144303560256958\n",
            "Epoch Number: 17 | Iteration Number: 21800 | Focal Loss: 0.0004852070997003466 | Mask Loss: 1.2067811489105225 | Total Loss: 1.2072663307189941\n",
            "Epoch Number: 17 | Iteration Number: 21900 | Focal Loss: 0.0005194123950786889 | Mask Loss: 1.222954511642456 | Total Loss: 1.2234739065170288\n",
            "Epoch Number: 17 | Iteration Number: 22000 | Focal Loss: 0.0003209587011951953 | Mask Loss: 0.4651697278022766 | Total Loss: 0.4654906988143921\n",
            "Epoch Number: 17 | Iteration Number: 22100 | Focal Loss: 0.0008346130489371717 | Mask Loss: 1.1115449666976929 | Total Loss: 1.112379550933838\n",
            "Epoch Number: 17 | Iteration Number: 22200 | Focal Loss: 0.0005924986908212304 | Mask Loss: 1.0072016716003418 | Total Loss: 1.0077941417694092\n",
            "time taken in epoch 17:326.0614447593689\n"
          ],
          "name": "stdout"
        },
        {
          "output_type": "stream",
          "text": [
            "\r 47%|████▋     | 17/36 [1:34:16<1:44:34, 330.25s/it]"
          ],
          "name": "stderr"
        },
        {
          "output_type": "stream",
          "text": [
            "Epoch Number: 18 | Iteration Number: 22300 | Focal Loss: 0.00025146835832856596 | Mask Loss: 0.5205562114715576 | Total Loss: 0.520807683467865\n",
            "Epoch Number: 18 | Iteration Number: 22400 | Focal Loss: 0.000483428273582831 | Mask Loss: 1.5788336992263794 | Total Loss: 1.5793170928955078\n",
            "Epoch Number: 18 | Iteration Number: 22500 | Focal Loss: 0.00033311350853182375 | Mask Loss: 0.764988899230957 | Total Loss: 0.7653220295906067\n",
            "Epoch Number: 18 | Iteration Number: 22600 | Focal Loss: 0.0007413957500830293 | Mask Loss: 1.364845871925354 | Total Loss: 1.3655872344970703\n",
            "Epoch Number: 18 | Iteration Number: 22700 | Focal Loss: 0.00041877696639858186 | Mask Loss: 1.3462612628936768 | Total Loss: 1.3466800451278687\n",
            "Epoch Number: 18 | Iteration Number: 22800 | Focal Loss: 0.0004173014604020864 | Mask Loss: 1.5468120574951172 | Total Loss: 1.5472294092178345\n",
            "Epoch Number: 18 | Iteration Number: 22900 | Focal Loss: 0.00041227054316550493 | Mask Loss: 1.1643028259277344 | Total Loss: 1.164715051651001\n",
            "Epoch Number: 18 | Iteration Number: 23000 | Focal Loss: 0.00031769569613970816 | Mask Loss: 0.5490402579307556 | Total Loss: 0.5493579506874084\n",
            "Epoch Number: 18 | Iteration Number: 23100 | Focal Loss: 0.000524350383784622 | Mask Loss: 1.2498061656951904 | Total Loss: 1.2503305673599243\n",
            "Epoch Number: 18 | Iteration Number: 23200 | Focal Loss: 0.0005806363769806921 | Mask Loss: 0.8113048076629639 | Total Loss: 0.811885416507721\n",
            "Epoch Number: 18 | Iteration Number: 23300 | Focal Loss: 0.0006694627227261662 | Mask Loss: 0.955836832523346 | Total Loss: 0.9565063118934631\n",
            "Epoch Number: 18 | Iteration Number: 23400 | Focal Loss: 0.0007951986044645309 | Mask Loss: 1.4656378030776978 | Total Loss: 1.466433048248291\n",
            "Epoch Number: 18 | Iteration Number: 23500 | Focal Loss: 0.0007031874265521765 | Mask Loss: 1.7502198219299316 | Total Loss: 1.7509230375289917\n",
            "time taken in epoch 18:330.3687129020691\n"
          ],
          "name": "stdout"
        },
        {
          "output_type": "stream",
          "text": [
            "\r 50%|█████     | 18/36 [1:39:46<1:39:06, 330.37s/it]"
          ],
          "name": "stderr"
        },
        {
          "output_type": "stream",
          "text": [
            "Epoch Number: 19 | Iteration Number: 23600 | Focal Loss: 0.0007284767343662679 | Mask Loss: 1.8455164432525635 | Total Loss: 1.8462449312210083\n",
            "Epoch Number: 19 | Iteration Number: 23700 | Focal Loss: 0.00025391962844878435 | Mask Loss: 0.6052742004394531 | Total Loss: 0.6055281162261963\n",
            "Epoch Number: 19 | Iteration Number: 23800 | Focal Loss: 0.0005243679624982178 | Mask Loss: 1.240835189819336 | Total Loss: 1.2413595914840698\n",
            "Epoch Number: 19 | Iteration Number: 23900 | Focal Loss: 0.00028828837093897164 | Mask Loss: 0.45342427492141724 | Total Loss: 0.4537125527858734\n",
            "Epoch Number: 19 | Iteration Number: 24000 | Focal Loss: 0.0004269498458597809 | Mask Loss: 0.7249447107315063 | Total Loss: 0.7253716588020325\n",
            "Epoch Number: 19 | Iteration Number: 24100 | Focal Loss: 0.0005745042581111193 | Mask Loss: 1.0043432712554932 | Total Loss: 1.0049177408218384\n",
            "Epoch Number: 19 | Iteration Number: 24200 | Focal Loss: 0.00038560599205084145 | Mask Loss: 0.7658976316452026 | Total Loss: 0.7662832140922546\n",
            "Epoch Number: 19 | Iteration Number: 24300 | Focal Loss: 0.00035326171200722456 | Mask Loss: 0.4519076347351074 | Total Loss: 0.4522608816623688\n",
            "Epoch Number: 19 | Iteration Number: 24400 | Focal Loss: 0.0006093491101637483 | Mask Loss: 0.9090737700462341 | Total Loss: 0.909683108329773\n",
            "Epoch Number: 19 | Iteration Number: 24500 | Focal Loss: 0.00042887942981906235 | Mask Loss: 0.5914718508720398 | Total Loss: 0.5919007062911987\n",
            "Epoch Number: 19 | Iteration Number: 24600 | Focal Loss: 0.0009879483841359615 | Mask Loss: 1.1354718208312988 | Total Loss: 1.1364598274230957\n",
            "Epoch Number: 19 | Iteration Number: 24700 | Focal Loss: 0.0006628118571825325 | Mask Loss: 0.9763672351837158 | Total Loss: 0.9770300388336182\n",
            "Epoch Number: 19 | Iteration Number: 24800 | Focal Loss: 0.000673730974085629 | Mask Loss: 0.8128125667572021 | Total Loss: 0.8134862780570984\n",
            "time taken in epoch 19:327.0630669593811\n"
          ],
          "name": "stdout"
        },
        {
          "output_type": "stream",
          "text": [
            "\r 53%|█████▎    | 19/36 [1:45:14<1:33:20, 329.45s/it]"
          ],
          "name": "stderr"
        },
        {
          "output_type": "stream",
          "text": [
            "Epoch Number: 20 | Iteration Number: 24900 | Focal Loss: 0.0006490484229288995 | Mask Loss: 0.7126059532165527 | Total Loss: 0.713254988193512\n",
            "Epoch Number: 20 | Iteration Number: 25000 | Focal Loss: 0.0005472461925819516 | Mask Loss: 1.0454505681991577 | Total Loss: 1.0459978580474854\n",
            "Epoch Number: 20 | Iteration Number: 25100 | Focal Loss: 0.0005347772967070341 | Mask Loss: 1.1598480939865112 | Total Loss: 1.160382866859436\n",
            "Epoch Number: 20 | Iteration Number: 25200 | Focal Loss: 0.0004493523156270385 | Mask Loss: 0.7962356805801392 | Total Loss: 0.7966850399971008\n",
            "Epoch Number: 20 | Iteration Number: 25300 | Focal Loss: 0.0006825189338997006 | Mask Loss: 0.9742987155914307 | Total Loss: 0.9749812483787537\n",
            "Epoch Number: 20 | Iteration Number: 25400 | Focal Loss: 0.00023669480287935585 | Mask Loss: 0.6902385950088501 | Total Loss: 0.6904752850532532\n",
            "Epoch Number: 20 | Iteration Number: 25500 | Focal Loss: 0.0005488608730956912 | Mask Loss: 0.783603310585022 | Total Loss: 0.7841521501541138\n",
            "Epoch Number: 20 | Iteration Number: 25600 | Focal Loss: 0.0007933758897706866 | Mask Loss: 1.1210881471633911 | Total Loss: 1.1218814849853516\n",
            "Epoch Number: 20 | Iteration Number: 25700 | Focal Loss: 0.00047247152542695403 | Mask Loss: 1.144036054611206 | Total Loss: 1.1445084810256958\n",
            "Epoch Number: 20 | Iteration Number: 25800 | Focal Loss: 0.0003483430191408843 | Mask Loss: 1.0995372533798218 | Total Loss: 1.0998855829238892\n",
            "Epoch Number: 20 | Iteration Number: 25900 | Focal Loss: 0.00037846824852749705 | Mask Loss: 0.6202403903007507 | Total Loss: 0.6206188797950745\n",
            "Epoch Number: 20 | Iteration Number: 26000 | Focal Loss: 0.0004602813278324902 | Mask Loss: 1.15792715549469 | Total Loss: 1.1583874225616455\n",
            "Epoch Number: 20 | Iteration Number: 26100 | Focal Loss: 0.00048023578710854053 | Mask Loss: 1.0048609972000122 | Total Loss: 1.0053412914276123\n",
            "time taken in epoch 20:326.761638879776\n"
          ],
          "name": "stdout"
        },
        {
          "output_type": "stream",
          "text": [
            "\r 56%|█████▌    | 20/36 [1:50:41<1:27:39, 328.72s/it]"
          ],
          "name": "stderr"
        },
        {
          "output_type": "stream",
          "text": [
            "Epoch Number: 21 | Iteration Number: 26200 | Focal Loss: 0.0005949627957306802 | Mask Loss: 0.6771881580352783 | Total Loss: 0.6777831315994263\n",
            "Epoch Number: 21 | Iteration Number: 26300 | Focal Loss: 0.0006107284571044147 | Mask Loss: 0.601094663143158 | Total Loss: 0.6017053723335266\n",
            "Epoch Number: 21 | Iteration Number: 26400 | Focal Loss: 0.00047786280629225075 | Mask Loss: 0.6838062405586243 | Total Loss: 0.6842840909957886\n",
            "Epoch Number: 21 | Iteration Number: 26500 | Focal Loss: 0.0004473747103475034 | Mask Loss: 0.6462194919586182 | Total Loss: 0.6466668844223022\n",
            "Epoch Number: 21 | Iteration Number: 26600 | Focal Loss: 0.0003559578617569059 | Mask Loss: 0.7554810047149658 | Total Loss: 0.7558369636535645\n",
            "Epoch Number: 21 | Iteration Number: 26700 | Focal Loss: 0.00044247935875318944 | Mask Loss: 1.0725353956222534 | Total Loss: 1.072977900505066\n",
            "Epoch Number: 21 | Iteration Number: 26800 | Focal Loss: 0.0007860290934331715 | Mask Loss: 0.9878602623939514 | Total Loss: 0.9886462688446045\n",
            "Epoch Number: 21 | Iteration Number: 26900 | Focal Loss: 0.0003047108475584537 | Mask Loss: 0.9689935445785522 | Total Loss: 0.969298243522644\n",
            "Epoch Number: 21 | Iteration Number: 27000 | Focal Loss: 0.00029129997710697353 | Mask Loss: 0.5667983293533325 | Total Loss: 0.5670896172523499\n",
            "Epoch Number: 21 | Iteration Number: 27100 | Focal Loss: 0.0004667849570978433 | Mask Loss: 0.8793905973434448 | Total Loss: 0.8798573613166809\n",
            "Epoch Number: 21 | Iteration Number: 27200 | Focal Loss: 0.00043312401976436377 | Mask Loss: 1.9013268947601318 | Total Loss: 1.9017599821090698\n",
            "Epoch Number: 21 | Iteration Number: 27300 | Focal Loss: 0.000301798660075292 | Mask Loss: 0.542770266532898 | Total Loss: 0.5430720448493958\n",
            "Epoch Number: 21 | Iteration Number: 27400 | Focal Loss: 0.0006829584017395973 | Mask Loss: 0.9194706678390503 | Total Loss: 0.9201536178588867\n",
            "time taken in epoch 21:327.2429096698761\n"
          ],
          "name": "stdout"
        },
        {
          "output_type": "stream",
          "text": [
            "\r 58%|█████▊    | 21/36 [1:56:08<1:22:05, 328.36s/it]"
          ],
          "name": "stderr"
        },
        {
          "output_type": "stream",
          "text": [
            "Epoch Number: 22 | Iteration Number: 27500 | Focal Loss: 0.0004570540622808039 | Mask Loss: 0.45745334029197693 | Total Loss: 0.4579103887081146\n",
            "Epoch Number: 22 | Iteration Number: 27600 | Focal Loss: 0.0005703198257833719 | Mask Loss: 1.0508888959884644 | Total Loss: 1.0514591932296753\n",
            "Epoch Number: 22 | Iteration Number: 27700 | Focal Loss: 0.0003720759996213019 | Mask Loss: 0.8708040714263916 | Total Loss: 0.8711761236190796\n",
            "Epoch Number: 22 | Iteration Number: 27800 | Focal Loss: 0.0005068128812126815 | Mask Loss: 0.8879233598709106 | Total Loss: 0.8884301781654358\n",
            "Epoch Number: 22 | Iteration Number: 27900 | Focal Loss: 0.0005539697594940662 | Mask Loss: 1.6228768825531006 | Total Loss: 1.623430848121643\n",
            "Epoch Number: 22 | Iteration Number: 28000 | Focal Loss: 0.00036631408147513866 | Mask Loss: 0.8834522366523743 | Total Loss: 0.8838185667991638\n",
            "Epoch Number: 22 | Iteration Number: 28100 | Focal Loss: 0.00039926075260154903 | Mask Loss: 0.8051310181617737 | Total Loss: 0.8055302500724792\n",
            "Epoch Number: 22 | Iteration Number: 28200 | Focal Loss: 0.0003575277514755726 | Mask Loss: 1.1921601295471191 | Total Loss: 1.192517638206482\n",
            "Epoch Number: 22 | Iteration Number: 28300 | Focal Loss: 0.00037788841291330755 | Mask Loss: 1.3402903079986572 | Total Loss: 1.3406682014465332\n",
            "Epoch Number: 22 | Iteration Number: 28400 | Focal Loss: 0.0003259985242038965 | Mask Loss: 0.6181694865226746 | Total Loss: 0.6184954643249512\n",
            "Epoch Number: 22 | Iteration Number: 28500 | Focal Loss: 0.0004814130370505154 | Mask Loss: 0.7440661191940308 | Total Loss: 0.7445475459098816\n",
            "Epoch Number: 22 | Iteration Number: 28600 | Focal Loss: 0.00030195069848559797 | Mask Loss: 1.288109302520752 | Total Loss: 1.288411259651184\n",
            "Epoch Number: 22 | Iteration Number: 28700 | Focal Loss: 0.0005219149752520025 | Mask Loss: 0.6051959991455078 | Total Loss: 0.6057178974151611\n",
            "time taken in epoch 22:325.70432591438293\n"
          ],
          "name": "stdout"
        },
        {
          "output_type": "stream",
          "text": [
            "\r 61%|██████    | 22/36 [2:01:34<1:16:27, 327.64s/it]"
          ],
          "name": "stderr"
        },
        {
          "output_type": "stream",
          "text": [
            "Epoch Number: 23 | Iteration Number: 28800 | Focal Loss: 0.00036778298090212047 | Mask Loss: 1.0913020372390747 | Total Loss: 1.0916697978973389\n",
            "Epoch Number: 23 | Iteration Number: 28900 | Focal Loss: 0.00045031390618532896 | Mask Loss: 1.6153812408447266 | Total Loss: 1.6158316135406494\n",
            "Epoch Number: 23 | Iteration Number: 29000 | Focal Loss: 0.0005397995701059699 | Mask Loss: 0.7969882488250732 | Total Loss: 0.7975280284881592\n",
            "Epoch Number: 23 | Iteration Number: 29100 | Focal Loss: 0.00037862034514546394 | Mask Loss: 0.7926664352416992 | Total Loss: 0.7930450439453125\n",
            "Epoch Number: 23 | Iteration Number: 29200 | Focal Loss: 0.00038567138835787773 | Mask Loss: 0.8489232063293457 | Total Loss: 0.8493088483810425\n",
            "Epoch Number: 23 | Iteration Number: 29300 | Focal Loss: 0.0004999325610697269 | Mask Loss: 1.4431036710739136 | Total Loss: 1.4436036348342896\n",
            "Epoch Number: 23 | Iteration Number: 29400 | Focal Loss: 0.00035050942096859217 | Mask Loss: 0.7834697961807251 | Total Loss: 0.7838203310966492\n",
            "Epoch Number: 23 | Iteration Number: 29500 | Focal Loss: 0.000745484372600913 | Mask Loss: 1.764344573020935 | Total Loss: 1.7650901079177856\n",
            "Epoch Number: 23 | Iteration Number: 29600 | Focal Loss: 0.00038164781290106475 | Mask Loss: 1.0581225156784058 | Total Loss: 1.0585041046142578\n",
            "Epoch Number: 23 | Iteration Number: 29700 | Focal Loss: 0.00031600336660631 | Mask Loss: 1.144737720489502 | Total Loss: 1.145053744316101\n",
            "Epoch Number: 23 | Iteration Number: 29800 | Focal Loss: 0.0005298932082951069 | Mask Loss: 1.168501615524292 | Total Loss: 1.1690315008163452\n",
            "Epoch Number: 23 | Iteration Number: 29900 | Focal Loss: 0.0002708265383262187 | Mask Loss: 0.5713576078414917 | Total Loss: 0.5716284513473511\n",
            "Epoch Number: 23 | Iteration Number: 30000 | Focal Loss: 0.0007205971051007509 | Mask Loss: 1.4553196430206299 | Total Loss: 1.4560402631759644\n",
            "time taken in epoch 23:327.22910594940186\n"
          ],
          "name": "stdout"
        },
        {
          "output_type": "stream",
          "text": [
            "\r 64%|██████▍   | 23/36 [2:07:02<1:10:58, 327.59s/it]"
          ],
          "name": "stderr"
        },
        {
          "output_type": "stream",
          "text": [
            "Epoch Number: 24 | Iteration Number: 30100 | Focal Loss: 0.00027667186805047095 | Mask Loss: 0.4806467592716217 | Total Loss: 0.48092344403266907\n",
            "Epoch Number: 24 | Iteration Number: 30200 | Focal Loss: 0.0004810382379218936 | Mask Loss: 0.8932830095291138 | Total Loss: 0.8937640190124512\n",
            "Epoch Number: 24 | Iteration Number: 30300 | Focal Loss: 0.00038011145079508424 | Mask Loss: 0.5848560333251953 | Total Loss: 0.585236132144928\n",
            "Epoch Number: 24 | Iteration Number: 30400 | Focal Loss: 0.000543370028026402 | Mask Loss: 0.43682974576950073 | Total Loss: 0.4373731017112732\n",
            "Epoch Number: 24 | Iteration Number: 30500 | Focal Loss: 0.00040680955862626433 | Mask Loss: 1.4491456747055054 | Total Loss: 1.4495525360107422\n",
            "Epoch Number: 24 | Iteration Number: 30600 | Focal Loss: 0.00029997434467077255 | Mask Loss: 0.5926885604858398 | Total Loss: 0.5929885506629944\n",
            "Epoch Number: 24 | Iteration Number: 30700 | Focal Loss: 0.0006250764126889408 | Mask Loss: 1.2308597564697266 | Total Loss: 1.2314848899841309\n",
            "Epoch Number: 24 | Iteration Number: 30800 | Focal Loss: 0.00031767680775374174 | Mask Loss: 0.9388612508773804 | Total Loss: 0.9391789436340332\n",
            "Epoch Number: 24 | Iteration Number: 30900 | Focal Loss: 0.0006184316007420421 | Mask Loss: 0.858542799949646 | Total Loss: 0.8591612577438354\n",
            "Epoch Number: 24 | Iteration Number: 31000 | Focal Loss: 0.0003144972142763436 | Mask Loss: 1.3700079917907715 | Total Loss: 1.3703224658966064\n",
            "Epoch Number: 24 | Iteration Number: 31100 | Focal Loss: 0.0005180999869480729 | Mask Loss: 1.2021055221557617 | Total Loss: 1.2026236057281494\n",
            "Epoch Number: 24 | Iteration Number: 31200 | Focal Loss: 0.0005002616671845317 | Mask Loss: 1.2014946937561035 | Total Loss: 1.2019948959350586\n",
            "Epoch Number: 24 | Iteration Number: 31300 | Focal Loss: 0.0004363296611700207 | Mask Loss: 0.8410838842391968 | Total Loss: 0.8415201902389526\n",
            "time taken in epoch 24:328.25720834732056\n"
          ],
          "name": "stdout"
        },
        {
          "output_type": "stream",
          "text": [
            "\r 67%|██████▋   | 24/36 [2:12:30<1:05:34, 327.87s/it]"
          ],
          "name": "stderr"
        },
        {
          "output_type": "stream",
          "text": [
            "Epoch Number: 25 | Iteration Number: 31400 | Focal Loss: 0.0003839394776150584 | Mask Loss: 0.7701607942581177 | Total Loss: 0.770544707775116\n",
            "Epoch Number: 25 | Iteration Number: 31500 | Focal Loss: 0.0006980226607993245 | Mask Loss: 1.3094754219055176 | Total Loss: 1.3101733922958374\n",
            "Epoch Number: 25 | Iteration Number: 31600 | Focal Loss: 0.00027318065986037254 | Mask Loss: 0.3847331404685974 | Total Loss: 0.385006308555603\n",
            "Epoch Number: 25 | Iteration Number: 31700 | Focal Loss: 0.00042681448394432664 | Mask Loss: 0.8131885528564453 | Total Loss: 0.8136153817176819\n",
            "Epoch Number: 25 | Iteration Number: 31800 | Focal Loss: 0.0006287007126957178 | Mask Loss: 1.0322006940841675 | Total Loss: 1.0328294038772583\n",
            "Epoch Number: 25 | Iteration Number: 31900 | Focal Loss: 0.0005001534009352326 | Mask Loss: 0.7928733229637146 | Total Loss: 0.7933734655380249\n",
            "Epoch Number: 25 | Iteration Number: 32000 | Focal Loss: 0.0007116113556548953 | Mask Loss: 0.8602418303489685 | Total Loss: 0.8609534502029419\n",
            "Epoch Number: 25 | Iteration Number: 32100 | Focal Loss: 0.0005749791744165123 | Mask Loss: 1.300315499305725 | Total Loss: 1.3008904457092285\n",
            "Epoch Number: 25 | Iteration Number: 32200 | Focal Loss: 0.00039927830221131444 | Mask Loss: 0.4906314015388489 | Total Loss: 0.4910306930541992\n",
            "Epoch Number: 25 | Iteration Number: 32300 | Focal Loss: 0.0005119487177580595 | Mask Loss: 1.4459065198898315 | Total Loss: 1.4464185237884521\n",
            "Epoch Number: 25 | Iteration Number: 32400 | Focal Loss: 0.0006405606400221586 | Mask Loss: 1.2008976936340332 | Total Loss: 1.2015382051467896\n",
            "Epoch Number: 25 | Iteration Number: 32500 | Focal Loss: 0.0003776878584176302 | Mask Loss: 1.1460459232330322 | Total Loss: 1.146423578262329\n",
            "Epoch Number: 25 | Iteration Number: 32600 | Focal Loss: 0.0006097652367316186 | Mask Loss: 0.6286638975143433 | Total Loss: 0.6292736530303955\n",
            "time taken in epoch 25:326.84816312789917\n"
          ],
          "name": "stdout"
        },
        {
          "output_type": "stream",
          "text": [
            "\r 69%|██████▉   | 25/36 [2:17:57<1:00:04, 327.64s/it]"
          ],
          "name": "stderr"
        },
        {
          "output_type": "stream",
          "text": [
            "Epoch Number: 26 | Iteration Number: 32700 | Focal Loss: 0.0004868174728471786 | Mask Loss: 0.853412389755249 | Total Loss: 0.8538991808891296\n",
            "Epoch Number: 26 | Iteration Number: 32800 | Focal Loss: 0.00038905630935914814 | Mask Loss: 0.9335330128669739 | Total Loss: 0.9339220523834229\n",
            "Epoch Number: 26 | Iteration Number: 32900 | Focal Loss: 0.0005112135550007224 | Mask Loss: 0.9317534565925598 | Total Loss: 0.9322646856307983\n",
            "Epoch Number: 26 | Iteration Number: 33000 | Focal Loss: 0.00043197337072342634 | Mask Loss: 0.6503428220748901 | Total Loss: 0.6507747769355774\n",
            "Epoch Number: 26 | Iteration Number: 33100 | Focal Loss: 0.0006451390217989683 | Mask Loss: 1.014448881149292 | Total Loss: 1.0150940418243408\n",
            "Epoch Number: 26 | Iteration Number: 33200 | Focal Loss: 0.0004250164201948792 | Mask Loss: 0.991402268409729 | Total Loss: 0.9918273091316223\n",
            "Epoch Number: 26 | Iteration Number: 33300 | Focal Loss: 0.00045281165512278676 | Mask Loss: 0.7142534255981445 | Total Loss: 0.7147062420845032\n",
            "Epoch Number: 26 | Iteration Number: 33400 | Focal Loss: 0.000681628764141351 | Mask Loss: 1.4114128351211548 | Total Loss: 1.4120944738388062\n",
            "Epoch Number: 26 | Iteration Number: 33500 | Focal Loss: 0.0007396986475214362 | Mask Loss: 0.932494044303894 | Total Loss: 0.9332337379455566\n",
            "Epoch Number: 26 | Iteration Number: 33600 | Focal Loss: 0.0004522213712334633 | Mask Loss: 2.5953001976013184 | Total Loss: 2.595752477645874\n",
            "Epoch Number: 26 | Iteration Number: 33700 | Focal Loss: 0.0002666149230208248 | Mask Loss: 0.47096362709999084 | Total Loss: 0.47123023867607117\n",
            "Epoch Number: 26 | Iteration Number: 33800 | Focal Loss: 0.00047721166629344225 | Mask Loss: 0.9355980157852173 | Total Loss: 0.9360752105712891\n",
            "Epoch Number: 26 | Iteration Number: 33900 | Focal Loss: 0.0005495496443472803 | Mask Loss: 1.258311152458191 | Total Loss: 1.25886070728302\n",
            "time taken in epoch 26:330.8994679450989\n"
          ],
          "name": "stdout"
        },
        {
          "output_type": "stream",
          "text": [
            "\r 72%|███████▏  | 26/36 [2:23:28<54:47, 328.70s/it]  "
          ],
          "name": "stderr"
        },
        {
          "output_type": "stream",
          "text": [
            "Epoch Number: 27 | Iteration Number: 34000 | Focal Loss: 0.0005503522115759552 | Mask Loss: 1.0507264137268066 | Total Loss: 1.0512768030166626\n",
            "Epoch Number: 27 | Iteration Number: 34100 | Focal Loss: 0.0002931503695435822 | Mask Loss: 0.9239789843559265 | Total Loss: 0.9242721199989319\n",
            "Epoch Number: 27 | Iteration Number: 34200 | Focal Loss: 0.00028472201665863395 | Mask Loss: 0.4246538281440735 | Total Loss: 0.4249385595321655\n",
            "Epoch Number: 27 | Iteration Number: 34300 | Focal Loss: 0.0006672456511296332 | Mask Loss: 0.7967754006385803 | Total Loss: 0.7974426746368408\n",
            "Epoch Number: 27 | Iteration Number: 34400 | Focal Loss: 0.0006008437485434115 | Mask Loss: 0.8670482635498047 | Total Loss: 0.8676490783691406\n",
            "Epoch Number: 27 | Iteration Number: 34500 | Focal Loss: 0.00041210156632587314 | Mask Loss: 0.6410517692565918 | Total Loss: 0.6414638757705688\n",
            "Epoch Number: 27 | Iteration Number: 34600 | Focal Loss: 0.0003310511528979987 | Mask Loss: 0.5707372426986694 | Total Loss: 0.571068286895752\n",
            "Epoch Number: 27 | Iteration Number: 34700 | Focal Loss: 0.0005127824260853231 | Mask Loss: 1.3240054845809937 | Total Loss: 1.3245183229446411\n",
            "Epoch Number: 27 | Iteration Number: 34800 | Focal Loss: 0.0004479112394619733 | Mask Loss: 1.3728867769241333 | Total Loss: 1.3733346462249756\n",
            "Epoch Number: 27 | Iteration Number: 34900 | Focal Loss: 0.0003560749755706638 | Mask Loss: 0.6856754422187805 | Total Loss: 0.6860315203666687\n",
            "Epoch Number: 27 | Iteration Number: 35000 | Focal Loss: 0.0005891710170544684 | Mask Loss: 1.0512946844100952 | Total Loss: 1.0518838167190552\n",
            "Epoch Number: 27 | Iteration Number: 35100 | Focal Loss: 0.0006248283316381276 | Mask Loss: 1.0624110698699951 | Total Loss: 1.0630358457565308\n",
            "Epoch Number: 27 | Iteration Number: 35200 | Focal Loss: 0.00037495174910873175 | Mask Loss: 0.7625125646591187 | Total Loss: 0.7628875374794006\n",
            "time taken in epoch 27:329.74892354011536\n"
          ],
          "name": "stdout"
        },
        {
          "output_type": "stream",
          "text": [
            "\r 75%|███████▌  | 27/36 [2:28:59<49:21, 329.11s/it]"
          ],
          "name": "stderr"
        },
        {
          "output_type": "stream",
          "text": [
            "Epoch Number: 28 | Iteration Number: 35300 | Focal Loss: 0.00034171846345998347 | Mask Loss: 0.8653895258903503 | Total Loss: 0.8657312393188477\n",
            "Epoch Number: 28 | Iteration Number: 35400 | Focal Loss: 0.0006354802753776312 | Mask Loss: 0.8643920421600342 | Total Loss: 0.8650275468826294\n",
            "Epoch Number: 28 | Iteration Number: 35500 | Focal Loss: 0.0004663033760152757 | Mask Loss: 0.8626327514648438 | Total Loss: 0.8630990386009216\n",
            "Epoch Number: 28 | Iteration Number: 35600 | Focal Loss: 0.0002539927954785526 | Mask Loss: 0.7023024559020996 | Total Loss: 0.7025564312934875\n",
            "Epoch Number: 28 | Iteration Number: 35700 | Focal Loss: 0.0004953797324560583 | Mask Loss: 1.2947450876235962 | Total Loss: 1.2952405214309692\n",
            "Epoch Number: 28 | Iteration Number: 35800 | Focal Loss: 0.00036056622047908604 | Mask Loss: 0.4219120144844055 | Total Loss: 0.42227259278297424\n",
            "Epoch Number: 28 | Iteration Number: 35900 | Focal Loss: 0.0003092771512456238 | Mask Loss: 0.4299934208393097 | Total Loss: 0.4303027093410492\n",
            "Epoch Number: 28 | Iteration Number: 36000 | Focal Loss: 0.0004621322441380471 | Mask Loss: 1.1601626873016357 | Total Loss: 1.1606248617172241\n",
            "Epoch Number: 28 | Iteration Number: 36100 | Focal Loss: 0.0003858559939544648 | Mask Loss: 0.6692178845405579 | Total Loss: 0.6696037650108337\n",
            "Epoch Number: 28 | Iteration Number: 36200 | Focal Loss: 0.00032966805156320333 | Mask Loss: 0.3371734619140625 | Total Loss: 0.3375031352043152\n",
            "Epoch Number: 28 | Iteration Number: 36300 | Focal Loss: 0.0006403598817996681 | Mask Loss: 0.7237410545349121 | Total Loss: 0.7243813872337341\n",
            "Epoch Number: 28 | Iteration Number: 36400 | Focal Loss: 0.0008078778046183288 | Mask Loss: 0.9045826196670532 | Total Loss: 0.9053905010223389\n",
            "Epoch Number: 28 | Iteration Number: 36500 | Focal Loss: 0.0003064885677304119 | Mask Loss: 0.3146701455116272 | Total Loss: 0.31497663259506226\n",
            "time taken in epoch 28:329.20714950561523\n"
          ],
          "name": "stdout"
        },
        {
          "output_type": "stream",
          "text": [
            "\r 78%|███████▊  | 28/36 [2:34:28<43:53, 329.22s/it]"
          ],
          "name": "stderr"
        },
        {
          "output_type": "stream",
          "text": [
            "Epoch Number: 29 | Iteration Number: 36600 | Focal Loss: 0.00040767656173557043 | Mask Loss: 0.6263884902000427 | Total Loss: 0.6267961859703064\n",
            "Epoch Number: 29 | Iteration Number: 36700 | Focal Loss: 0.0003608757979236543 | Mask Loss: 0.7176936268806458 | Total Loss: 0.718054473400116\n",
            "Epoch Number: 29 | Iteration Number: 36800 | Focal Loss: 0.00032142247073352337 | Mask Loss: 0.6030744314193726 | Total Loss: 0.6033958792686462\n",
            "Epoch Number: 29 | Iteration Number: 36900 | Focal Loss: 0.000521331385243684 | Mask Loss: 1.1860036849975586 | Total Loss: 1.1865249872207642\n",
            "Epoch Number: 29 | Iteration Number: 37000 | Focal Loss: 0.0004145600541960448 | Mask Loss: 0.5717938542366028 | Total Loss: 0.5722084045410156\n",
            "Epoch Number: 29 | Iteration Number: 37100 | Focal Loss: 0.0003009188803844154 | Mask Loss: 0.5112679600715637 | Total Loss: 0.5115689039230347\n",
            "Epoch Number: 29 | Iteration Number: 37200 | Focal Loss: 0.0005989223136566579 | Mask Loss: 0.9771361351013184 | Total Loss: 0.9777350425720215\n",
            "Epoch Number: 29 | Iteration Number: 37300 | Focal Loss: 0.00044070492731407285 | Mask Loss: 1.2264467477798462 | Total Loss: 1.2268874645233154\n",
            "Epoch Number: 29 | Iteration Number: 37400 | Focal Loss: 0.0004043182998429984 | Mask Loss: 0.39177405834198 | Total Loss: 0.39217838644981384\n",
            "Epoch Number: 29 | Iteration Number: 37500 | Focal Loss: 0.00030991004314273596 | Mask Loss: 0.36773693561553955 | Total Loss: 0.3680468499660492\n",
            "Epoch Number: 29 | Iteration Number: 37600 | Focal Loss: 0.00044293864630162716 | Mask Loss: 0.9265172481536865 | Total Loss: 0.9269601702690125\n",
            "Epoch Number: 29 | Iteration Number: 37700 | Focal Loss: 0.0009032118250615895 | Mask Loss: 0.8452636003494263 | Total Loss: 0.8461667895317078\n",
            "Epoch Number: 29 | Iteration Number: 37800 | Focal Loss: 0.00036879602703265846 | Mask Loss: 1.4335392713546753 | Total Loss: 1.4339081048965454\n",
            "time taken in epoch 29:326.4843714237213\n"
          ],
          "name": "stdout"
        },
        {
          "output_type": "stream",
          "text": [
            "\r 81%|████████  | 29/36 [2:39:55<38:19, 328.47s/it]"
          ],
          "name": "stderr"
        },
        {
          "output_type": "stream",
          "text": [
            "Epoch Number: 30 | Iteration Number: 37900 | Focal Loss: 0.0008325044764205813 | Mask Loss: 1.0414340496063232 | Total Loss: 1.042266607284546\n",
            "Epoch Number: 30 | Iteration Number: 38000 | Focal Loss: 0.00035958809894509614 | Mask Loss: 1.2975685596466064 | Total Loss: 1.2979280948638916\n",
            "Epoch Number: 30 | Iteration Number: 38100 | Focal Loss: 0.0005523631698451936 | Mask Loss: 0.5735492706298828 | Total Loss: 0.5741016268730164\n",
            "Epoch Number: 30 | Iteration Number: 38200 | Focal Loss: 0.0003411802463233471 | Mask Loss: 0.42587393522262573 | Total Loss: 0.42621511220932007\n",
            "Epoch Number: 30 | Iteration Number: 38300 | Focal Loss: 0.000434921559644863 | Mask Loss: 0.5965139269828796 | Total Loss: 0.5969488620758057\n",
            "Epoch Number: 30 | Iteration Number: 38400 | Focal Loss: 0.0005765434470959008 | Mask Loss: 1.0141575336456299 | Total Loss: 1.0147340297698975\n",
            "Epoch Number: 30 | Iteration Number: 38500 | Focal Loss: 0.0004478776245377958 | Mask Loss: 1.1616549491882324 | Total Loss: 1.1621028184890747\n",
            "Epoch Number: 30 | Iteration Number: 38600 | Focal Loss: 0.00030771607998758554 | Mask Loss: 0.916327178478241 | Total Loss: 0.9166349172592163\n",
            "Epoch Number: 30 | Iteration Number: 38700 | Focal Loss: 0.0003109505632892251 | Mask Loss: 0.34865570068359375 | Total Loss: 0.34896665811538696\n",
            "Epoch Number: 30 | Iteration Number: 38800 | Focal Loss: 0.0003468125651124865 | Mask Loss: 0.7409711480140686 | Total Loss: 0.7413179874420166\n",
            "Epoch Number: 30 | Iteration Number: 38900 | Focal Loss: 0.0005293923895806074 | Mask Loss: 1.196580410003662 | Total Loss: 1.1971098184585571\n",
            "Epoch Number: 30 | Iteration Number: 39000 | Focal Loss: 0.0002575629623606801 | Mask Loss: 0.4925895631313324 | Total Loss: 0.49284711480140686\n",
            "Epoch Number: 30 | Iteration Number: 39100 | Focal Loss: 0.00020698081061709672 | Mask Loss: 0.3546592593193054 | Total Loss: 0.35486623644828796\n",
            "time taken in epoch 30:326.0306212902069\n"
          ],
          "name": "stdout"
        },
        {
          "output_type": "stream",
          "text": [
            "\r 83%|████████▎ | 30/36 [2:45:21<32:46, 327.82s/it]"
          ],
          "name": "stderr"
        },
        {
          "output_type": "stream",
          "text": [
            "Epoch Number: 31 | Iteration Number: 39200 | Focal Loss: 0.00033526995684951544 | Mask Loss: 0.5641815066337585 | Total Loss: 0.5645167827606201\n",
            "Epoch Number: 31 | Iteration Number: 39300 | Focal Loss: 0.0002478225214872509 | Mask Loss: 0.4434339702129364 | Total Loss: 0.4436818063259125\n",
            "Epoch Number: 31 | Iteration Number: 39400 | Focal Loss: 0.00041793222771957517 | Mask Loss: 0.9977923631668091 | Total Loss: 0.9982103109359741\n",
            "Epoch Number: 31 | Iteration Number: 39500 | Focal Loss: 0.0003776109660975635 | Mask Loss: 0.7916681170463562 | Total Loss: 0.7920457124710083\n",
            "Epoch Number: 31 | Iteration Number: 39600 | Focal Loss: 0.0004984632832929492 | Mask Loss: 0.8630063533782959 | Total Loss: 0.8635048270225525\n",
            "Epoch Number: 31 | Iteration Number: 39700 | Focal Loss: 0.00039715852471999824 | Mask Loss: 0.5689844489097595 | Total Loss: 0.569381594657898\n",
            "Epoch Number: 31 | Iteration Number: 39800 | Focal Loss: 0.0004925230168737471 | Mask Loss: 0.8448938131332397 | Total Loss: 0.8453863263130188\n",
            "Epoch Number: 31 | Iteration Number: 39900 | Focal Loss: 0.0005659798043780029 | Mask Loss: 0.7236427068710327 | Total Loss: 0.7242087125778198\n",
            "Epoch Number: 31 | Iteration Number: 40000 | Focal Loss: 0.0002842485555447638 | Mask Loss: 0.45467931032180786 | Total Loss: 0.4549635648727417\n",
            "Epoch Number: 31 | Iteration Number: 40100 | Focal Loss: 0.00043514108983799815 | Mask Loss: 1.0129808187484741 | Total Loss: 1.0134159326553345\n",
            "Epoch Number: 31 | Iteration Number: 40200 | Focal Loss: 0.0002779075293801725 | Mask Loss: 0.45251816511154175 | Total Loss: 0.452796071767807\n",
            "Epoch Number: 31 | Iteration Number: 40300 | Focal Loss: 0.00036028644535690546 | Mask Loss: 1.0426136255264282 | Total Loss: 1.0429738759994507\n",
            "Epoch Number: 31 | Iteration Number: 40400 | Focal Loss: 0.00042300770292058587 | Mask Loss: 0.7900536060333252 | Total Loss: 0.7904766201972961\n",
            "time taken in epoch 31:320.80104327201843\n"
          ],
          "name": "stdout"
        },
        {
          "output_type": "stream",
          "text": [
            "\r 86%|████████▌ | 31/36 [2:50:42<27:08, 325.80s/it]"
          ],
          "name": "stderr"
        },
        {
          "output_type": "stream",
          "text": [
            "Epoch Number: 32 | Iteration Number: 40500 | Focal Loss: 0.00030158969457261264 | Mask Loss: 0.5524126291275024 | Total Loss: 0.5527142286300659\n",
            "Epoch Number: 32 | Iteration Number: 40600 | Focal Loss: 0.0003044199547730386 | Mask Loss: 0.6260858178138733 | Total Loss: 0.6263902187347412\n",
            "Epoch Number: 32 | Iteration Number: 40700 | Focal Loss: 0.00046077935257926583 | Mask Loss: 1.01970374584198 | Total Loss: 1.0201644897460938\n",
            "Epoch Number: 32 | Iteration Number: 40800 | Focal Loss: 0.00038483133539557457 | Mask Loss: 0.813106894493103 | Total Loss: 0.813491702079773\n",
            "Epoch Number: 32 | Iteration Number: 40900 | Focal Loss: 0.0005809058202430606 | Mask Loss: 0.8078079223632812 | Total Loss: 0.8083888292312622\n",
            "Epoch Number: 32 | Iteration Number: 41000 | Focal Loss: 0.00042419202509336174 | Mask Loss: 0.6851803064346313 | Total Loss: 0.6856045126914978\n",
            "Epoch Number: 32 | Iteration Number: 41100 | Focal Loss: 0.0004011937999166548 | Mask Loss: 0.40534865856170654 | Total Loss: 0.4057498574256897\n",
            "Epoch Number: 32 | Iteration Number: 41200 | Focal Loss: 0.0004943861276842654 | Mask Loss: 0.7469828724861145 | Total Loss: 0.7474772334098816\n",
            "Epoch Number: 32 | Iteration Number: 41300 | Focal Loss: 0.0008338280022144318 | Mask Loss: 1.0865715742111206 | Total Loss: 1.0874054431915283\n",
            "Epoch Number: 32 | Iteration Number: 41400 | Focal Loss: 0.0006200511124916375 | Mask Loss: 0.6464636325836182 | Total Loss: 0.6470836997032166\n",
            "Epoch Number: 32 | Iteration Number: 41500 | Focal Loss: 0.0003723182890098542 | Mask Loss: 0.6822067499160767 | Total Loss: 0.6825790405273438\n",
            "Epoch Number: 32 | Iteration Number: 41600 | Focal Loss: 0.00029632699443027377 | Mask Loss: 0.44324278831481934 | Total Loss: 0.4435391128063202\n",
            "Epoch Number: 32 | Iteration Number: 41700 | Focal Loss: 0.0007379055023193359 | Mask Loss: 1.2267742156982422 | Total Loss: 1.2275121212005615\n",
            "time taken in epoch 32:321.9146988391876\n"
          ],
          "name": "stdout"
        },
        {
          "output_type": "stream",
          "text": [
            "\r 89%|████████▉ | 32/36 [2:56:04<21:38, 324.71s/it]"
          ],
          "name": "stderr"
        },
        {
          "output_type": "stream",
          "text": [
            "Epoch Number: 33 | Iteration Number: 41800 | Focal Loss: 0.0003560730256140232 | Mask Loss: 0.9501707553863525 | Total Loss: 0.9505268335342407\n",
            "Epoch Number: 33 | Iteration Number: 41900 | Focal Loss: 0.00036498779081739485 | Mask Loss: 1.3063883781433105 | Total Loss: 1.306753396987915\n",
            "Epoch Number: 33 | Iteration Number: 42000 | Focal Loss: 0.0004918020567856729 | Mask Loss: 0.5177889466285706 | Total Loss: 0.5182807445526123\n",
            "Epoch Number: 33 | Iteration Number: 42100 | Focal Loss: 0.0003711135359480977 | Mask Loss: 1.0250722169876099 | Total Loss: 1.0254433155059814\n",
            "Epoch Number: 33 | Iteration Number: 42200 | Focal Loss: 0.0002919082762673497 | Mask Loss: 0.9337635040283203 | Total Loss: 0.9340553879737854\n",
            "Epoch Number: 33 | Iteration Number: 42300 | Focal Loss: 0.0005926750600337982 | Mask Loss: 0.7514328360557556 | Total Loss: 0.7520254850387573\n",
            "Epoch Number: 33 | Iteration Number: 42400 | Focal Loss: 0.00036161692696623504 | Mask Loss: 0.2581818401813507 | Total Loss: 0.258543461561203\n",
            "Epoch Number: 33 | Iteration Number: 42500 | Focal Loss: 0.0004107345303054899 | Mask Loss: 0.5545879602432251 | Total Loss: 0.5549986958503723\n",
            "Epoch Number: 33 | Iteration Number: 42600 | Focal Loss: 0.0006979000172577798 | Mask Loss: 0.7970840334892273 | Total Loss: 0.7977819442749023\n",
            "Epoch Number: 33 | Iteration Number: 42700 | Focal Loss: 0.00029439537320286036 | Mask Loss: 0.6855900287628174 | Total Loss: 0.685884416103363\n",
            "Epoch Number: 33 | Iteration Number: 42800 | Focal Loss: 0.000634203664958477 | Mask Loss: 0.8929179906845093 | Total Loss: 0.8935521841049194\n",
            "Epoch Number: 33 | Iteration Number: 42900 | Focal Loss: 0.0005189681542105973 | Mask Loss: 1.3468754291534424 | Total Loss: 1.347394347190857\n",
            "Epoch Number: 33 | Iteration Number: 43000 | Focal Loss: 0.0004033141885884106 | Mask Loss: 0.46495234966278076 | Total Loss: 0.46535566449165344\n",
            "time taken in epoch 33:324.3742980957031\n"
          ],
          "name": "stdout"
        },
        {
          "output_type": "stream",
          "text": [
            "\r 92%|█████████▏| 33/36 [3:01:29<16:14, 324.70s/it]"
          ],
          "name": "stderr"
        },
        {
          "output_type": "stream",
          "text": [
            "Epoch Number: 34 | Iteration Number: 43100 | Focal Loss: 0.0003069655504077673 | Mask Loss: 0.48989519476890564 | Total Loss: 0.4902021586894989\n",
            "Epoch Number: 34 | Iteration Number: 43200 | Focal Loss: 0.0007140542147681117 | Mask Loss: 0.6724135875701904 | Total Loss: 0.6731276512145996\n",
            "Epoch Number: 34 | Iteration Number: 43300 | Focal Loss: 0.00035103640402667224 | Mask Loss: 1.2369334697723389 | Total Loss: 1.237284541130066\n",
            "Epoch Number: 34 | Iteration Number: 43400 | Focal Loss: 0.0011107632890343666 | Mask Loss: 0.7419371604919434 | Total Loss: 0.7430479526519775\n",
            "Epoch Number: 34 | Iteration Number: 43500 | Focal Loss: 0.0003113549610134214 | Mask Loss: 0.632007360458374 | Total Loss: 0.6323187351226807\n",
            "Epoch Number: 34 | Iteration Number: 43600 | Focal Loss: 0.0005436521605588496 | Mask Loss: 0.7276064157485962 | Total Loss: 0.7281500697135925\n",
            "Epoch Number: 34 | Iteration Number: 43700 | Focal Loss: 0.0005476292571984231 | Mask Loss: 0.8615778684616089 | Total Loss: 0.8621255159378052\n",
            "Epoch Number: 34 | Iteration Number: 43800 | Focal Loss: 0.0005460659740492702 | Mask Loss: 0.8852987289428711 | Total Loss: 0.8858447670936584\n",
            "Epoch Number: 34 | Iteration Number: 43900 | Focal Loss: 0.0003211077710147947 | Mask Loss: 0.7355768084526062 | Total Loss: 0.7358978986740112\n",
            "Epoch Number: 34 | Iteration Number: 44000 | Focal Loss: 0.00036931459908373654 | Mask Loss: 0.27878472208976746 | Total Loss: 0.2791540324687958\n",
            "Epoch Number: 34 | Iteration Number: 44100 | Focal Loss: 0.00032892677700147033 | Mask Loss: 0.7015137076377869 | Total Loss: 0.7018426060676575\n",
            "Epoch Number: 34 | Iteration Number: 44200 | Focal Loss: 0.0004235355299897492 | Mask Loss: 0.523372232913971 | Total Loss: 0.5237957835197449\n",
            "Epoch Number: 34 | Iteration Number: 44300 | Focal Loss: 0.0004084452230017632 | Mask Loss: 0.7376819252967834 | Total Loss: 0.7380903959274292\n",
            "Epoch Number: 34 | Iteration Number: 44400 | Focal Loss: 0.0004052591393701732 | Mask Loss: 0.6134178638458252 | Total Loss: 0.6138231158256531\n",
            "time taken in epoch 34:324.8040120601654\n"
          ],
          "name": "stdout"
        },
        {
          "output_type": "stream",
          "text": [
            "\r 94%|█████████▍| 34/36 [3:06:54<10:49, 324.81s/it]"
          ],
          "name": "stderr"
        },
        {
          "output_type": "stream",
          "text": [
            "Epoch Number: 35 | Iteration Number: 44500 | Focal Loss: 0.0005626993952319026 | Mask Loss: 0.6172946691513062 | Total Loss: 0.6178573966026306\n",
            "Epoch Number: 35 | Iteration Number: 44600 | Focal Loss: 0.00031013161060400307 | Mask Loss: 0.7276581525802612 | Total Loss: 0.7279682755470276\n",
            "Epoch Number: 35 | Iteration Number: 44700 | Focal Loss: 0.0006848209304735065 | Mask Loss: 1.2840385437011719 | Total Loss: 1.2847234010696411\n",
            "Epoch Number: 35 | Iteration Number: 44800 | Focal Loss: 0.0005171222146600485 | Mask Loss: 0.4804811477661133 | Total Loss: 0.48099827766418457\n",
            "Epoch Number: 35 | Iteration Number: 44900 | Focal Loss: 0.0002559154818300158 | Mask Loss: 0.6609016060829163 | Total Loss: 0.6611575484275818\n",
            "Epoch Number: 35 | Iteration Number: 45000 | Focal Loss: 0.0004117385542485863 | Mask Loss: 0.6963987350463867 | Total Loss: 0.6968104839324951\n",
            "Epoch Number: 35 | Iteration Number: 45100 | Focal Loss: 0.0005495192017406225 | Mask Loss: 1.1560075283050537 | Total Loss: 1.1565570831298828\n",
            "Epoch Number: 35 | Iteration Number: 45200 | Focal Loss: 0.0007844514911994338 | Mask Loss: 0.6628454327583313 | Total Loss: 0.6636298894882202\n",
            "Epoch Number: 35 | Iteration Number: 45300 | Focal Loss: 0.0005328677361831069 | Mask Loss: 0.7915434837341309 | Total Loss: 0.7920763492584229\n",
            "Epoch Number: 35 | Iteration Number: 45400 | Focal Loss: 0.0005371803999878466 | Mask Loss: 0.707581639289856 | Total Loss: 0.7081187963485718\n",
            "Epoch Number: 35 | Iteration Number: 45500 | Focal Loss: 0.0003404073358979076 | Mask Loss: 0.5258989930152893 | Total Loss: 0.5262393951416016\n",
            "Epoch Number: 35 | Iteration Number: 45600 | Focal Loss: 0.0005445707938633859 | Mask Loss: 0.8709193468093872 | Total Loss: 0.8714638948440552\n",
            "Epoch Number: 35 | Iteration Number: 45700 | Focal Loss: 0.000412925350246951 | Mask Loss: 0.44407159090042114 | Total Loss: 0.44448450207710266\n",
            "time taken in epoch 35:324.7510426044464\n"
          ],
          "name": "stdout"
        },
        {
          "output_type": "stream",
          "text": [
            "\r 97%|█████████▋| 35/36 [3:12:19<05:24, 324.88s/it]"
          ],
          "name": "stderr"
        },
        {
          "output_type": "stream",
          "text": [
            "Epoch Number: 36 | Iteration Number: 45800 | Focal Loss: 0.0005159511929377913 | Mask Loss: 0.7127822637557983 | Total Loss: 0.7132982015609741\n",
            "Epoch Number: 36 | Iteration Number: 45900 | Focal Loss: 0.0004020172345917672 | Mask Loss: 0.5642374157905579 | Total Loss: 0.5646394491195679\n",
            "Epoch Number: 36 | Iteration Number: 46000 | Focal Loss: 0.00044374720891937613 | Mask Loss: 1.314185380935669 | Total Loss: 1.314629077911377\n",
            "Epoch Number: 36 | Iteration Number: 46100 | Focal Loss: 0.0004799749003723264 | Mask Loss: 0.5287923812866211 | Total Loss: 0.5292723774909973\n",
            "Epoch Number: 36 | Iteration Number: 46200 | Focal Loss: 0.00026985627482645214 | Mask Loss: 0.38314276933670044 | Total Loss: 0.383412629365921\n",
            "Epoch Number: 36 | Iteration Number: 46300 | Focal Loss: 0.0004592436016537249 | Mask Loss: 1.6002562046051025 | Total Loss: 1.6007153987884521\n",
            "Epoch Number: 36 | Iteration Number: 46400 | Focal Loss: 0.0003965253126807511 | Mask Loss: 0.3857354521751404 | Total Loss: 0.38613197207450867\n",
            "Epoch Number: 36 | Iteration Number: 46500 | Focal Loss: 0.0002448767190799117 | Mask Loss: 0.677019476890564 | Total Loss: 0.6772643327713013\n",
            "Epoch Number: 36 | Iteration Number: 46600 | Focal Loss: 0.0002962659054901451 | Mask Loss: 0.4825679659843445 | Total Loss: 0.48286423087120056\n",
            "Epoch Number: 36 | Iteration Number: 46700 | Focal Loss: 0.0004075630276929587 | Mask Loss: 0.3336334824562073 | Total Loss: 0.3340410590171814\n",
            "Epoch Number: 36 | Iteration Number: 46800 | Focal Loss: 0.000456824287539348 | Mask Loss: 0.7505348920822144 | Total Loss: 0.750991702079773\n",
            "Epoch Number: 36 | Iteration Number: 46900 | Focal Loss: 0.0006947386427782476 | Mask Loss: 0.8142147064208984 | Total Loss: 0.8149094581604004\n",
            "Epoch Number: 36 | Iteration Number: 47000 | Focal Loss: 0.0005293734138831496 | Mask Loss: 0.65574049949646 | Total Loss: 0.6562698483467102\n",
            "time taken in epoch 36:324.3124725818634\n"
          ],
          "name": "stdout"
        },
        {
          "output_type": "stream",
          "text": [
            "100%|██████████| 36/36 [3:17:44<00:00, 329.56s/it]\n"
          ],
          "name": "stderr"
        }
      ]
    },
    {
      "cell_type": "code",
      "metadata": {
        "id": "4pvPFv721Bgf",
        "colab": {
          "base_uri": "https://localhost:8080/",
          "height": 804
        },
        "outputId": "9727ca55-3eac-4059-da6b-31a4e5c141f8"
      },
      "source": [
        "import matplotlib.pyplot as plt\n",
        "\n",
        "plt.plot(Iters, Total_loss, 'r--')\n",
        "plt.xlabel('Epoch')\n",
        "plt.ylabel('Total Loss')\n",
        "plt.show()\n",
        "plt.plot(Iters, Mask_loss, 'r--')\n",
        "plt.xlabel('Epoch')\n",
        "plt.ylabel('Mask Loss')\n",
        "plt.show()\n",
        "plt.plot(Iters, Focal_loss, 'r--')\n",
        "plt.xlabel('Epoch')\n",
        "plt.ylabel('Focal Loss')\n",
        "plt.show()"
      ],
      "execution_count": null,
      "outputs": [
        {
          "output_type": "display_data",
          "data": {
            "image/png": "[encoded data removed]",
            "text/plain": [
              "<Figure size 432x288 with 1 Axes>"
            ]
          },
          "metadata": {
            "tags": [],
            "needs_background": "light"
          }
        },
        {
          "output_type": "display_data",
          "data": {
            "image/png": "[encoded data removed]",
            "text/plain": [
              "<Figure size 432x288 with 1 Axes>"
            ]
          },
          "metadata": {
            "tags": [],
            "needs_background": "light"
          }
        },
        {
          "output_type": "display_data",
          "data": {
            "image/png": "[encoded data removed]",
            "text/plain": [
              "<Figure size 432x288 with 1 Axes>"
            ]
          },
          "metadata": {
            "tags": [],
            "needs_background": "light"
          }
        }
      ]
    },
    {
      "cell_type": "code",
      "metadata": {
        "id": "G4ztpZWfdW17",
        "colab": {
          "base_uri": "https://localhost:8080/",
          "height": 1000
        },
        "outputId": "c2fa0cd6-6295-4745-9497-a607f0f30b1f"
      },
      "source": [
        "solo_head = solo_head.to(device)\n",
        "resnet50_fpn = Resnet50Backbone(device=device)\n",
        "optimizer = torch.optim.SGD(solo_head.parameters(),lr=0.01/8,momentum=0.9,weight_decay=0.0001)\n",
        "epochsdone = 0\n",
        "path = ''\n",
        "num_epochs = 36\n",
        "resume=False\n",
        "if resume:\n",
        "  path = '/content/gdrive/My Drive/CIS680_2020/SOLO_RM/Result'+str(resume_epoch)\n",
        "  checkpoint = torch.load(path)\n",
        "  solo_head.load_state_dict(checkpoint['model_state_dict'])\n",
        "  optimizer.load_state_dict(checkpoint['optimizer_state_dict'])\n",
        "  epochsdone = checkpoint['epoch']\n",
        "\n",
        "Mask_loss = []\n",
        "Focal_loss = []\n",
        "Total_loss = []\n",
        "Iters = []\n",
        "num_iters = 0\n",
        "tot_cumulative_loss = 0\n",
        "mask_cumulative_loss = 0\n",
        "focal_cumulative_loss = 0\n",
        "for epochs in tqdm.tqdm(range(num_epochs-epochsdone)):\n",
        "  start = time.time()\n",
        "  solo_head.train()\n",
        "  if epochs+epochsdone == 26:\n",
        "    optimizer = torch.optim.SGD(solo_head.parameters(),lr=0.01/80,momentum=0.9,weight_decay=0.0001)\n",
        "\n",
        "  if epochs+epochsdone == 33:\n",
        "    optimizer = torch.optim.SGD(solo_head.parameters(),lr=0.01/800,momentum=0.9,weight_decay=0.0001)\n",
        "\n",
        "  for i, data in enumerate(train_loader,0):\n",
        "    num_iters += 1\n",
        "    optimizer.zero_grad()\n",
        "    img, label_list, mask_list, bbox_list = [data[i] for i in range(len(data))]\n",
        "    img = img.float()\n",
        "    img=img.to(device)\n",
        "    with torch.no_grad():\n",
        "      backout = resnet50_fpn(img)\n",
        "      fpn_feat_list = list(backout.values())\n",
        "    del img\n",
        "    ## passing through the network\n",
        "    cate_pred_list,ins_pred_list = solo_head.forward(fpn_feat_list)\n",
        "    del fpn_feat_list\n",
        "    torch.cuda.empty_cache()\n",
        "    ##building Target\n",
        "\n",
        "\n",
        "    ins_gts_list, ins_ind_gts_list, cate_gts_list = solo_head.target(ins_pred_list,bbox_list,label_list,mask_list)\n",
        "    del bbox_list,label_list,mask_list\n",
        "    focal_loss,mask_loss,total_loss = solo_head.loss(cate_pred_list,ins_pred_list,ins_gts_list,ins_ind_gts_list,cate_gts_list)\n",
        "    total_loss.backward()\n",
        "    optimizer.step()\n",
        "    if num_iters%100 != 0:\n",
        "      tot_cumulative_loss += total_loss.cpu().item()\n",
        "      mask_cumulative_loss += mask_loss.cpu().item()\n",
        "      focal_cumulative_loss += focal_loss.cpu().item()\n",
        "    else:\n",
        "      Total_loss.append(tot_cumulative_loss/100)\n",
        "      Mask_loss.append(mask_cumulative_loss/100)\n",
        "      Focal_loss.append(focal_cumulative_loss/100)\n",
        "      tot_cumulative_loss = 0\n",
        "      mask_cumulative_loss = 0\n",
        "      focal_cumulative_loss = 0\n",
        "      Iters.append(num_iters)\n",
        "      print(\"Epoch Number: {} | Iteration Number: {} | Focal Loss: {} | Mask Loss: {} | Total Loss: {}\".format(epochs+epochsdone+1,num_iters,focal_loss.cpu().item(),(mask_loss*3).cpu().item(),total_loss.cpu().item()))\n",
        "    # Mask_loss.append(mask_loss)\n",
        "    # Total_loss.append(total_loss)\n",
        "    # Focal_loss.append(focal_loss)\n",
        "    # print('Epoch:{} | Focal Loss:{} | Mask Loss:{} | Total Loss:{}'.format(epochs+epochsdone+1,focal_loss.cpu().item(),mask_loss.cpu().item(),total_loss.cpu().item()))\n",
        "  print('time taken in epoch {}:{}'.format(epochs+epochsdone+1,time.time()-start))\n",
        "  ##saving model\n",
        "  path = '/content/gdrive/My Drive/CIS680_2020/SOLO_RM/Result'+str(epochs+epochsdone+1)\n",
        "  torch.save({\\\n",
        "              'epoch': epochs+1,\\\n",
        "              'model_state_dict': solo_head.state_dict(),\\\n",
        "              'optimizer_state_dict':optimizer.state_dict()\\\n",
        "              },path)\n",
        "\n"
      ],
      "execution_count": null,
      "outputs": [
        {
          "output_type": "stream",
          "text": [
            "\r  0%|          | 0/36 [00:00<?, ?it/s]/usr/local/lib/python3.6/dist-packages/torch/nn/functional.py:3121: UserWarning: Default upsampling behavior when mode=bilinear is changed to align_corners=False since 0.4.0. Please specify align_corners=True if the old behavior is desired. See the documentation of nn.Upsample for details.\n",
            "  \"See the documentation of nn.Upsample for details.\".format(mode))\n",
            "/usr/local/lib/python3.6/dist-packages/torch/nn/functional.py:3000: UserWarning: The default behavior for interpolate/upsample with float scale_factor changed in 1.6.0 to align with other frameworks/libraries, and uses scale_factor directly, instead of relying on the computed output size. If you wish to keep the old behavior, please set recompute_scale_factor=True. See the documentation of nn.Upsample for details. \n",
            "  warnings.warn(\"The default behavior for interpolate/upsample with float scale_factor changed \"\n"
          ],
          "name": "stderr"
        },
        {
          "output_type": "stream",
          "text": [
            "Epoch Number: 1 | Iteration Number: 100 | Focal Loss: 0.0018742075189948082 | Mask Loss: 1.552658200263977 | Total Loss: 1.5545324087142944\n",
            "Epoch Number: 1 | Iteration Number: 200 | Focal Loss: 0.001006061676889658 | Mask Loss: 2.2505416870117188 | Total Loss: 2.2515478134155273\n",
            "Epoch Number: 1 | Iteration Number: 300 | Focal Loss: 0.001714092679321766 | Mask Loss: 1.6065205335617065 | Total Loss: 1.6082346439361572\n",
            "Epoch Number: 1 | Iteration Number: 400 | Focal Loss: 0.0006730736349709332 | Mask Loss: 2.416978597640991 | Total Loss: 2.417651653289795\n",
            "Epoch Number: 1 | Iteration Number: 500 | Focal Loss: 0.0011294613359495997 | Mask Loss: 1.4271061420440674 | Total Loss: 1.428235650062561\n",
            "Epoch Number: 1 | Iteration Number: 600 | Focal Loss: 0.0007011469569988549 | Mask Loss: 2.590786933898926 | Total Loss: 2.5914881229400635\n",
            "Epoch Number: 1 | Iteration Number: 700 | Focal Loss: 0.0005306447856128216 | Mask Loss: 2.1843576431274414 | Total Loss: 2.1848883628845215\n",
            "Epoch Number: 1 | Iteration Number: 800 | Focal Loss: 0.0007925249519757926 | Mask Loss: 1.8011438846588135 | Total Loss: 1.801936388015747\n",
            "Epoch Number: 1 | Iteration Number: 900 | Focal Loss: 0.0010057397885248065 | Mask Loss: 2.015232563018799 | Total Loss: 2.016238212585449\n",
            "Epoch Number: 1 | Iteration Number: 1000 | Focal Loss: 0.0008425749256275594 | Mask Loss: 2.1843862533569336 | Total Loss: 2.1852288246154785\n",
            "Epoch Number: 1 | Iteration Number: 1100 | Focal Loss: 0.0005255996366031468 | Mask Loss: 0.8395835161209106 | Total Loss: 0.84010910987854\n",
            "Epoch Number: 1 | Iteration Number: 1200 | Focal Loss: 0.0007134806364774704 | Mask Loss: 0.8393367528915405 | Total Loss: 0.840050220489502\n",
            "Epoch Number: 1 | Iteration Number: 1300 | Focal Loss: 0.0004810295649804175 | Mask Loss: 1.5629392862319946 | Total Loss: 1.563420295715332\n"
          ],
          "name": "stdout"
        },
        {
          "output_type": "stream",
          "text": [
            "\r  3%|▎         | 1/36 [05:14<3:03:13, 314.10s/it]"
          ],
          "name": "stderr"
        },
        {
          "output_type": "stream",
          "text": [
            "time taken in epoch 1:314.0095992088318\n",
            "Epoch Number: 2 | Iteration Number: 1400 | Focal Loss: 0.0008210517698898911 | Mask Loss: 1.3285704851150513 | Total Loss: 1.3293914794921875\n",
            "Epoch Number: 2 | Iteration Number: 1500 | Focal Loss: 0.0006109167006798089 | Mask Loss: 0.9880867004394531 | Total Loss: 0.9886975884437561\n",
            "Epoch Number: 2 | Iteration Number: 1600 | Focal Loss: 0.0007635928341187537 | Mask Loss: 1.5101616382598877 | Total Loss: 1.5109251737594604\n",
            "Epoch Number: 2 | Iteration Number: 1700 | Focal Loss: 0.00043206530972383916 | Mask Loss: 1.7314884662628174 | Total Loss: 1.7319204807281494\n",
            "Epoch Number: 2 | Iteration Number: 1800 | Focal Loss: 0.0008047071751207113 | Mask Loss: 1.23757004737854 | Total Loss: 1.2383747100830078\n",
            "Epoch Number: 2 | Iteration Number: 1900 | Focal Loss: 0.0007497456972487271 | Mask Loss: 2.1149377822875977 | Total Loss: 2.115687608718872\n",
            "Epoch Number: 2 | Iteration Number: 2000 | Focal Loss: 0.0006653419695794582 | Mask Loss: 0.7413042187690735 | Total Loss: 0.7419695854187012\n",
            "Epoch Number: 2 | Iteration Number: 2100 | Focal Loss: 0.0005894023342989385 | Mask Loss: 2.2295889854431152 | Total Loss: 2.2301783561706543\n",
            "Epoch Number: 2 | Iteration Number: 2200 | Focal Loss: 0.0005725964438170195 | Mask Loss: 1.4826090335845947 | Total Loss: 1.4831815958023071\n",
            "Epoch Number: 2 | Iteration Number: 2300 | Focal Loss: 0.0004727370396722108 | Mask Loss: 1.2870681285858154 | Total Loss: 1.2875409126281738\n",
            "Epoch Number: 2 | Iteration Number: 2400 | Focal Loss: 0.00059846555814147 | Mask Loss: 1.1658525466918945 | Total Loss: 1.1664509773254395\n",
            "Epoch Number: 2 | Iteration Number: 2500 | Focal Loss: 0.000725740916095674 | Mask Loss: 1.4763164520263672 | Total Loss: 1.4770421981811523\n",
            "Epoch Number: 2 | Iteration Number: 2600 | Focal Loss: 0.00100549659691751 | Mask Loss: 1.0244739055633545 | Total Loss: 1.0254794359207153\n"
          ],
          "name": "stdout"
        },
        {
          "output_type": "stream",
          "text": [
            "\r  6%|▌         | 2/36 [10:27<2:57:49, 313.81s/it]"
          ],
          "name": "stderr"
        },
        {
          "output_type": "stream",
          "text": [
            "time taken in epoch 2:313.05935287475586\n",
            "Epoch Number: 3 | Iteration Number: 2700 | Focal Loss: 0.0006098366575315595 | Mask Loss: 1.0789072513580322 | Total Loss: 1.079517126083374\n",
            "Epoch Number: 3 | Iteration Number: 2800 | Focal Loss: 0.000814532395452261 | Mask Loss: 1.1372164487838745 | Total Loss: 1.138031005859375\n",
            "Epoch Number: 3 | Iteration Number: 2900 | Focal Loss: 0.0005393236060626805 | Mask Loss: 2.0529322624206543 | Total Loss: 2.053471565246582\n",
            "Epoch Number: 3 | Iteration Number: 3000 | Focal Loss: 0.0005664191558025777 | Mask Loss: 1.2124598026275635 | Total Loss: 1.2130261659622192\n",
            "Epoch Number: 3 | Iteration Number: 3100 | Focal Loss: 0.000592611322645098 | Mask Loss: 1.1589399576187134 | Total Loss: 1.1595325469970703\n",
            "Epoch Number: 3 | Iteration Number: 3200 | Focal Loss: 0.000706391641870141 | Mask Loss: 1.1466518640518188 | Total Loss: 1.1473582983016968\n",
            "Epoch Number: 3 | Iteration Number: 3300 | Focal Loss: 0.0007314466056413949 | Mask Loss: 1.0515334606170654 | Total Loss: 1.052264928817749\n",
            "Epoch Number: 3 | Iteration Number: 3400 | Focal Loss: 0.0005097529501654208 | Mask Loss: 0.9429454207420349 | Total Loss: 0.943455159664154\n",
            "Epoch Number: 3 | Iteration Number: 3500 | Focal Loss: 0.0007281183497980237 | Mask Loss: 2.229292154312134 | Total Loss: 2.23002028465271\n",
            "Epoch Number: 3 | Iteration Number: 3600 | Focal Loss: 0.000524970528203994 | Mask Loss: 1.472369909286499 | Total Loss: 1.4728949069976807\n",
            "Epoch Number: 3 | Iteration Number: 3700 | Focal Loss: 0.0007617184892296791 | Mask Loss: 2.18375301361084 | Total Loss: 2.1845147609710693\n",
            "Epoch Number: 3 | Iteration Number: 3800 | Focal Loss: 0.0009060971788130701 | Mask Loss: 1.2519912719726562 | Total Loss: 1.2528973817825317\n",
            "Epoch Number: 3 | Iteration Number: 3900 | Focal Loss: 0.0005254620336927474 | Mask Loss: 1.093379020690918 | Total Loss: 1.0939044952392578\n"
          ],
          "name": "stdout"
        },
        {
          "output_type": "stream",
          "text": [
            "\r  8%|▊         | 3/36 [15:40<2:52:29, 313.62s/it]"
          ],
          "name": "stderr"
        },
        {
          "output_type": "stream",
          "text": [
            "time taken in epoch 3:313.066606760025\n",
            "Epoch Number: 4 | Iteration Number: 4000 | Focal Loss: 0.0005004550330340862 | Mask Loss: 1.095905065536499 | Total Loss: 1.0964055061340332\n",
            "Epoch Number: 4 | Iteration Number: 4100 | Focal Loss: 0.0006814512307755649 | Mask Loss: 1.3708804845809937 | Total Loss: 1.371561884880066\n",
            "Epoch Number: 4 | Iteration Number: 4200 | Focal Loss: 0.00043534213909879327 | Mask Loss: 1.490463137626648 | Total Loss: 1.4908984899520874\n",
            "Epoch Number: 4 | Iteration Number: 4300 | Focal Loss: 0.000604175787884742 | Mask Loss: 2.4804763793945312 | Total Loss: 2.4810805320739746\n",
            "Epoch Number: 4 | Iteration Number: 4400 | Focal Loss: 0.0007934992318041623 | Mask Loss: 0.7873464822769165 | Total Loss: 0.7881399989128113\n",
            "Epoch Number: 4 | Iteration Number: 4500 | Focal Loss: 0.00053006736561656 | Mask Loss: 1.5034363269805908 | Total Loss: 1.5039664506912231\n",
            "Epoch Number: 4 | Iteration Number: 4600 | Focal Loss: 0.0008073432254604995 | Mask Loss: 1.8691688776016235 | Total Loss: 1.8699761629104614\n",
            "Epoch Number: 4 | Iteration Number: 4700 | Focal Loss: 0.0004114111652597785 | Mask Loss: 2.507012367248535 | Total Loss: 2.5074238777160645\n",
            "Epoch Number: 4 | Iteration Number: 4800 | Focal Loss: 0.0007787916692905128 | Mask Loss: 1.2007617950439453 | Total Loss: 1.2015405893325806\n",
            "Epoch Number: 4 | Iteration Number: 4900 | Focal Loss: 0.0005512808565981686 | Mask Loss: 1.55195152759552 | Total Loss: 1.5525027513504028\n",
            "Epoch Number: 4 | Iteration Number: 5000 | Focal Loss: 0.0005387873388826847 | Mask Loss: 1.8003737926483154 | Total Loss: 1.800912618637085\n",
            "Epoch Number: 4 | Iteration Number: 5100 | Focal Loss: 0.0005714341532438993 | Mask Loss: 1.2110563516616821 | Total Loss: 1.2116278409957886\n",
            "Epoch Number: 4 | Iteration Number: 5200 | Focal Loss: 0.0006823640433140099 | Mask Loss: 1.1067838668823242 | Total Loss: 1.107466220855713\n"
          ],
          "name": "stdout"
        },
        {
          "output_type": "stream",
          "text": [
            "\r 11%|█         | 4/36 [20:53<2:47:09, 313.43s/it]"
          ],
          "name": "stderr"
        },
        {
          "output_type": "stream",
          "text": [
            "time taken in epoch 4:312.9134440422058\n",
            "Epoch Number: 5 | Iteration Number: 5300 | Focal Loss: 0.0009340714896097779 | Mask Loss: 1.3373570442199707 | Total Loss: 1.3382911682128906\n",
            "Epoch Number: 5 | Iteration Number: 5400 | Focal Loss: 0.0005929534090682864 | Mask Loss: 1.5930321216583252 | Total Loss: 1.5936250686645508\n",
            "Epoch Number: 5 | Iteration Number: 5500 | Focal Loss: 0.0008417421486228704 | Mask Loss: 0.941841721534729 | Total Loss: 0.9426834583282471\n",
            "Epoch Number: 5 | Iteration Number: 5600 | Focal Loss: 0.001194981043227017 | Mask Loss: 1.745518684387207 | Total Loss: 1.746713638305664\n",
            "Epoch Number: 5 | Iteration Number: 5700 | Focal Loss: 0.0005642067408189178 | Mask Loss: 1.246255874633789 | Total Loss: 1.246820092201233\n",
            "Epoch Number: 5 | Iteration Number: 5800 | Focal Loss: 0.00044209742918610573 | Mask Loss: 0.7499336004257202 | Total Loss: 0.7503756880760193\n",
            "Epoch Number: 5 | Iteration Number: 5900 | Focal Loss: 0.0004171055043116212 | Mask Loss: 1.1491732597351074 | Total Loss: 1.1495903730392456\n",
            "Epoch Number: 5 | Iteration Number: 6000 | Focal Loss: 0.0004676672979258001 | Mask Loss: 1.9187874794006348 | Total Loss: 1.9192551374435425\n",
            "Epoch Number: 5 | Iteration Number: 6100 | Focal Loss: 0.0008489727624692023 | Mask Loss: 1.3181451559066772 | Total Loss: 1.318994164466858\n",
            "Epoch Number: 5 | Iteration Number: 6200 | Focal Loss: 0.0010213577188551426 | Mask Loss: 1.5200614929199219 | Total Loss: 1.521082878112793\n",
            "Epoch Number: 5 | Iteration Number: 6300 | Focal Loss: 0.0004813644918613136 | Mask Loss: 1.3365001678466797 | Total Loss: 1.3369815349578857\n",
            "Epoch Number: 5 | Iteration Number: 6400 | Focal Loss: 0.0008475614013150334 | Mask Loss: 1.087653398513794 | Total Loss: 1.0885009765625\n",
            "Epoch Number: 5 | Iteration Number: 6500 | Focal Loss: 0.0007481665234081447 | Mask Loss: 1.3546204566955566 | Total Loss: 1.3553686141967773\n"
          ],
          "name": "stdout"
        },
        {
          "output_type": "stream",
          "text": [
            "\r 14%|█▍        | 5/36 [26:08<2:42:16, 314.07s/it]"
          ],
          "name": "stderr"
        },
        {
          "output_type": "stream",
          "text": [
            "time taken in epoch 5:315.4633905887604\n",
            "Epoch Number: 6 | Iteration Number: 6600 | Focal Loss: 0.0006485478952527046 | Mask Loss: 0.8879489898681641 | Total Loss: 0.8885975480079651\n",
            "Epoch Number: 6 | Iteration Number: 6700 | Focal Loss: 0.0006052895914763212 | Mask Loss: 1.8389036655426025 | Total Loss: 1.8395090103149414\n",
            "Epoch Number: 6 | Iteration Number: 6800 | Focal Loss: 0.0005365543183870614 | Mask Loss: 1.6142216920852661 | Total Loss: 1.6147582530975342\n",
            "Epoch Number: 6 | Iteration Number: 6900 | Focal Loss: 0.001028978731483221 | Mask Loss: 1.567833662033081 | Total Loss: 1.5688626766204834\n",
            "Epoch Number: 6 | Iteration Number: 7000 | Focal Loss: 0.0007628099992871284 | Mask Loss: 0.7680766582489014 | Total Loss: 0.7688394784927368\n",
            "Epoch Number: 6 | Iteration Number: 7100 | Focal Loss: 0.0003478030557744205 | Mask Loss: 1.001760482788086 | Total Loss: 1.0021083354949951\n",
            "Epoch Number: 6 | Iteration Number: 7200 | Focal Loss: 0.0007896187016740441 | Mask Loss: 1.041504979133606 | Total Loss: 1.0422946214675903\n",
            "Epoch Number: 6 | Iteration Number: 7300 | Focal Loss: 0.0006195720634423196 | Mask Loss: 1.4687410593032837 | Total Loss: 1.469360589981079\n",
            "Epoch Number: 6 | Iteration Number: 7400 | Focal Loss: 0.0004536337510216981 | Mask Loss: 1.430168628692627 | Total Loss: 1.4306222200393677\n",
            "Epoch Number: 6 | Iteration Number: 7500 | Focal Loss: 0.0005782337975688279 | Mask Loss: 0.8690348863601685 | Total Loss: 0.8696131110191345\n",
            "Epoch Number: 6 | Iteration Number: 7600 | Focal Loss: 0.0005653215339407325 | Mask Loss: 1.6454755067825317 | Total Loss: 1.6460407972335815\n",
            "Epoch Number: 6 | Iteration Number: 7700 | Focal Loss: 0.0005763851804658771 | Mask Loss: 1.1002854108810425 | Total Loss: 1.1008617877960205\n",
            "Epoch Number: 6 | Iteration Number: 7800 | Focal Loss: 0.0005402365932241082 | Mask Loss: 0.9972343444824219 | Total Loss: 0.997774600982666\n"
          ],
          "name": "stdout"
        },
        {
          "output_type": "stream",
          "text": [
            "\r 17%|█▋        | 6/36 [31:23<2:37:03, 314.13s/it]"
          ],
          "name": "stderr"
        },
        {
          "output_type": "stream",
          "text": [
            "time taken in epoch 6:314.1919274330139\n",
            "Epoch Number: 7 | Iteration Number: 7900 | Focal Loss: 0.0005350692663341761 | Mask Loss: 0.9748737215995789 | Total Loss: 0.9754087924957275\n",
            "Epoch Number: 7 | Iteration Number: 8000 | Focal Loss: 0.0009916899725794792 | Mask Loss: 2.452615976333618 | Total Loss: 2.4536075592041016\n",
            "Epoch Number: 7 | Iteration Number: 8100 | Focal Loss: 0.0004362948820926249 | Mask Loss: 0.75288987159729 | Total Loss: 0.7533261775970459\n",
            "Epoch Number: 7 | Iteration Number: 8200 | Focal Loss: 0.0005310545675456524 | Mask Loss: 1.4114412069320679 | Total Loss: 1.4119722843170166\n",
            "Epoch Number: 7 | Iteration Number: 8300 | Focal Loss: 0.0006563941715285182 | Mask Loss: 1.5878773927688599 | Total Loss: 1.5885337591171265\n",
            "Epoch Number: 7 | Iteration Number: 8400 | Focal Loss: 0.000520368805155158 | Mask Loss: 1.1200695037841797 | Total Loss: 1.1205898523330688\n",
            "Epoch Number: 7 | Iteration Number: 8500 | Focal Loss: 0.0004382253682706505 | Mask Loss: 1.6841819286346436 | Total Loss: 1.6846201419830322\n",
            "Epoch Number: 7 | Iteration Number: 8600 | Focal Loss: 0.0006390496855601668 | Mask Loss: 1.3537694215774536 | Total Loss: 1.3544085025787354\n",
            "Epoch Number: 7 | Iteration Number: 8700 | Focal Loss: 0.0004278826236259192 | Mask Loss: 1.0519046783447266 | Total Loss: 1.0523325204849243\n",
            "Epoch Number: 7 | Iteration Number: 8800 | Focal Loss: 0.0006909110816195607 | Mask Loss: 1.5165964365005493 | Total Loss: 1.5172873735427856\n",
            "Epoch Number: 7 | Iteration Number: 8900 | Focal Loss: 0.00032373255817219615 | Mask Loss: 0.9651374816894531 | Total Loss: 0.9654611945152283\n",
            "Epoch Number: 7 | Iteration Number: 9000 | Focal Loss: 0.0005706591764464974 | Mask Loss: 2.2735836505889893 | Total Loss: 2.2741544246673584\n",
            "Epoch Number: 7 | Iteration Number: 9100 | Focal Loss: 0.000521258742082864 | Mask Loss: 1.428081750869751 | Total Loss: 1.4286030530929565\n"
          ],
          "name": "stdout"
        },
        {
          "output_type": "stream",
          "text": [
            "\r 19%|█▉        | 7/36 [36:37<2:31:47, 314.06s/it]"
          ],
          "name": "stderr"
        },
        {
          "output_type": "stream",
          "text": [
            "time taken in epoch 7:313.8037271499634\n",
            "Epoch Number: 8 | Iteration Number: 9200 | Focal Loss: 0.0006788645405322313 | Mask Loss: 1.3522534370422363 | Total Loss: 1.352932333946228\n",
            "Epoch Number: 8 | Iteration Number: 9300 | Focal Loss: 0.0005401347298175097 | Mask Loss: 0.9139463901519775 | Total Loss: 0.9144865274429321\n",
            "Epoch Number: 8 | Iteration Number: 9400 | Focal Loss: 0.00043763930443674326 | Mask Loss: 2.026456356048584 | Total Loss: 2.0268940925598145\n",
            "Epoch Number: 8 | Iteration Number: 9500 | Focal Loss: 0.0005771679570898414 | Mask Loss: 1.3364897966384888 | Total Loss: 1.3370670080184937\n",
            "Epoch Number: 8 | Iteration Number: 9600 | Focal Loss: 0.0006780911353416741 | Mask Loss: 0.9661222100257874 | Total Loss: 0.9668002724647522\n",
            "Epoch Number: 8 | Iteration Number: 9700 | Focal Loss: 0.0005509686889126897 | Mask Loss: 0.9020593166351318 | Total Loss: 0.9026103019714355\n",
            "Epoch Number: 8 | Iteration Number: 9800 | Focal Loss: 0.0006662844680249691 | Mask Loss: 1.1216961145401 | Total Loss: 1.1223623752593994\n",
            "Epoch Number: 8 | Iteration Number: 9900 | Focal Loss: 0.0009078031871467829 | Mask Loss: 1.3301315307617188 | Total Loss: 1.331039309501648\n",
            "Epoch Number: 8 | Iteration Number: 10000 | Focal Loss: 0.0004386646905913949 | Mask Loss: 1.2360589504241943 | Total Loss: 1.2364976406097412\n",
            "Epoch Number: 8 | Iteration Number: 10100 | Focal Loss: 0.0005874084308743477 | Mask Loss: 2.2951323986053467 | Total Loss: 2.295719861984253\n",
            "Epoch Number: 8 | Iteration Number: 10200 | Focal Loss: 0.0004801331087946892 | Mask Loss: 1.0752582550048828 | Total Loss: 1.0757384300231934\n",
            "Epoch Number: 8 | Iteration Number: 10300 | Focal Loss: 0.00047031385474838316 | Mask Loss: 1.5480687618255615 | Total Loss: 1.5485390424728394\n",
            "Epoch Number: 8 | Iteration Number: 10400 | Focal Loss: 0.0005359023925848305 | Mask Loss: 1.473770022392273 | Total Loss: 1.4743058681488037\n"
          ],
          "name": "stdout"
        },
        {
          "output_type": "stream",
          "text": [
            "\r 22%|██▏       | 8/36 [41:50<2:26:30, 313.96s/it]"
          ],
          "name": "stderr"
        },
        {
          "output_type": "stream",
          "text": [
            "time taken in epoch 8:313.6110153198242\n",
            "Epoch Number: 9 | Iteration Number: 10500 | Focal Loss: 0.00048689593677408993 | Mask Loss: 1.5326437950134277 | Total Loss: 1.5331306457519531\n",
            "Epoch Number: 9 | Iteration Number: 10600 | Focal Loss: 0.0006362487329170108 | Mask Loss: 0.926680862903595 | Total Loss: 0.9273170828819275\n",
            "Epoch Number: 9 | Iteration Number: 10700 | Focal Loss: 0.0007222718559205532 | Mask Loss: 0.7095839977264404 | Total Loss: 0.7103062868118286\n",
            "Epoch Number: 9 | Iteration Number: 10800 | Focal Loss: 0.0008887660223990679 | Mask Loss: 1.2433717250823975 | Total Loss: 1.244260549545288\n",
            "Epoch Number: 9 | Iteration Number: 10900 | Focal Loss: 0.0008078512037172914 | Mask Loss: 1.4061710834503174 | Total Loss: 1.406978964805603\n",
            "Epoch Number: 9 | Iteration Number: 11000 | Focal Loss: 0.0004313295939937234 | Mask Loss: 0.6174861192703247 | Total Loss: 0.6179174780845642\n",
            "Epoch Number: 9 | Iteration Number: 11100 | Focal Loss: 0.0005647496436722577 | Mask Loss: 1.1485528945922852 | Total Loss: 1.1491175889968872\n",
            "Epoch Number: 9 | Iteration Number: 11200 | Focal Loss: 0.0005428735166788101 | Mask Loss: 0.794690728187561 | Total Loss: 0.7952336072921753\n",
            "Epoch Number: 9 | Iteration Number: 11300 | Focal Loss: 0.0006398201221600175 | Mask Loss: 1.3667556047439575 | Total Loss: 1.3673954010009766\n",
            "Epoch Number: 9 | Iteration Number: 11400 | Focal Loss: 0.0007835366996005177 | Mask Loss: 0.9783743619918823 | Total Loss: 0.9791579246520996\n",
            "Epoch Number: 9 | Iteration Number: 11500 | Focal Loss: 0.0007826936198398471 | Mask Loss: 1.0649245977401733 | Total Loss: 1.0657073259353638\n",
            "Epoch Number: 9 | Iteration Number: 11600 | Focal Loss: 0.0004145538550801575 | Mask Loss: 1.1149544715881348 | Total Loss: 1.1153690814971924\n",
            "Epoch Number: 9 | Iteration Number: 11700 | Focal Loss: 0.0005906695732846856 | Mask Loss: 1.0623209476470947 | Total Loss: 1.0629116296768188\n"
          ],
          "name": "stdout"
        },
        {
          "output_type": "stream",
          "text": [
            "\r 25%|██▌       | 9/36 [47:04<2:21:11, 313.76s/it]"
          ],
          "name": "stderr"
        },
        {
          "output_type": "stream",
          "text": [
            "time taken in epoch 9:313.20863676071167\n",
            "Epoch Number: 10 | Iteration Number: 11800 | Focal Loss: 0.000669483095407486 | Mask Loss: 1.5873939990997314 | Total Loss: 1.5880634784698486\n",
            "Epoch Number: 10 | Iteration Number: 11900 | Focal Loss: 0.0006312302430160344 | Mask Loss: 1.9633212089538574 | Total Loss: 1.9639524221420288\n",
            "Epoch Number: 10 | Iteration Number: 12000 | Focal Loss: 0.0007026813109405339 | Mask Loss: 1.7537341117858887 | Total Loss: 1.7544368505477905\n",
            "Epoch Number: 10 | Iteration Number: 12100 | Focal Loss: 0.0008960491977632046 | Mask Loss: 1.3845219612121582 | Total Loss: 1.3854180574417114\n",
            "Epoch Number: 10 | Iteration Number: 12200 | Focal Loss: 0.0006556417793035507 | Mask Loss: 2.493429183959961 | Total Loss: 2.4940848350524902\n",
            "Epoch Number: 10 | Iteration Number: 12300 | Focal Loss: 0.0010276467073708773 | Mask Loss: 1.0002622604370117 | Total Loss: 1.001289963722229\n",
            "Epoch Number: 10 | Iteration Number: 12400 | Focal Loss: 0.0006294808117672801 | Mask Loss: 1.1188725233078003 | Total Loss: 1.1195019483566284\n",
            "Epoch Number: 10 | Iteration Number: 12500 | Focal Loss: 0.0005431969184428453 | Mask Loss: 1.0027501583099365 | Total Loss: 1.0032933950424194\n",
            "Epoch Number: 10 | Iteration Number: 12600 | Focal Loss: 0.0005521591519936919 | Mask Loss: 1.4729751348495483 | Total Loss: 1.4735273122787476\n",
            "Epoch Number: 10 | Iteration Number: 12700 | Focal Loss: 0.0007416950538754463 | Mask Loss: 1.0016117095947266 | Total Loss: 1.0023534297943115\n",
            "Epoch Number: 10 | Iteration Number: 12800 | Focal Loss: 0.00044370960677042603 | Mask Loss: 1.3340046405792236 | Total Loss: 1.3344483375549316\n",
            "Epoch Number: 10 | Iteration Number: 12900 | Focal Loss: 0.0005991936195641756 | Mask Loss: 1.0112080574035645 | Total Loss: 1.0118072032928467\n",
            "Epoch Number: 10 | Iteration Number: 13000 | Focal Loss: 0.0008029603632166982 | Mask Loss: 1.8234877586364746 | Total Loss: 1.8242907524108887\n"
          ],
          "name": "stdout"
        },
        {
          "output_type": "stream",
          "text": [
            "\r 28%|██▊       | 10/36 [52:18<2:16:06, 314.08s/it]"
          ],
          "name": "stderr"
        },
        {
          "output_type": "stream",
          "text": [
            "time taken in epoch 10:314.7450726032257\n",
            "Epoch Number: 11 | Iteration Number: 13100 | Focal Loss: 0.00043626787373796105 | Mask Loss: 1.236955165863037 | Total Loss: 1.237391471862793\n",
            "Epoch Number: 11 | Iteration Number: 13200 | Focal Loss: 0.00045628295629285276 | Mask Loss: 1.5725836753845215 | Total Loss: 1.5730400085449219\n",
            "Epoch Number: 11 | Iteration Number: 13300 | Focal Loss: 0.00043755286606028676 | Mask Loss: 2.2032833099365234 | Total Loss: 2.203720808029175\n",
            "Epoch Number: 11 | Iteration Number: 13400 | Focal Loss: 0.0004329318762756884 | Mask Loss: 1.1818548440933228 | Total Loss: 1.1822878122329712\n",
            "Epoch Number: 11 | Iteration Number: 13500 | Focal Loss: 0.0006979189347475767 | Mask Loss: 0.9802460074424744 | Total Loss: 0.9809439182281494\n",
            "Epoch Number: 11 | Iteration Number: 13600 | Focal Loss: 0.0004981036181561649 | Mask Loss: 1.6663910150527954 | Total Loss: 1.6668890714645386\n",
            "Epoch Number: 11 | Iteration Number: 13700 | Focal Loss: 0.0009750723256729543 | Mask Loss: 0.9945293068885803 | Total Loss: 0.9955043792724609\n",
            "Epoch Number: 11 | Iteration Number: 13800 | Focal Loss: 0.0006409158813767135 | Mask Loss: 1.3305814266204834 | Total Loss: 1.3312222957611084\n",
            "Epoch Number: 11 | Iteration Number: 13900 | Focal Loss: 0.00041764500201679766 | Mask Loss: 0.8503098487854004 | Total Loss: 0.8507274985313416\n",
            "Epoch Number: 11 | Iteration Number: 14000 | Focal Loss: 0.000459325616247952 | Mask Loss: 1.3518998622894287 | Total Loss: 1.3523591756820679\n",
            "Epoch Number: 11 | Iteration Number: 14100 | Focal Loss: 0.0004969601868651807 | Mask Loss: 1.2877962589263916 | Total Loss: 1.2882932424545288\n",
            "Epoch Number: 11 | Iteration Number: 14200 | Focal Loss: 0.0006023005698807538 | Mask Loss: 0.5278584361076355 | Total Loss: 0.5284607410430908\n",
            "Epoch Number: 11 | Iteration Number: 14300 | Focal Loss: 0.0004537355271168053 | Mask Loss: 1.0980247259140015 | Total Loss: 1.0984784364700317\n"
          ],
          "name": "stdout"
        },
        {
          "output_type": "stream",
          "text": [
            "\r 31%|███       | 11/36 [57:34<2:10:59, 314.38s/it]"
          ],
          "name": "stderr"
        },
        {
          "output_type": "stream",
          "text": [
            "time taken in epoch 11:314.98555040359497\n",
            "Epoch Number: 12 | Iteration Number: 14400 | Focal Loss: 0.00042076033423654735 | Mask Loss: 1.260679841041565 | Total Loss: 1.2611006498336792\n",
            "Epoch Number: 12 | Iteration Number: 14500 | Focal Loss: 0.0004444551304914057 | Mask Loss: 1.6361138820648193 | Total Loss: 1.6365582942962646\n",
            "Epoch Number: 12 | Iteration Number: 14600 | Focal Loss: 0.0007328593637794256 | Mask Loss: 2.158576250076294 | Total Loss: 2.159309148788452\n",
            "Epoch Number: 12 | Iteration Number: 14700 | Focal Loss: 0.0004332006792537868 | Mask Loss: 0.7882362604141235 | Total Loss: 0.7886694669723511\n",
            "Epoch Number: 12 | Iteration Number: 14800 | Focal Loss: 0.0005012215115129948 | Mask Loss: 1.053044319152832 | Total Loss: 1.053545594215393\n",
            "Epoch Number: 12 | Iteration Number: 14900 | Focal Loss: 0.0006342067499645054 | Mask Loss: 0.8367106914520264 | Total Loss: 0.8373448848724365\n",
            "Epoch Number: 12 | Iteration Number: 15000 | Focal Loss: 0.0005785573739558458 | Mask Loss: 1.4541246891021729 | Total Loss: 1.4547032117843628\n",
            "Epoch Number: 12 | Iteration Number: 15100 | Focal Loss: 0.0005153634119778872 | Mask Loss: 2.06179141998291 | Total Loss: 2.0623068809509277\n",
            "Epoch Number: 12 | Iteration Number: 15200 | Focal Loss: 0.000357145385351032 | Mask Loss: 0.42699235677719116 | Total Loss: 0.4273495078086853\n",
            "Epoch Number: 12 | Iteration Number: 15300 | Focal Loss: 0.0004898919141851366 | Mask Loss: 1.0145851373672485 | Total Loss: 1.0150750875473022\n",
            "Epoch Number: 12 | Iteration Number: 15400 | Focal Loss: 0.0005337007460184395 | Mask Loss: 1.5693279504776 | Total Loss: 1.569861650466919\n",
            "Epoch Number: 12 | Iteration Number: 15500 | Focal Loss: 0.001048411475494504 | Mask Loss: 1.1850045919418335 | Total Loss: 1.1860530376434326\n",
            "Epoch Number: 12 | Iteration Number: 15600 | Focal Loss: 0.0004203694988973439 | Mask Loss: 0.6458392143249512 | Total Loss: 0.646259605884552\n"
          ],
          "name": "stdout"
        },
        {
          "output_type": "stream",
          "text": [
            "\r 33%|███▎      | 12/36 [1:02:48<2:05:43, 314.33s/it]"
          ],
          "name": "stderr"
        },
        {
          "output_type": "stream",
          "text": [
            "time taken in epoch 12:314.11519050598145\n",
            "Epoch Number: 13 | Iteration Number: 15700 | Focal Loss: 0.00045908376341685653 | Mask Loss: 1.0671732425689697 | Total Loss: 1.0676323175430298\n",
            "Epoch Number: 13 | Iteration Number: 15800 | Focal Loss: 0.0006418224656954408 | Mask Loss: 0.5613264441490173 | Total Loss: 0.5619682669639587\n",
            "Epoch Number: 13 | Iteration Number: 15900 | Focal Loss: 0.0006392481154762208 | Mask Loss: 1.0943429470062256 | Total Loss: 1.0949821472167969\n",
            "Epoch Number: 13 | Iteration Number: 16000 | Focal Loss: 0.00051321234786883 | Mask Loss: 0.941730260848999 | Total Loss: 0.9422434568405151\n",
            "Epoch Number: 13 | Iteration Number: 16100 | Focal Loss: 0.0005915634101256728 | Mask Loss: 0.8535963892936707 | Total Loss: 0.8541879653930664\n",
            "Epoch Number: 13 | Iteration Number: 16200 | Focal Loss: 0.0003968751698266715 | Mask Loss: 1.755702257156372 | Total Loss: 1.7560991048812866\n",
            "Epoch Number: 13 | Iteration Number: 16300 | Focal Loss: 0.000956492149271071 | Mask Loss: 0.9539432525634766 | Total Loss: 0.9548997282981873\n",
            "Epoch Number: 13 | Iteration Number: 16400 | Focal Loss: 0.0007852690177969635 | Mask Loss: 0.9401042461395264 | Total Loss: 0.9408895373344421\n",
            "Epoch Number: 13 | Iteration Number: 16500 | Focal Loss: 0.0006042870809324086 | Mask Loss: 1.1636614799499512 | Total Loss: 1.164265751838684\n",
            "Epoch Number: 13 | Iteration Number: 16600 | Focal Loss: 0.0006193680455908179 | Mask Loss: 0.46272674202919006 | Total Loss: 0.46334612369537354\n",
            "Epoch Number: 13 | Iteration Number: 16700 | Focal Loss: 0.0008439218509010971 | Mask Loss: 2.045187473297119 | Total Loss: 2.0460314750671387\n",
            "Epoch Number: 13 | Iteration Number: 16800 | Focal Loss: 0.0004710459033958614 | Mask Loss: 0.6741578578948975 | Total Loss: 0.6746289134025574\n",
            "Epoch Number: 13 | Iteration Number: 16900 | Focal Loss: 0.0007702051079832017 | Mask Loss: 0.8911251425743103 | Total Loss: 0.8918953537940979\n"
          ],
          "name": "stdout"
        },
        {
          "output_type": "stream",
          "text": [
            "\r 36%|███▌      | 13/36 [1:08:01<2:00:23, 314.08s/it]"
          ],
          "name": "stderr"
        },
        {
          "output_type": "stream",
          "text": [
            "time taken in epoch 13:313.4273021221161\n",
            "Epoch Number: 14 | Iteration Number: 17000 | Focal Loss: 0.0004972206661477685 | Mask Loss: 1.1017082929611206 | Total Loss: 1.102205514907837\n",
            "Epoch Number: 14 | Iteration Number: 17100 | Focal Loss: 0.00035672966623678803 | Mask Loss: 1.842164397239685 | Total Loss: 1.842521071434021\n",
            "Epoch Number: 14 | Iteration Number: 17200 | Focal Loss: 0.0006656681653112173 | Mask Loss: 0.8392728567123413 | Total Loss: 0.8399385213851929\n",
            "Epoch Number: 14 | Iteration Number: 17300 | Focal Loss: 0.0008765172678977251 | Mask Loss: 1.4109306335449219 | Total Loss: 1.4118071794509888\n",
            "Epoch Number: 14 | Iteration Number: 17400 | Focal Loss: 0.0003433993842918426 | Mask Loss: 0.8802182674407959 | Total Loss: 0.8805616497993469\n",
            "Epoch Number: 14 | Iteration Number: 17500 | Focal Loss: 0.0007902942015789449 | Mask Loss: 1.007992148399353 | Total Loss: 1.0087823867797852\n",
            "Epoch Number: 14 | Iteration Number: 17600 | Focal Loss: 0.0003661268565338105 | Mask Loss: 0.9775516986846924 | Total Loss: 0.9779178500175476\n",
            "Epoch Number: 14 | Iteration Number: 17700 | Focal Loss: 0.00043627378181554377 | Mask Loss: 1.1173136234283447 | Total Loss: 1.1177499294281006\n",
            "Epoch Number: 14 | Iteration Number: 17800 | Focal Loss: 0.0009186451206915081 | Mask Loss: 1.4116439819335938 | Total Loss: 1.412562608718872\n",
            "Epoch Number: 14 | Iteration Number: 17900 | Focal Loss: 0.00044208328472450376 | Mask Loss: 1.432411551475525 | Total Loss: 1.4328535795211792\n",
            "Epoch Number: 14 | Iteration Number: 18000 | Focal Loss: 0.0006694153998978436 | Mask Loss: 1.6297805309295654 | Total Loss: 1.630449891090393\n",
            "Epoch Number: 14 | Iteration Number: 18100 | Focal Loss: 0.0005433308542706072 | Mask Loss: 0.6911539435386658 | Total Loss: 0.6916972994804382\n",
            "Epoch Number: 14 | Iteration Number: 18200 | Focal Loss: 0.0004606089787557721 | Mask Loss: 1.4858436584472656 | Total Loss: 1.4863042831420898\n"
          ],
          "name": "stdout"
        },
        {
          "output_type": "stream",
          "text": [
            "\r 39%|███▉      | 14/36 [1:13:15<1:55:09, 314.07s/it]"
          ],
          "name": "stderr"
        },
        {
          "output_type": "stream",
          "text": [
            "time taken in epoch 14:313.94732904434204\n",
            "Epoch Number: 15 | Iteration Number: 18300 | Focal Loss: 0.0004742987803183496 | Mask Loss: 0.7024781703948975 | Total Loss: 0.7029524445533752\n",
            "Epoch Number: 15 | Iteration Number: 18400 | Focal Loss: 0.0004331535892561078 | Mask Loss: 1.1811705827713013 | Total Loss: 1.1816037893295288\n",
            "Epoch Number: 15 | Iteration Number: 18500 | Focal Loss: 0.0005648998776450753 | Mask Loss: 1.8574233055114746 | Total Loss: 1.8579882383346558\n",
            "Epoch Number: 15 | Iteration Number: 18600 | Focal Loss: 0.000789395475294441 | Mask Loss: 0.7375204563140869 | Total Loss: 0.7383098602294922\n",
            "Epoch Number: 15 | Iteration Number: 18700 | Focal Loss: 0.00037997891195118427 | Mask Loss: 1.1283291578292847 | Total Loss: 1.128709077835083\n",
            "Epoch Number: 15 | Iteration Number: 18800 | Focal Loss: 0.0007311651716008782 | Mask Loss: 1.708413004875183 | Total Loss: 1.709144115447998\n",
            "Epoch Number: 15 | Iteration Number: 18900 | Focal Loss: 0.0005034400383010507 | Mask Loss: 1.0662404298782349 | Total Loss: 1.0667438507080078\n",
            "Epoch Number: 15 | Iteration Number: 19000 | Focal Loss: 0.00042760989163070917 | Mask Loss: 1.121442198753357 | Total Loss: 1.1218698024749756\n",
            "Epoch Number: 15 | Iteration Number: 19100 | Focal Loss: 0.0005644524935632944 | Mask Loss: 2.471238613128662 | Total Loss: 2.4718029499053955\n",
            "Epoch Number: 15 | Iteration Number: 19200 | Focal Loss: 0.0004167201404925436 | Mask Loss: 0.9860939979553223 | Total Loss: 0.986510694026947\n",
            "Epoch Number: 15 | Iteration Number: 19300 | Focal Loss: 0.0006564819486811757 | Mask Loss: 1.2199680805206299 | Total Loss: 1.220624566078186\n",
            "Epoch Number: 15 | Iteration Number: 19400 | Focal Loss: 0.0005096206441521645 | Mask Loss: 1.5447652339935303 | Total Loss: 1.5452748537063599\n",
            "Epoch Number: 15 | Iteration Number: 19500 | Focal Loss: 0.0004973788745701313 | Mask Loss: 0.6285504102706909 | Total Loss: 0.6290478110313416\n"
          ],
          "name": "stdout"
        },
        {
          "output_type": "stream",
          "text": [
            "\r 42%|████▏     | 15/36 [1:18:29<1:49:51, 313.89s/it]"
          ],
          "name": "stderr"
        },
        {
          "output_type": "stream",
          "text": [
            "time taken in epoch 15:313.3726098537445\n",
            "Epoch Number: 16 | Iteration Number: 19600 | Focal Loss: 0.0003734059282578528 | Mask Loss: 1.9839413166046143 | Total Loss: 1.9843146800994873\n",
            "Epoch Number: 16 | Iteration Number: 19700 | Focal Loss: 0.00046099661267362535 | Mask Loss: 1.0422816276550293 | Total Loss: 1.0427426099777222\n",
            "Epoch Number: 16 | Iteration Number: 19800 | Focal Loss: 0.0005515091470442712 | Mask Loss: 2.7563891410827637 | Total Loss: 2.7569406032562256\n",
            "Epoch Number: 16 | Iteration Number: 19900 | Focal Loss: 0.0007855412550270557 | Mask Loss: 1.0585211515426636 | Total Loss: 1.0593067407608032\n",
            "Epoch Number: 16 | Iteration Number: 20000 | Focal Loss: 0.0008072817581705749 | Mask Loss: 0.6726903915405273 | Total Loss: 0.6734976768493652\n",
            "Epoch Number: 16 | Iteration Number: 20100 | Focal Loss: 0.00033846349106170237 | Mask Loss: 0.6147181987762451 | Total Loss: 0.6150566339492798\n",
            "Epoch Number: 16 | Iteration Number: 20200 | Focal Loss: 0.0008890864555723965 | Mask Loss: 1.4383916854858398 | Total Loss: 1.4392807483673096\n",
            "Epoch Number: 16 | Iteration Number: 20300 | Focal Loss: 0.0009101044270209968 | Mask Loss: 0.9424926042556763 | Total Loss: 0.9434027075767517\n",
            "Epoch Number: 16 | Iteration Number: 20400 | Focal Loss: 0.0006306747673079371 | Mask Loss: 0.9812363386154175 | Total Loss: 0.9818670153617859\n",
            "Epoch Number: 16 | Iteration Number: 20500 | Focal Loss: 0.0004140172968618572 | Mask Loss: 1.225443959236145 | Total Loss: 1.2258579730987549\n",
            "Epoch Number: 16 | Iteration Number: 20600 | Focal Loss: 0.00046774247311986983 | Mask Loss: 2.3633689880371094 | Total Loss: 2.3638367652893066\n",
            "Epoch Number: 16 | Iteration Number: 20700 | Focal Loss: 0.00041961835813708603 | Mask Loss: 0.9988105297088623 | Total Loss: 0.999230146408081\n",
            "Epoch Number: 16 | Iteration Number: 20800 | Focal Loss: 0.000465926481410861 | Mask Loss: 0.7436785101890564 | Total Loss: 0.7441444396972656\n"
          ],
          "name": "stdout"
        },
        {
          "output_type": "stream",
          "text": [
            "\r 44%|████▍     | 16/36 [1:23:47<1:45:01, 315.06s/it]"
          ],
          "name": "stderr"
        },
        {
          "output_type": "stream",
          "text": [
            "time taken in epoch 16:317.7204432487488\n",
            "Epoch Number: 17 | Iteration Number: 20900 | Focal Loss: 0.0004671978240367025 | Mask Loss: 1.675439715385437 | Total Loss: 1.6759068965911865\n",
            "Epoch Number: 17 | Iteration Number: 21000 | Focal Loss: 0.00042639754246920347 | Mask Loss: 0.8556226491928101 | Total Loss: 0.8560490608215332\n",
            "Epoch Number: 17 | Iteration Number: 21100 | Focal Loss: 0.0008681968320161104 | Mask Loss: 1.1829813718795776 | Total Loss: 1.183849573135376\n",
            "Epoch Number: 17 | Iteration Number: 21200 | Focal Loss: 0.0003477860300336033 | Mask Loss: 1.3456779718399048 | Total Loss: 1.3460257053375244\n",
            "Epoch Number: 17 | Iteration Number: 21300 | Focal Loss: 0.0007075283792801201 | Mask Loss: 1.0758718252182007 | Total Loss: 1.0765793323516846\n",
            "Epoch Number: 17 | Iteration Number: 21400 | Focal Loss: 0.0004874994920101017 | Mask Loss: 1.0436972379684448 | Total Loss: 1.044184684753418\n",
            "Epoch Number: 17 | Iteration Number: 21500 | Focal Loss: 0.0004640748957172036 | Mask Loss: 0.8450401425361633 | Total Loss: 0.8455042243003845\n",
            "Epoch Number: 17 | Iteration Number: 21600 | Focal Loss: 0.0005812068120576441 | Mask Loss: 1.0755270719528198 | Total Loss: 1.0761083364486694\n",
            "Epoch Number: 17 | Iteration Number: 21700 | Focal Loss: 0.0003453515819273889 | Mask Loss: 1.4622900485992432 | Total Loss: 1.4626353979110718\n",
            "Epoch Number: 17 | Iteration Number: 21800 | Focal Loss: 0.00047229876508936286 | Mask Loss: 1.5915477275848389 | Total Loss: 1.592020034790039\n",
            "Epoch Number: 17 | Iteration Number: 21900 | Focal Loss: 0.0005417938809841871 | Mask Loss: 0.9431267976760864 | Total Loss: 0.9436686038970947\n",
            "Epoch Number: 17 | Iteration Number: 22000 | Focal Loss: 0.00028194996411912143 | Mask Loss: 0.8837939500808716 | Total Loss: 0.8840758800506592\n",
            "Epoch Number: 17 | Iteration Number: 22100 | Focal Loss: 0.0006897947750985622 | Mask Loss: 2.1759448051452637 | Total Loss: 2.1766345500946045\n",
            "Epoch Number: 17 | Iteration Number: 22200 | Focal Loss: 0.0006559747853316367 | Mask Loss: 1.6884009838104248 | Total Loss: 1.6890569925308228\n"
          ],
          "name": "stdout"
        },
        {
          "output_type": "stream",
          "text": [
            "\r 47%|████▋     | 17/36 [1:29:06<1:40:09, 316.31s/it]"
          ],
          "name": "stderr"
        },
        {
          "output_type": "stream",
          "text": [
            "time taken in epoch 17:319.1418676376343\n",
            "Epoch Number: 18 | Iteration Number: 22300 | Focal Loss: 0.0009049097425304353 | Mask Loss: 2.0375096797943115 | Total Loss: 2.038414478302002\n",
            "Epoch Number: 18 | Iteration Number: 22400 | Focal Loss: 0.0007651526830159128 | Mask Loss: 1.7470569610595703 | Total Loss: 1.7478221654891968\n",
            "Epoch Number: 18 | Iteration Number: 22500 | Focal Loss: 0.0006926223868504167 | Mask Loss: 1.9985461235046387 | Total Loss: 1.9992387294769287\n",
            "Epoch Number: 18 | Iteration Number: 22600 | Focal Loss: 0.000502237759064883 | Mask Loss: 0.7978232502937317 | Total Loss: 0.7983254790306091\n",
            "Epoch Number: 18 | Iteration Number: 22700 | Focal Loss: 0.0005412738537415862 | Mask Loss: 1.5218265056610107 | Total Loss: 1.5223678350448608\n",
            "Epoch Number: 18 | Iteration Number: 22800 | Focal Loss: 0.0005251087131910026 | Mask Loss: 1.5154770612716675 | Total Loss: 1.5160021781921387\n",
            "Epoch Number: 18 | Iteration Number: 22900 | Focal Loss: 0.0007612992776557803 | Mask Loss: 0.6875972747802734 | Total Loss: 0.6883585453033447\n",
            "Epoch Number: 18 | Iteration Number: 23000 | Focal Loss: 0.0005122359143570065 | Mask Loss: 0.6573584675788879 | Total Loss: 0.6578707098960876\n",
            "Epoch Number: 18 | Iteration Number: 23100 | Focal Loss: 0.00046426421613432467 | Mask Loss: 1.2632098197937012 | Total Loss: 1.2636741399765015\n",
            "Epoch Number: 18 | Iteration Number: 23200 | Focal Loss: 0.000612770498264581 | Mask Loss: 0.7131360769271851 | Total Loss: 0.7137488722801208\n",
            "Epoch Number: 18 | Iteration Number: 23300 | Focal Loss: 0.0007564430125057697 | Mask Loss: 2.012469530105591 | Total Loss: 2.01322603225708\n",
            "Epoch Number: 18 | Iteration Number: 23400 | Focal Loss: 0.0008449268061667681 | Mask Loss: 1.1454741954803467 | Total Loss: 1.1463191509246826\n",
            "Epoch Number: 18 | Iteration Number: 23500 | Focal Loss: 0.0009801650885492563 | Mask Loss: 0.995569109916687 | Total Loss: 0.9965492486953735\n"
          ],
          "name": "stdout"
        },
        {
          "output_type": "stream",
          "text": [
            "\r 50%|█████     | 18/36 [1:34:25<1:35:09, 317.20s/it]"
          ],
          "name": "stderr"
        },
        {
          "output_type": "stream",
          "text": [
            "time taken in epoch 18:319.19415163993835\n",
            "Epoch Number: 19 | Iteration Number: 23600 | Focal Loss: 0.0006913069519214332 | Mask Loss: 1.3804281949996948 | Total Loss: 1.3811194896697998\n",
            "Epoch Number: 19 | Iteration Number: 23700 | Focal Loss: 0.00033749130670912564 | Mask Loss: 1.040290117263794 | Total Loss: 1.0406275987625122\n",
            "Epoch Number: 19 | Iteration Number: 23800 | Focal Loss: 0.0006021744920872152 | Mask Loss: 0.8298686742782593 | Total Loss: 0.830470860004425\n",
            "Epoch Number: 19 | Iteration Number: 23900 | Focal Loss: 0.00047728142817504704 | Mask Loss: 1.1694828271865845 | Total Loss: 1.1699601411819458\n",
            "Epoch Number: 19 | Iteration Number: 24000 | Focal Loss: 0.00045137759298086166 | Mask Loss: 1.2489712238311768 | Total Loss: 1.249422550201416\n",
            "Epoch Number: 19 | Iteration Number: 24100 | Focal Loss: 0.0004322119930293411 | Mask Loss: 0.513808012008667 | Total Loss: 0.5142402052879333\n",
            "Epoch Number: 19 | Iteration Number: 24200 | Focal Loss: 0.0005143110756762326 | Mask Loss: 0.8158801794052124 | Total Loss: 0.8163945078849792\n",
            "Epoch Number: 19 | Iteration Number: 24300 | Focal Loss: 0.0009696950437501073 | Mask Loss: 1.7462353706359863 | Total Loss: 1.7472050189971924\n",
            "Epoch Number: 19 | Iteration Number: 24400 | Focal Loss: 0.0010546097764745355 | Mask Loss: 2.0989632606506348 | Total Loss: 2.100017786026001\n",
            "Epoch Number: 19 | Iteration Number: 24500 | Focal Loss: 0.0007988110883161426 | Mask Loss: 1.2876629829406738 | Total Loss: 1.2884618043899536\n",
            "Epoch Number: 19 | Iteration Number: 24600 | Focal Loss: 0.0005837647477164865 | Mask Loss: 0.9779071807861328 | Total Loss: 0.978490948677063\n",
            "Epoch Number: 19 | Iteration Number: 24700 | Focal Loss: 0.0004278720007278025 | Mask Loss: 1.0196698904037476 | Total Loss: 1.0200977325439453\n",
            "Epoch Number: 19 | Iteration Number: 24800 | Focal Loss: 0.0005628397921100259 | Mask Loss: 0.6565357446670532 | Total Loss: 0.6570985913276672\n"
          ],
          "name": "stdout"
        },
        {
          "output_type": "stream",
          "text": [
            "\r 53%|█████▎    | 19/36 [1:39:42<1:29:50, 317.09s/it]"
          ],
          "name": "stderr"
        },
        {
          "output_type": "stream",
          "text": [
            "time taken in epoch 19:316.70120096206665\n",
            "Epoch Number: 20 | Iteration Number: 24900 | Focal Loss: 0.00046589510748162866 | Mask Loss: 0.6753754019737244 | Total Loss: 0.6758412718772888\n",
            "Epoch Number: 20 | Iteration Number: 25000 | Focal Loss: 0.0005889289313927293 | Mask Loss: 0.8741183280944824 | Total Loss: 0.8747072815895081\n",
            "Epoch Number: 20 | Iteration Number: 25100 | Focal Loss: 0.0006871283985674381 | Mask Loss: 0.9068993330001831 | Total Loss: 0.9075864553451538\n",
            "Epoch Number: 20 | Iteration Number: 25200 | Focal Loss: 0.0004789302183780819 | Mask Loss: 0.4173893928527832 | Total Loss: 0.41786831617355347\n",
            "Epoch Number: 20 | Iteration Number: 25300 | Focal Loss: 0.00038800950278528035 | Mask Loss: 1.1366913318634033 | Total Loss: 1.1370793581008911\n",
            "Epoch Number: 20 | Iteration Number: 25400 | Focal Loss: 0.0005949795595370233 | Mask Loss: 1.032627820968628 | Total Loss: 1.0332227945327759\n",
            "Epoch Number: 20 | Iteration Number: 25500 | Focal Loss: 0.0006216162582859397 | Mask Loss: 1.2923988103866577 | Total Loss: 1.2930203676223755\n",
            "Epoch Number: 20 | Iteration Number: 25600 | Focal Loss: 0.0004341911699157208 | Mask Loss: 0.5936510562896729 | Total Loss: 0.5940852761268616\n",
            "Epoch Number: 20 | Iteration Number: 25700 | Focal Loss: 0.0003716190985869616 | Mask Loss: 0.5517061948776245 | Total Loss: 0.5520778298377991\n",
            "Epoch Number: 20 | Iteration Number: 25800 | Focal Loss: 0.0003370256454218179 | Mask Loss: 1.3423699140548706 | Total Loss: 1.3427069187164307\n",
            "Epoch Number: 20 | Iteration Number: 25900 | Focal Loss: 0.0006260043010115623 | Mask Loss: 0.6365359425544739 | Total Loss: 0.6371619701385498\n",
            "Epoch Number: 20 | Iteration Number: 26000 | Focal Loss: 0.0005468135932460427 | Mask Loss: 1.1304248571395874 | Total Loss: 1.1309716701507568\n",
            "Epoch Number: 20 | Iteration Number: 26100 | Focal Loss: 0.000853244389872998 | Mask Loss: 1.2689027786254883 | Total Loss: 1.2697560787200928\n"
          ],
          "name": "stdout"
        },
        {
          "output_type": "stream",
          "text": [
            "\r 56%|█████▌    | 20/36 [1:44:57<1:24:22, 316.41s/it]"
          ],
          "name": "stderr"
        },
        {
          "output_type": "stream",
          "text": [
            "time taken in epoch 20:314.7480547428131\n",
            "Epoch Number: 21 | Iteration Number: 26200 | Focal Loss: 0.0005906145670451224 | Mask Loss: 1.4395549297332764 | Total Loss: 1.440145492553711\n",
            "Epoch Number: 21 | Iteration Number: 26300 | Focal Loss: 0.0004811823309864849 | Mask Loss: 1.242457389831543 | Total Loss: 1.24293851852417\n",
            "Epoch Number: 21 | Iteration Number: 26400 | Focal Loss: 0.0006444394821301103 | Mask Loss: 1.4147893190383911 | Total Loss: 1.4154337644577026\n",
            "Epoch Number: 21 | Iteration Number: 26500 | Focal Loss: 0.0006760703981854022 | Mask Loss: 1.3858742713928223 | Total Loss: 1.3865503072738647\n",
            "Epoch Number: 21 | Iteration Number: 26600 | Focal Loss: 0.0004896146710962057 | Mask Loss: 0.7479580640792847 | Total Loss: 0.7484476566314697\n",
            "Epoch Number: 21 | Iteration Number: 26700 | Focal Loss: 0.00047074141912162304 | Mask Loss: 0.8349618911743164 | Total Loss: 0.8354326486587524\n",
            "Epoch Number: 21 | Iteration Number: 26800 | Focal Loss: 0.0005174532998353243 | Mask Loss: 1.679184913635254 | Total Loss: 1.6797024011611938\n",
            "Epoch Number: 21 | Iteration Number: 26900 | Focal Loss: 0.0003802384890150279 | Mask Loss: 0.8248520493507385 | Total Loss: 0.8252322673797607\n",
            "Epoch Number: 21 | Iteration Number: 27000 | Focal Loss: 0.00047731364611536264 | Mask Loss: 1.3384461402893066 | Total Loss: 1.338923454284668\n",
            "Epoch Number: 21 | Iteration Number: 27100 | Focal Loss: 0.0008267968660220504 | Mask Loss: 1.0692369937896729 | Total Loss: 1.070063829421997\n",
            "Epoch Number: 21 | Iteration Number: 27200 | Focal Loss: 0.0006110858521424234 | Mask Loss: 1.0761432647705078 | Total Loss: 1.0767543315887451\n",
            "Epoch Number: 21 | Iteration Number: 27300 | Focal Loss: 0.0007249626214616001 | Mask Loss: 1.4820075035095215 | Total Loss: 1.4827324151992798\n",
            "Epoch Number: 21 | Iteration Number: 27400 | Focal Loss: 0.0004528990830294788 | Mask Loss: 1.2635705471038818 | Total Loss: 1.2640234231948853\n"
          ],
          "name": "stdout"
        },
        {
          "output_type": "stream",
          "text": [
            "\r 58%|█████▊    | 21/36 [1:50:09<1:18:45, 315.05s/it]"
          ],
          "name": "stderr"
        },
        {
          "output_type": "stream",
          "text": [
            "time taken in epoch 21:311.7978627681732\n",
            "Epoch Number: 22 | Iteration Number: 27500 | Focal Loss: 0.0005678938468918204 | Mask Loss: 1.6856670379638672 | Total Loss: 1.686234951019287\n",
            "Epoch Number: 22 | Iteration Number: 27600 | Focal Loss: 0.0007353146793320775 | Mask Loss: 1.1012601852416992 | Total Loss: 1.1019954681396484\n",
            "Epoch Number: 22 | Iteration Number: 27700 | Focal Loss: 0.0005748830735683441 | Mask Loss: 0.6292101740837097 | Total Loss: 0.6297850608825684\n",
            "Epoch Number: 22 | Iteration Number: 27800 | Focal Loss: 0.0005269161774776876 | Mask Loss: 0.5011053681373596 | Total Loss: 0.5016322731971741\n",
            "Epoch Number: 22 | Iteration Number: 27900 | Focal Loss: 0.0005556950345635414 | Mask Loss: 0.845616340637207 | Total Loss: 0.846172034740448\n",
            "Epoch Number: 22 | Iteration Number: 28000 | Focal Loss: 0.00045043480349704623 | Mask Loss: 1.1580227613449097 | Total Loss: 1.158473253250122\n",
            "Epoch Number: 22 | Iteration Number: 28100 | Focal Loss: 0.0005513224168680608 | Mask Loss: 0.8266666531562805 | Total Loss: 0.8272179961204529\n",
            "Epoch Number: 22 | Iteration Number: 28200 | Focal Loss: 0.0005049610626883805 | Mask Loss: 1.0042345523834229 | Total Loss: 1.00473952293396\n",
            "Epoch Number: 22 | Iteration Number: 28300 | Focal Loss: 0.0003940805036108941 | Mask Loss: 0.9672467708587646 | Total Loss: 0.9676408767700195\n",
            "Epoch Number: 22 | Iteration Number: 28400 | Focal Loss: 0.0004734313115477562 | Mask Loss: 0.9888471364974976 | Total Loss: 0.9893205761909485\n",
            "Epoch Number: 22 | Iteration Number: 28500 | Focal Loss: 0.0004907966358587146 | Mask Loss: 1.017646074295044 | Total Loss: 1.0181368589401245\n",
            "Epoch Number: 22 | Iteration Number: 28600 | Focal Loss: 0.000415378890465945 | Mask Loss: 1.3733359575271606 | Total Loss: 1.3737512826919556\n",
            "Epoch Number: 22 | Iteration Number: 28700 | Focal Loss: 0.0004893200821243227 | Mask Loss: 2.01298189163208 | Total Loss: 2.0134711265563965\n"
          ],
          "name": "stdout"
        },
        {
          "output_type": "stream",
          "text": [
            "\r 61%|██████    | 22/36 [1:55:21<1:13:20, 314.33s/it]"
          ],
          "name": "stderr"
        },
        {
          "output_type": "stream",
          "text": [
            "time taken in epoch 22:312.55570578575134\n",
            "Epoch Number: 23 | Iteration Number: 28800 | Focal Loss: 0.0005629516672343016 | Mask Loss: 1.1339092254638672 | Total Loss: 1.134472131729126\n",
            "Epoch Number: 23 | Iteration Number: 28900 | Focal Loss: 0.000591000251006335 | Mask Loss: 1.2883763313293457 | Total Loss: 1.2889673709869385\n",
            "Epoch Number: 23 | Iteration Number: 29000 | Focal Loss: 0.000817767926491797 | Mask Loss: 1.5746288299560547 | Total Loss: 1.575446605682373\n",
            "Epoch Number: 23 | Iteration Number: 29100 | Focal Loss: 0.0005888118757866323 | Mask Loss: 1.6651277542114258 | Total Loss: 1.665716528892517\n",
            "Epoch Number: 23 | Iteration Number: 29200 | Focal Loss: 0.0009719294612295926 | Mask Loss: 1.155042052268982 | Total Loss: 1.1560139656066895\n",
            "Epoch Number: 23 | Iteration Number: 29300 | Focal Loss: 0.0004190777544863522 | Mask Loss: 1.596374273300171 | Total Loss: 1.596793293952942\n",
            "Epoch Number: 23 | Iteration Number: 29400 | Focal Loss: 0.0003721558896359056 | Mask Loss: 0.7697781324386597 | Total Loss: 0.7701503038406372\n",
            "Epoch Number: 23 | Iteration Number: 29500 | Focal Loss: 0.0003339154354762286 | Mask Loss: 0.5174580216407776 | Total Loss: 0.5177919268608093\n",
            "Epoch Number: 23 | Iteration Number: 29600 | Focal Loss: 0.00036306341644376516 | Mask Loss: 1.267106056213379 | Total Loss: 1.2674691677093506\n",
            "Epoch Number: 23 | Iteration Number: 29700 | Focal Loss: 0.00034926043008454144 | Mask Loss: 0.5938965678215027 | Total Loss: 0.5942458510398865\n",
            "Epoch Number: 23 | Iteration Number: 29800 | Focal Loss: 0.0005724839866161346 | Mask Loss: 1.1887683868408203 | Total Loss: 1.1893408298492432\n",
            "Epoch Number: 23 | Iteration Number: 29900 | Focal Loss: 0.0005924567813053727 | Mask Loss: 1.3441250324249268 | Total Loss: 1.3447175025939941\n",
            "Epoch Number: 23 | Iteration Number: 30000 | Focal Loss: 0.0006603946094401181 | Mask Loss: 1.0953160524368286 | Total Loss: 1.09597647190094\n"
          ],
          "name": "stdout"
        },
        {
          "output_type": "stream",
          "text": [
            "\r 64%|██████▍   | 23/36 [2:00:36<1:08:07, 314.39s/it]"
          ],
          "name": "stderr"
        },
        {
          "output_type": "stream",
          "text": [
            "time taken in epoch 23:314.4219186306\n",
            "Epoch Number: 24 | Iteration Number: 30100 | Focal Loss: 0.0006501196185126901 | Mask Loss: 0.7415807843208313 | Total Loss: 0.7422308921813965\n",
            "Epoch Number: 24 | Iteration Number: 30200 | Focal Loss: 0.0004597888619173318 | Mask Loss: 1.1561864614486694 | Total Loss: 1.1566462516784668\n",
            "Epoch Number: 24 | Iteration Number: 30300 | Focal Loss: 0.0006107495864853263 | Mask Loss: 1.316977620124817 | Total Loss: 1.3175883293151855\n",
            "Epoch Number: 24 | Iteration Number: 30400 | Focal Loss: 0.0006609816337004304 | Mask Loss: 1.7954628467559814 | Total Loss: 1.7961238622665405\n",
            "Epoch Number: 24 | Iteration Number: 30500 | Focal Loss: 0.000350830378010869 | Mask Loss: 0.43867743015289307 | Total Loss: 0.439028263092041\n",
            "Epoch Number: 24 | Iteration Number: 30600 | Focal Loss: 0.0007955677574500442 | Mask Loss: 0.947510838508606 | Total Loss: 0.9483063817024231\n",
            "Epoch Number: 24 | Iteration Number: 30700 | Focal Loss: 0.00031717834644950926 | Mask Loss: 1.5957945585250854 | Total Loss: 1.59611177444458\n",
            "Epoch Number: 24 | Iteration Number: 30800 | Focal Loss: 0.00040005650953389704 | Mask Loss: 0.4997725486755371 | Total Loss: 0.5001726150512695\n",
            "Epoch Number: 24 | Iteration Number: 30900 | Focal Loss: 0.0010885479860007763 | Mask Loss: 1.074568510055542 | Total Loss: 1.0756570100784302\n",
            "Epoch Number: 24 | Iteration Number: 31000 | Focal Loss: 0.0006446496117860079 | Mask Loss: 1.0699656009674072 | Total Loss: 1.0706102848052979\n",
            "Epoch Number: 24 | Iteration Number: 31100 | Focal Loss: 0.00039744938840158284 | Mask Loss: 0.5539596676826477 | Total Loss: 0.55435711145401\n",
            "Epoch Number: 24 | Iteration Number: 31200 | Focal Loss: 0.0004178670351393521 | Mask Loss: 1.5506494045257568 | Total Loss: 1.5510672330856323\n",
            "Epoch Number: 24 | Iteration Number: 31300 | Focal Loss: 0.0004854464787058532 | Mask Loss: 1.4069406986236572 | Total Loss: 1.407426118850708\n"
          ],
          "name": "stdout"
        },
        {
          "output_type": "stream",
          "text": [
            "\r 67%|██████▋   | 24/36 [2:05:50<1:02:52, 314.37s/it]"
          ],
          "name": "stderr"
        },
        {
          "output_type": "stream",
          "text": [
            "time taken in epoch 24:314.23589849472046\n",
            "Epoch Number: 25 | Iteration Number: 31400 | Focal Loss: 0.0004918298218399286 | Mask Loss: 0.8870757818222046 | Total Loss: 0.8875676393508911\n",
            "Epoch Number: 25 | Iteration Number: 31500 | Focal Loss: 0.0005779203493148088 | Mask Loss: 0.8319584131240845 | Total Loss: 0.8325363397598267\n",
            "Epoch Number: 25 | Iteration Number: 31600 | Focal Loss: 0.0005891218315809965 | Mask Loss: 1.3744186162948608 | Total Loss: 1.3750077486038208\n",
            "Epoch Number: 25 | Iteration Number: 31700 | Focal Loss: 0.00034358917037025094 | Mask Loss: 1.1185050010681152 | Total Loss: 1.1188485622406006\n",
            "Epoch Number: 25 | Iteration Number: 31800 | Focal Loss: 0.0005598379648290575 | Mask Loss: 0.8643490076065063 | Total Loss: 0.8649088740348816\n",
            "Epoch Number: 25 | Iteration Number: 31900 | Focal Loss: 0.00032472499879077077 | Mask Loss: 0.28678783774375916 | Total Loss: 0.2871125638484955\n",
            "Epoch Number: 25 | Iteration Number: 32000 | Focal Loss: 0.0006207972764968872 | Mask Loss: 1.0869649648666382 | Total Loss: 1.0875858068466187\n",
            "Epoch Number: 25 | Iteration Number: 32100 | Focal Loss: 0.0009910285007208586 | Mask Loss: 1.3270726203918457 | Total Loss: 1.3280636072158813\n",
            "Epoch Number: 25 | Iteration Number: 32200 | Focal Loss: 0.0005057432572357357 | Mask Loss: 1.0708969831466675 | Total Loss: 1.071402668952942\n",
            "Epoch Number: 25 | Iteration Number: 32300 | Focal Loss: 0.00038535561179742217 | Mask Loss: 0.5050572752952576 | Total Loss: 0.5054426193237305\n",
            "Epoch Number: 25 | Iteration Number: 32400 | Focal Loss: 0.0005683936178684235 | Mask Loss: 0.9887604713439941 | Total Loss: 0.9893288612365723\n",
            "Epoch Number: 25 | Iteration Number: 32500 | Focal Loss: 0.0009397599496878684 | Mask Loss: 1.113260269165039 | Total Loss: 1.1141999959945679\n",
            "Epoch Number: 25 | Iteration Number: 32600 | Focal Loss: 0.000948650180362165 | Mask Loss: 1.4819200038909912 | Total Loss: 1.4828686714172363\n"
          ],
          "name": "stdout"
        },
        {
          "output_type": "stream",
          "text": [
            "\r 69%|██████▉   | 25/36 [2:11:04<57:38, 314.37s/it]  "
          ],
          "name": "stderr"
        },
        {
          "output_type": "stream",
          "text": [
            "time taken in epoch 25:314.26117610931396\n",
            "Epoch Number: 26 | Iteration Number: 32700 | Focal Loss: 0.000478465692140162 | Mask Loss: 0.7465101480484009 | Total Loss: 0.7469885945320129\n",
            "Epoch Number: 26 | Iteration Number: 32800 | Focal Loss: 0.0007367618381977081 | Mask Loss: 1.5387336015701294 | Total Loss: 1.5394703149795532\n",
            "Epoch Number: 26 | Iteration Number: 32900 | Focal Loss: 0.0003525397623889148 | Mask Loss: 0.479478657245636 | Total Loss: 0.47983118891716003\n",
            "Epoch Number: 26 | Iteration Number: 33000 | Focal Loss: 0.00040772827924229205 | Mask Loss: 1.1099364757537842 | Total Loss: 1.1103441715240479\n",
            "Epoch Number: 26 | Iteration Number: 33100 | Focal Loss: 0.0004539760120678693 | Mask Loss: 0.767767071723938 | Total Loss: 0.7682210206985474\n",
            "Epoch Number: 26 | Iteration Number: 33200 | Focal Loss: 0.0006885790498927236 | Mask Loss: 0.5820363759994507 | Total Loss: 0.582724928855896\n",
            "Epoch Number: 26 | Iteration Number: 33300 | Focal Loss: 0.0003748325107153505 | Mask Loss: 1.7042622566223145 | Total Loss: 1.704637050628662\n",
            "Epoch Number: 26 | Iteration Number: 33400 | Focal Loss: 0.0005284533835947514 | Mask Loss: 0.48906558752059937 | Total Loss: 0.489594042301178\n",
            "Epoch Number: 26 | Iteration Number: 33500 | Focal Loss: 0.0005982761504128575 | Mask Loss: 1.808648943901062 | Total Loss: 1.8092472553253174\n",
            "Epoch Number: 26 | Iteration Number: 33600 | Focal Loss: 0.0004356276476755738 | Mask Loss: 1.5977659225463867 | Total Loss: 1.5982015132904053\n",
            "Epoch Number: 26 | Iteration Number: 33700 | Focal Loss: 0.0005412411410361528 | Mask Loss: 1.1221301555633545 | Total Loss: 1.122671365737915\n",
            "Epoch Number: 26 | Iteration Number: 33800 | Focal Loss: 0.0003821909776888788 | Mask Loss: 0.5234283208847046 | Total Loss: 0.5238105058670044\n",
            "Epoch Number: 26 | Iteration Number: 33900 | Focal Loss: 0.0004297785344533622 | Mask Loss: 1.1555523872375488 | Total Loss: 1.1559821367263794\n"
          ],
          "name": "stdout"
        },
        {
          "output_type": "stream",
          "text": [
            "\r 72%|███████▏  | 26/36 [2:16:20<52:28, 314.83s/it]"
          ],
          "name": "stderr"
        },
        {
          "output_type": "stream",
          "text": [
            "time taken in epoch 26:315.79531359672546\n",
            "Epoch Number: 27 | Iteration Number: 34000 | Focal Loss: 0.0005987611366435885 | Mask Loss: 1.2363072633743286 | Total Loss: 1.2369060516357422\n",
            "Epoch Number: 27 | Iteration Number: 34100 | Focal Loss: 0.0006420022691600025 | Mask Loss: 0.9907277822494507 | Total Loss: 0.9913697838783264\n",
            "Epoch Number: 27 | Iteration Number: 34200 | Focal Loss: 0.0005197154823690653 | Mask Loss: 0.41477280855178833 | Total Loss: 0.41529253125190735\n",
            "Epoch Number: 27 | Iteration Number: 34300 | Focal Loss: 0.00038488770951516926 | Mask Loss: 0.5892620086669922 | Total Loss: 0.5896468758583069\n",
            "Epoch Number: 27 | Iteration Number: 34400 | Focal Loss: 0.0006349169416353106 | Mask Loss: 1.529200792312622 | Total Loss: 1.5298357009887695\n",
            "Epoch Number: 27 | Iteration Number: 34500 | Focal Loss: 0.000762735609896481 | Mask Loss: 1.1822946071624756 | Total Loss: 1.1830573081970215\n",
            "Epoch Number: 27 | Iteration Number: 34600 | Focal Loss: 0.000725672347471118 | Mask Loss: 1.164494276046753 | Total Loss: 1.1652199029922485\n",
            "Epoch Number: 27 | Iteration Number: 34700 | Focal Loss: 0.00047587184235453606 | Mask Loss: 1.1806551218032837 | Total Loss: 1.1811310052871704\n",
            "Epoch Number: 27 | Iteration Number: 34800 | Focal Loss: 0.0006116578006185591 | Mask Loss: 2.494156837463379 | Total Loss: 2.4947683811187744\n",
            "Epoch Number: 27 | Iteration Number: 34900 | Focal Loss: 0.0004929158603772521 | Mask Loss: 1.2943205833435059 | Total Loss: 1.2948135137557983\n",
            "Epoch Number: 27 | Iteration Number: 35000 | Focal Loss: 0.0004146990249864757 | Mask Loss: 1.7514485120773315 | Total Loss: 1.7518632411956787\n",
            "Epoch Number: 27 | Iteration Number: 35100 | Focal Loss: 0.0004939342616125941 | Mask Loss: 1.0634381771087646 | Total Loss: 1.0639320611953735\n",
            "Epoch Number: 27 | Iteration Number: 35200 | Focal Loss: 0.0004613698984030634 | Mask Loss: 1.0333889722824097 | Total Loss: 1.0338503122329712\n"
          ],
          "name": "stdout"
        },
        {
          "output_type": "stream",
          "text": [
            "\r 75%|███████▌  | 27/36 [2:21:32<47:05, 313.96s/it]"
          ],
          "name": "stderr"
        },
        {
          "output_type": "stream",
          "text": [
            "time taken in epoch 27:311.8497655391693\n",
            "Epoch Number: 28 | Iteration Number: 35300 | Focal Loss: 0.00041567726293578744 | Mask Loss: 1.0380172729492188 | Total Loss: 1.0384329557418823\n",
            "Epoch Number: 28 | Iteration Number: 35400 | Focal Loss: 0.0006870893412269652 | Mask Loss: 1.1228547096252441 | Total Loss: 1.1235418319702148\n",
            "Epoch Number: 28 | Iteration Number: 35500 | Focal Loss: 0.0008921534172259271 | Mask Loss: 1.1504020690917969 | Total Loss: 1.151294231414795\n",
            "Epoch Number: 28 | Iteration Number: 35600 | Focal Loss: 0.0006434346432797611 | Mask Loss: 1.415323257446289 | Total Loss: 1.4159667491912842\n",
            "Epoch Number: 28 | Iteration Number: 35700 | Focal Loss: 0.00040468107908964157 | Mask Loss: 0.7195906639099121 | Total Loss: 0.7199953198432922\n",
            "Epoch Number: 28 | Iteration Number: 35800 | Focal Loss: 0.0004462280194275081 | Mask Loss: 1.3249924182891846 | Total Loss: 1.3254386186599731\n",
            "Epoch Number: 28 | Iteration Number: 35900 | Focal Loss: 0.0004518947098404169 | Mask Loss: 0.7807102203369141 | Total Loss: 0.7811621427536011\n",
            "Epoch Number: 28 | Iteration Number: 36000 | Focal Loss: 0.0003500691382214427 | Mask Loss: 0.6038351058959961 | Total Loss: 0.604185163974762\n",
            "Epoch Number: 28 | Iteration Number: 36100 | Focal Loss: 0.0006296253413893282 | Mask Loss: 0.8717749118804932 | Total Loss: 0.8724045157432556\n",
            "Epoch Number: 28 | Iteration Number: 36200 | Focal Loss: 0.0004285938339307904 | Mask Loss: 0.7237817645072937 | Total Loss: 0.7242103815078735\n",
            "Epoch Number: 28 | Iteration Number: 36300 | Focal Loss: 0.000797227316070348 | Mask Loss: 1.3193241357803345 | Total Loss: 1.32012140750885\n",
            "Epoch Number: 28 | Iteration Number: 36400 | Focal Loss: 0.0005543339648284018 | Mask Loss: 1.0232374668121338 | Total Loss: 1.023791790008545\n",
            "Epoch Number: 28 | Iteration Number: 36500 | Focal Loss: 0.0005351885338313878 | Mask Loss: 1.0265575647354126 | Total Loss: 1.027092695236206\n"
          ],
          "name": "stdout"
        },
        {
          "output_type": "stream",
          "text": [
            "\r 78%|███████▊  | 28/36 [2:26:45<41:49, 313.67s/it]"
          ],
          "name": "stderr"
        },
        {
          "output_type": "stream",
          "text": [
            "time taken in epoch 28:312.88877964019775\n",
            "Epoch Number: 29 | Iteration Number: 36600 | Focal Loss: 0.000725722115021199 | Mask Loss: 1.056495189666748 | Total Loss: 1.0572209358215332\n",
            "Epoch Number: 29 | Iteration Number: 36700 | Focal Loss: 0.0006204370292834938 | Mask Loss: 0.8959416747093201 | Total Loss: 0.8965620994567871\n",
            "Epoch Number: 29 | Iteration Number: 36800 | Focal Loss: 0.0005175005062483251 | Mask Loss: 1.3379725217819214 | Total Loss: 1.3384900093078613\n",
            "Epoch Number: 29 | Iteration Number: 36900 | Focal Loss: 0.0004509839927777648 | Mask Loss: 1.280185580253601 | Total Loss: 1.2806365489959717\n",
            "Epoch Number: 29 | Iteration Number: 37000 | Focal Loss: 0.0005295851151458919 | Mask Loss: 1.3602784872055054 | Total Loss: 1.36080801486969\n",
            "Epoch Number: 29 | Iteration Number: 37100 | Focal Loss: 0.0005705272196792066 | Mask Loss: 1.2117691040039062 | Total Loss: 1.2123396396636963\n",
            "Epoch Number: 29 | Iteration Number: 37200 | Focal Loss: 0.000471152103273198 | Mask Loss: 0.4483346939086914 | Total Loss: 0.4488058388233185\n",
            "Epoch Number: 29 | Iteration Number: 37300 | Focal Loss: 0.0007784311310388148 | Mask Loss: 0.7018992900848389 | Total Loss: 0.7026777267456055\n",
            "Epoch Number: 29 | Iteration Number: 37400 | Focal Loss: 0.000628175912424922 | Mask Loss: 0.9819340109825134 | Total Loss: 0.9825621843338013\n",
            "Epoch Number: 29 | Iteration Number: 37500 | Focal Loss: 0.0004956182674504817 | Mask Loss: 1.1442898511886597 | Total Loss: 1.1447855234146118\n",
            "Epoch Number: 29 | Iteration Number: 37600 | Focal Loss: 0.0005086271557956934 | Mask Loss: 1.0995874404907227 | Total Loss: 1.1000961065292358\n",
            "Epoch Number: 29 | Iteration Number: 37700 | Focal Loss: 0.0007011671550571918 | Mask Loss: 1.9399394989013672 | Total Loss: 1.9406406879425049\n",
            "Epoch Number: 29 | Iteration Number: 37800 | Focal Loss: 0.0003229317662771791 | Mask Loss: 0.5073497891426086 | Total Loss: 0.5076727271080017\n"
          ],
          "name": "stdout"
        },
        {
          "output_type": "stream",
          "text": [
            "\r 81%|████████  | 29/36 [2:31:59<36:36, 313.83s/it]"
          ],
          "name": "stderr"
        },
        {
          "output_type": "stream",
          "text": [
            "time taken in epoch 29:314.08375573158264\n",
            "Epoch Number: 30 | Iteration Number: 37900 | Focal Loss: 0.0005025470745749772 | Mask Loss: 0.6920282244682312 | Total Loss: 0.6925307512283325\n",
            "Epoch Number: 30 | Iteration Number: 38000 | Focal Loss: 0.0007442373316735029 | Mask Loss: 1.9336097240447998 | Total Loss: 1.9343539476394653\n",
            "Epoch Number: 30 | Iteration Number: 38100 | Focal Loss: 0.00048391043674200773 | Mask Loss: 0.99693763256073 | Total Loss: 0.9974215626716614\n",
            "Epoch Number: 30 | Iteration Number: 38200 | Focal Loss: 0.0004952147137373686 | Mask Loss: 0.3576223850250244 | Total Loss: 0.35811761021614075\n",
            "Epoch Number: 30 | Iteration Number: 38300 | Focal Loss: 0.00043384029413573444 | Mask Loss: 1.282772183418274 | Total Loss: 1.2832059860229492\n",
            "Epoch Number: 30 | Iteration Number: 38400 | Focal Loss: 0.0005410105222836137 | Mask Loss: 1.2384021282196045 | Total Loss: 1.238943099975586\n",
            "Epoch Number: 30 | Iteration Number: 38500 | Focal Loss: 0.00040068707312457263 | Mask Loss: 0.5580701231956482 | Total Loss: 0.5584707856178284\n",
            "Epoch Number: 30 | Iteration Number: 38600 | Focal Loss: 0.0008876068168319762 | Mask Loss: 0.7197477221488953 | Total Loss: 0.7206353545188904\n",
            "Epoch Number: 30 | Iteration Number: 38700 | Focal Loss: 0.0007149454904720187 | Mask Loss: 0.7971175909042358 | Total Loss: 0.7978325486183167\n",
            "Epoch Number: 30 | Iteration Number: 38800 | Focal Loss: 0.00045188190415501595 | Mask Loss: 1.1687098741531372 | Total Loss: 1.1691617965698242\n",
            "Epoch Number: 30 | Iteration Number: 38900 | Focal Loss: 0.000757369736675173 | Mask Loss: 0.9413759708404541 | Total Loss: 0.942133367061615\n",
            "Epoch Number: 30 | Iteration Number: 39000 | Focal Loss: 0.00040714433998800814 | Mask Loss: 1.0375415086746216 | Total Loss: 1.0379486083984375\n",
            "Epoch Number: 30 | Iteration Number: 39100 | Focal Loss: 0.00042784339166246355 | Mask Loss: 0.5796546339988708 | Total Loss: 0.5800824761390686\n"
          ],
          "name": "stdout"
        },
        {
          "output_type": "stream",
          "text": [
            "\r 83%|████████▎ | 30/36 [2:37:12<31:19, 313.31s/it]"
          ],
          "name": "stderr"
        },
        {
          "output_type": "stream",
          "text": [
            "time taken in epoch 30:312.0308725833893\n",
            "Epoch Number: 31 | Iteration Number: 39200 | Focal Loss: 0.0004887478426098824 | Mask Loss: 1.358537197113037 | Total Loss: 1.3590259552001953\n",
            "Epoch Number: 31 | Iteration Number: 39300 | Focal Loss: 0.000769608945120126 | Mask Loss: 2.007432222366333 | Total Loss: 2.008201837539673\n",
            "Epoch Number: 31 | Iteration Number: 39400 | Focal Loss: 0.00044779025483876467 | Mask Loss: 0.7306992411613464 | Total Loss: 0.731147050857544\n",
            "Epoch Number: 31 | Iteration Number: 39500 | Focal Loss: 0.0003910251834895462 | Mask Loss: 0.6504791975021362 | Total Loss: 0.6508702039718628\n",
            "Epoch Number: 31 | Iteration Number: 39600 | Focal Loss: 0.0003650479775387794 | Mask Loss: 0.3620226979255676 | Total Loss: 0.3623877465724945\n",
            "Epoch Number: 31 | Iteration Number: 39700 | Focal Loss: 0.0005307560204528272 | Mask Loss: 0.9401348233222961 | Total Loss: 0.940665602684021\n",
            "Epoch Number: 31 | Iteration Number: 39800 | Focal Loss: 0.0005192909156903625 | Mask Loss: 0.6563906669616699 | Total Loss: 0.6569099426269531\n",
            "Epoch Number: 31 | Iteration Number: 39900 | Focal Loss: 0.000704070960637182 | Mask Loss: 1.1989187002182007 | Total Loss: 1.1996227502822876\n",
            "Epoch Number: 31 | Iteration Number: 40000 | Focal Loss: 0.00048826157581061125 | Mask Loss: 0.8307285904884338 | Total Loss: 0.8312168717384338\n",
            "Epoch Number: 31 | Iteration Number: 40100 | Focal Loss: 0.0005024783895350993 | Mask Loss: 1.1814419031143188 | Total Loss: 1.1819443702697754\n",
            "Epoch Number: 31 | Iteration Number: 40200 | Focal Loss: 0.0004059204366058111 | Mask Loss: 2.20414662361145 | Total Loss: 2.20455265045166\n",
            "Epoch Number: 31 | Iteration Number: 40300 | Focal Loss: 0.0005713707651011646 | Mask Loss: 1.0443426370620728 | Total Loss: 1.0449140071868896\n",
            "Epoch Number: 31 | Iteration Number: 40400 | Focal Loss: 0.0006499435985460877 | Mask Loss: 0.764431893825531 | Total Loss: 0.7650818228721619\n"
          ],
          "name": "stdout"
        },
        {
          "output_type": "stream",
          "text": [
            "\r 86%|████████▌ | 31/36 [2:42:24<26:05, 313.10s/it]"
          ],
          "name": "stderr"
        },
        {
          "output_type": "stream",
          "text": [
            "time taken in epoch 31:312.5033028125763\n",
            "Epoch Number: 32 | Iteration Number: 40500 | Focal Loss: 0.0013413585256785154 | Mask Loss: 0.7877381443977356 | Total Loss: 0.789079487323761\n",
            "Epoch Number: 32 | Iteration Number: 40600 | Focal Loss: 0.0005128071643412113 | Mask Loss: 2.2803688049316406 | Total Loss: 2.280881643295288\n",
            "Epoch Number: 32 | Iteration Number: 40700 | Focal Loss: 0.0005184751935303211 | Mask Loss: 0.5191748142242432 | Total Loss: 0.5196933150291443\n",
            "Epoch Number: 32 | Iteration Number: 40800 | Focal Loss: 0.000745466270018369 | Mask Loss: 0.9423456788063049 | Total Loss: 0.9430911540985107\n",
            "Epoch Number: 32 | Iteration Number: 40900 | Focal Loss: 0.0004769724328070879 | Mask Loss: 1.2924931049346924 | Total Loss: 1.292970061302185\n",
            "Epoch Number: 32 | Iteration Number: 41000 | Focal Loss: 0.0008636876591481268 | Mask Loss: 0.8611181974411011 | Total Loss: 0.8619818687438965\n",
            "Epoch Number: 32 | Iteration Number: 41100 | Focal Loss: 0.0005897420924156904 | Mask Loss: 0.7200754284858704 | Total Loss: 0.7206651568412781\n",
            "Epoch Number: 32 | Iteration Number: 41200 | Focal Loss: 0.0007277821423485875 | Mask Loss: 0.837722659111023 | Total Loss: 0.8384504318237305\n",
            "Epoch Number: 32 | Iteration Number: 41300 | Focal Loss: 0.0004776650748681277 | Mask Loss: 0.442695677280426 | Total Loss: 0.443173348903656\n",
            "Epoch Number: 32 | Iteration Number: 41400 | Focal Loss: 0.0004773107939399779 | Mask Loss: 1.394008994102478 | Total Loss: 1.3944863080978394\n",
            "Epoch Number: 32 | Iteration Number: 41500 | Focal Loss: 0.00052359962137416 | Mask Loss: 1.0813311338424683 | Total Loss: 1.0818547010421753\n",
            "Epoch Number: 32 | Iteration Number: 41600 | Focal Loss: 0.0005384570104070008 | Mask Loss: 1.6335657835006714 | Total Loss: 1.6341042518615723\n",
            "Epoch Number: 32 | Iteration Number: 41700 | Focal Loss: 0.0004046107060275972 | Mask Loss: 0.6227688193321228 | Total Loss: 0.6231734156608582\n"
          ],
          "name": "stdout"
        },
        {
          "output_type": "stream",
          "text": [
            "\r 89%|████████▉ | 32/36 [2:47:36<20:51, 312.80s/it]"
          ],
          "name": "stderr"
        },
        {
          "output_type": "stream",
          "text": [
            "time taken in epoch 32:312.008234500885\n",
            "Epoch Number: 33 | Iteration Number: 41800 | Focal Loss: 0.0008979664416983724 | Mask Loss: 1.5103223323822021 | Total Loss: 1.5112203359603882\n",
            "Epoch Number: 33 | Iteration Number: 41900 | Focal Loss: 0.0006848783232271671 | Mask Loss: 1.260796070098877 | Total Loss: 1.2614809274673462\n",
            "Epoch Number: 33 | Iteration Number: 42000 | Focal Loss: 0.0007140664383769035 | Mask Loss: 0.6216565370559692 | Total Loss: 0.6223706007003784\n",
            "Epoch Number: 33 | Iteration Number: 42100 | Focal Loss: 0.00032712388201616704 | Mask Loss: 0.4664956033229828 | Total Loss: 0.46682271361351013\n",
            "Epoch Number: 33 | Iteration Number: 42200 | Focal Loss: 0.000608435773756355 | Mask Loss: 1.1556541919708252 | Total Loss: 1.1562626361846924\n",
            "Epoch Number: 33 | Iteration Number: 42300 | Focal Loss: 0.0005746515234932303 | Mask Loss: 2.170964002609253 | Total Loss: 2.1715385913848877\n",
            "Epoch Number: 33 | Iteration Number: 42400 | Focal Loss: 0.0005809692665934563 | Mask Loss: 1.2580968141555786 | Total Loss: 1.2586778402328491\n",
            "Epoch Number: 33 | Iteration Number: 42500 | Focal Loss: 0.0004236947279423475 | Mask Loss: 0.5146014094352722 | Total Loss: 0.5150250792503357\n",
            "Epoch Number: 33 | Iteration Number: 42600 | Focal Loss: 0.0002926408778876066 | Mask Loss: 0.8847379684448242 | Total Loss: 0.8850306272506714\n",
            "Epoch Number: 33 | Iteration Number: 42700 | Focal Loss: 0.00046379282139241695 | Mask Loss: 0.7765563726425171 | Total Loss: 0.7770201563835144\n",
            "Epoch Number: 33 | Iteration Number: 42800 | Focal Loss: 0.000476647459436208 | Mask Loss: 1.2294007539749146 | Total Loss: 1.2298773527145386\n",
            "Epoch Number: 33 | Iteration Number: 42900 | Focal Loss: 0.0006555314175784588 | Mask Loss: 1.5557398796081543 | Total Loss: 1.556395411491394\n",
            "Epoch Number: 33 | Iteration Number: 43000 | Focal Loss: 0.000804227078333497 | Mask Loss: 0.7693701982498169 | Total Loss: 0.7701744437217712\n"
          ],
          "name": "stdout"
        },
        {
          "output_type": "stream",
          "text": [
            "\r 92%|█████████▏| 33/36 [2:52:49<15:38, 312.91s/it]"
          ],
          "name": "stderr"
        },
        {
          "output_type": "stream",
          "text": [
            "time taken in epoch 33:313.07066559791565\n",
            "Epoch Number: 34 | Iteration Number: 43100 | Focal Loss: 0.00048249150859192014 | Mask Loss: 1.002116322517395 | Total Loss: 1.002598762512207\n",
            "Epoch Number: 34 | Iteration Number: 43200 | Focal Loss: 0.00042925719753839076 | Mask Loss: 1.0377871990203857 | Total Loss: 1.038216471672058\n",
            "Epoch Number: 34 | Iteration Number: 43300 | Focal Loss: 0.0007117069908417761 | Mask Loss: 1.722215175628662 | Total Loss: 1.7229268550872803\n",
            "Epoch Number: 34 | Iteration Number: 43400 | Focal Loss: 0.000379344099201262 | Mask Loss: 1.2404053211212158 | Total Loss: 1.2407846450805664\n",
            "Epoch Number: 34 | Iteration Number: 43500 | Focal Loss: 0.0009604290826246142 | Mask Loss: 0.8452643156051636 | Total Loss: 0.8462247252464294\n",
            "Epoch Number: 34 | Iteration Number: 43600 | Focal Loss: 0.0004630360926967114 | Mask Loss: 0.7682255506515503 | Total Loss: 0.7686885595321655\n",
            "Epoch Number: 34 | Iteration Number: 43700 | Focal Loss: 0.0004442730569280684 | Mask Loss: 0.7906919717788696 | Total Loss: 0.7911362648010254\n",
            "Epoch Number: 34 | Iteration Number: 43800 | Focal Loss: 0.0004464745579753071 | Mask Loss: 0.8277738094329834 | Total Loss: 0.8282203078269958\n",
            "Epoch Number: 34 | Iteration Number: 43900 | Focal Loss: 0.0004953266470693052 | Mask Loss: 1.2956446409225464 | Total Loss: 1.2961399555206299\n",
            "Epoch Number: 34 | Iteration Number: 44000 | Focal Loss: 0.00037421664455905557 | Mask Loss: 1.1600805521011353 | Total Loss: 1.1604547500610352\n",
            "Epoch Number: 34 | Iteration Number: 44100 | Focal Loss: 0.0004082347732037306 | Mask Loss: 1.1619402170181274 | Total Loss: 1.1623485088348389\n",
            "Epoch Number: 34 | Iteration Number: 44200 | Focal Loss: 0.0007451591081917286 | Mask Loss: 1.2301902770996094 | Total Loss: 1.2309354543685913\n",
            "Epoch Number: 34 | Iteration Number: 44300 | Focal Loss: 0.0004751860396936536 | Mask Loss: 1.6040507555007935 | Total Loss: 1.6045259237289429\n",
            "Epoch Number: 34 | Iteration Number: 44400 | Focal Loss: 0.0007570130401290953 | Mask Loss: 0.742913007736206 | Total Loss: 0.7436700463294983\n"
          ],
          "name": "stdout"
        },
        {
          "output_type": "stream",
          "text": [
            "\r 94%|█████████▍| 34/36 [2:58:06<10:27, 313.87s/it]"
          ],
          "name": "stderr"
        },
        {
          "output_type": "stream",
          "text": [
            "time taken in epoch 34:316.0100769996643\n",
            "Epoch Number: 35 | Iteration Number: 44500 | Focal Loss: 0.0007383572519756854 | Mask Loss: 0.8026055097579956 | Total Loss: 0.8033438920974731\n",
            "Epoch Number: 35 | Iteration Number: 44600 | Focal Loss: 0.0006439388962462544 | Mask Loss: 1.1169970035552979 | Total Loss: 1.1176409721374512\n",
            "Epoch Number: 35 | Iteration Number: 44700 | Focal Loss: 0.00038530302117578685 | Mask Loss: 0.40268513560295105 | Total Loss: 0.40307044982910156\n",
            "Epoch Number: 35 | Iteration Number: 44800 | Focal Loss: 0.0005054005887359381 | Mask Loss: 0.4128668010234833 | Total Loss: 0.4133721888065338\n",
            "Epoch Number: 35 | Iteration Number: 44900 | Focal Loss: 0.0007288148044608533 | Mask Loss: 1.8459856510162354 | Total Loss: 1.8467144966125488\n",
            "Epoch Number: 35 | Iteration Number: 45000 | Focal Loss: 0.0007148198201321065 | Mask Loss: 0.7892782688140869 | Total Loss: 0.7899931073188782\n",
            "Epoch Number: 35 | Iteration Number: 45100 | Focal Loss: 0.0004418588359840214 | Mask Loss: 0.4685463309288025 | Total Loss: 0.46898818016052246\n",
            "Epoch Number: 35 | Iteration Number: 45200 | Focal Loss: 0.0004611838376149535 | Mask Loss: 0.8247615098953247 | Total Loss: 0.8252226710319519\n",
            "Epoch Number: 35 | Iteration Number: 45300 | Focal Loss: 0.00032387024839408696 | Mask Loss: 0.354106605052948 | Total Loss: 0.3544304668903351\n",
            "Epoch Number: 35 | Iteration Number: 45400 | Focal Loss: 0.0006774644134566188 | Mask Loss: 0.8796459436416626 | Total Loss: 0.8803234100341797\n",
            "Epoch Number: 35 | Iteration Number: 45500 | Focal Loss: 0.0004991135210730135 | Mask Loss: 1.2545642852783203 | Total Loss: 1.2550634145736694\n",
            "Epoch Number: 35 | Iteration Number: 45600 | Focal Loss: 0.00046941559412516654 | Mask Loss: 0.3571326732635498 | Total Loss: 0.3576020896434784\n",
            "Epoch Number: 35 | Iteration Number: 45700 | Focal Loss: 0.0008240140741690993 | Mask Loss: 0.9358990788459778 | Total Loss: 0.9367231130599976\n"
          ],
          "name": "stdout"
        },
        {
          "output_type": "stream",
          "text": [
            "\r 97%|█████████▋| 35/36 [3:03:21<05:14, 314.38s/it]"
          ],
          "name": "stderr"
        },
        {
          "output_type": "stream",
          "text": [
            "time taken in epoch 35:315.4768702983856\n",
            "Epoch Number: 36 | Iteration Number: 45800 | Focal Loss: 0.0006153958383947611 | Mask Loss: 0.6020145416259766 | Total Loss: 0.6026299595832825\n",
            "Epoch Number: 36 | Iteration Number: 45900 | Focal Loss: 0.0005123025039210916 | Mask Loss: 0.7159909009933472 | Total Loss: 0.7165032029151917\n",
            "Epoch Number: 36 | Iteration Number: 46000 | Focal Loss: 0.0004257804830558598 | Mask Loss: 1.3891892433166504 | Total Loss: 1.3896150588989258\n",
            "Epoch Number: 36 | Iteration Number: 46100 | Focal Loss: 0.0005012593464925885 | Mask Loss: 0.46818071603775024 | Total Loss: 0.4686819612979889\n",
            "Epoch Number: 36 | Iteration Number: 46200 | Focal Loss: 0.00034687487641349435 | Mask Loss: 0.5694364309310913 | Total Loss: 0.5697833299636841\n",
            "Epoch Number: 36 | Iteration Number: 46300 | Focal Loss: 0.00024051027139648795 | Mask Loss: 0.9905468225479126 | Total Loss: 0.9907873272895813\n",
            "Epoch Number: 36 | Iteration Number: 46400 | Focal Loss: 0.0004400017496664077 | Mask Loss: 0.698053240776062 | Total Loss: 0.698493242263794\n",
            "Epoch Number: 36 | Iteration Number: 46500 | Focal Loss: 0.00046880514128133655 | Mask Loss: 0.45373275876045227 | Total Loss: 0.4542015492916107\n",
            "Epoch Number: 36 | Iteration Number: 46600 | Focal Loss: 0.0005090790218673646 | Mask Loss: 1.4901916980743408 | Total Loss: 1.4907007217407227\n",
            "Epoch Number: 36 | Iteration Number: 46700 | Focal Loss: 0.0006611740682274103 | Mask Loss: 0.9171355962753296 | Total Loss: 0.917796790599823\n",
            "Epoch Number: 36 | Iteration Number: 46800 | Focal Loss: 0.0008471070905216038 | Mask Loss: 0.4289446473121643 | Total Loss: 0.42979174852371216\n",
            "Epoch Number: 36 | Iteration Number: 46900 | Focal Loss: 0.0007553792092949152 | Mask Loss: 0.9022788405418396 | Total Loss: 0.9030342102050781\n",
            "Epoch Number: 36 | Iteration Number: 47000 | Focal Loss: 0.000557359482627362 | Mask Loss: 0.7355587482452393 | Total Loss: 0.7361161112785339\n"
          ],
          "name": "stdout"
        },
        {
          "output_type": "stream",
          "text": [
            "100%|██████████| 36/36 [3:08:36<00:00, 314.33s/it]"
          ],
          "name": "stderr"
        },
        {
          "output_type": "stream",
          "text": [
            "time taken in epoch 36:314.27671575546265\n"
          ],
          "name": "stdout"
        },
        {
          "output_type": "stream",
          "text": [
            "\n"
          ],
          "name": "stderr"
        }
      ]
    },
    {
      "cell_type": "code",
      "metadata": {
        "id": "MiPU3VwRgZzA",
        "colab": {
          "base_uri": "https://localhost:8080/",
          "height": 803
        },
        "outputId": "e9e59b91-535b-4f24-fcd1-0d8dcdaf8180"
      },
      "source": [
        "import matplotlib.pyplot as plt\n",
        "\n",
        "plt.plot(Iters, Total_loss, 'r--')\n",
        "plt.xlabel('Epoch')\n",
        "plt.ylabel('Total Loss')\n",
        "plt.show()\n",
        "plt.plot(Iters, Mask_loss, 'r--')\n",
        "plt.xlabel('Epoch')\n",
        "plt.ylabel('Mask Loss')\n",
        "plt.show()\n",
        "plt.plot(Iters, Focal_loss, 'r--')\n",
        "plt.xlabel('Epoch')\n",
        "plt.ylabel('Focal Loss')\n",
        "plt.show()"
      ],
      "execution_count": null,
      "outputs": [
        {
          "output_type": "display_data",
          "data": {
            "image/png": "[encoded data removed]",
            "text/plain": [
              "<Figure size 432x288 with 1 Axes>"
            ]
          },
          "metadata": {
            "tags": [],
            "needs_background": "light"
          }
        },
        {
          "output_type": "display_data",
          "data": {
            "image/png": "[encoded data removed]",
            "text/plain": [
              "<Figure size 432x288 with 1 Axes>"
            ]
          },
          "metadata": {
            "tags": [],
            "needs_background": "light"
          }
        },
        {
          "output_type": "display_data",
          "data": {
            "image/png": "[encoded data removed]",
            "text/plain": [
              "<Figure size 432x288 with 1 Axes>"
            ]
          },
          "metadata": {
            "tags": [],
            "needs_background": "light"
          }
        }
      ]
    },
    {
      "cell_type": "markdown",
      "metadata": {
        "id": "SllVeAkh0Q9k"
      },
      "source": [
        "# Post-Processing"
      ]
    },
    {
      "cell_type": "code",
      "metadata": {
        "id": "fiPcB8726Kps"
      },
      "source": [
        "\n",
        "def PostProcess(ins_pred_list, cate_pred_list,ori_size):\n",
        "  a=[]\n",
        "  NMS_sorted_scores_list=[]\n",
        "  NMS_sorted_cate_label_list=[]\n",
        "  NMS_sorted_ins_list=[]\n",
        "  ## TODO: finish PostProcess\n",
        "  for bz in range(len(cate_pred_list[0])):\n",
        "    for i in range(len(cate_pred_list)):\n",
        "      img_fpn=torch.zeros(cate_pred_list[i][bz].shape[0]**2,3)\n",
        "      img_fpn=cate_pred_list[i][bz].reshape(cate_pred_list[i][bz].shape[0]**2,3)\n",
        "      a.append(img_fpn)\n",
        "    cate_pred_img=torch.cat((a[0],a[1],a[2],a[3],a[4]),0)\n",
        "    ins_pred_img=torch.cat((ins_pred_list[0][bz],ins_pred_list[1][bz],ins_pred_list[2][bz],ins_pred_list[3][bz],ins_pred_list[4][bz]),0)\n",
        "    c_thresh=0.1\n",
        "    i_thresh=0.7   \n",
        "    sorted_scores=[]\n",
        "    sorted_cate_label_list=[]\n",
        "    sorted_ins=[]\n",
        "    cate_pred_img=cate_pred_img.cpu().numpy()\n",
        "    ins_pred_img=ins_pred_img.cpu().numpy()\n",
        "    for k in range(len(cate_pred_img)):\n",
        "      if (np.max(cate_pred_img[k])>c_thresh):\n",
        "        i_sum=0\n",
        "        count=0\n",
        "        for i in range(len(ins_pred_img[0])):\n",
        "          for j in range(len(ins_pred_img[0][0])):\n",
        "            if (ins_pred_img[k][i][j]>i_thresh):\n",
        "              i_sum+=ins_pred_img[k][i][j]\n",
        "              count+=1\n",
        "        if count!=0:\n",
        "          i_sum=i_sum/count\n",
        "          sorted_scores.append(i_sum)\n",
        "          sorted_cate_label_list.append(np.argmax(cate_pred_img[k]))\n",
        "          sorted_ins.append(ins_pred_img[k])\n",
        "    if len(sorted_scores)>0:\n",
        "      sorted_scores, sorted_cate_label_list,sorted_ins = zip(*sorted(zip(sorted_scores, sorted_cate_label_list,sorted_ins),reverse=True))\n",
        "    print(sorted_scores,sorted_cate_label_list,len(sorted_ins))\n",
        "    \n",
        "    #break\n",
        "    if k > 5:\n",
        "      return sorted_ins,sorted_scores,sorted_cate_label_list\n",
        "      break\n",
        "      \n",
        "def MatrixNMS(sorted_ins, sorted_scores,sorted_cate_label_list, method='gauss', gauss_sigma=0.5):\n",
        "        ## TODO: finish MatrixNMS\n",
        "        ins=np.asarray(sorted_ins)\n",
        "        for i in range(len(ins)):\n",
        "          for j in range(len(ins[0])):\n",
        "            for k in range(len(ins[0][0])):\n",
        "              if (ins[i][j][k]>=0.5):\n",
        "                ins[i][j][k]=1\n",
        "              else:\n",
        "                ins[i][j][k]=0   \n",
        "\n",
        "        scores=np.asarray(sorted_scores)\n",
        "        print(ins.shape)\n",
        "        masks=ins.reshape(len(ins),len(ins[0])*len(ins[0][0]))\n",
        "        intersection=np.matmul(masks, masks.T)\n",
        "        print(type(masks))\n",
        "        print(masks.shape)\n",
        "        masks=torch.from_numpy(masks)\n",
        "        areas=masks.sum(axis=1).expand(len(ins),len(ins))\n",
        "        union=areas+areas.T-intersection\n",
        "        ious=(intersection/union).triu(diagonal=1)\n",
        "        ious_cmax,_=ious.max(0)\n",
        "        ious_cmax=ious_cmax.expand(len(ins),len(ins)).T\n",
        "        decay=np.zeros((len(ins),len(ins)))\n",
        "        ious=ious.numpy()\n",
        "        ious_cmax=ious_cmax.numpy()\n",
        "        for i in range(len(ins)):\n",
        "          for j in range(len(ins)):\n",
        "            if method=='gauss':\n",
        "              decay[i][j]=math.exp(-(ious[i][j]**2-ious_cmax[i][j]**2)/gauss_sigma)\n",
        "            else:\n",
        "              decay[i][j]=(1-ious[i][j])/(1-ious_cmax[i][j])\n",
        "\n",
        "        decay=np.amin(decay, axis=0)\n",
        "        scores=scores*decay\n",
        "        if len(scores)>0:\n",
        "          scores, ins,sorted_cate_label_list = zip(*sorted(zip(scores, ins,sorted_cate_label_list),reverse=True))\n",
        "        print(scores[:5])\n",
        "        scores=np.asarray(scores)\n",
        "        ins=np.asarray(ins)\n",
        "        sorted_cate_label_list=np.asarray(sorted_cate_label_list)\n",
        "        return scores[:5],ins[:5],sorted_cate_label_list[:5]\n"
      ],
      "execution_count": null,
      "outputs": []
    },
    {
      "cell_type": "code",
      "metadata": {
        "id": "PbbPjcpJ0QJA"
      },
      "source": [
        "checkpoint = torch.load('/content/gdrive/My Drive/CIS680_Rectified/SOLO_RM/Result2_20')\n",
        "solo_head.load_state_dict(checkpoint['model_state_dict'])\n",
        "optimizer.load_state_dict(checkpoint['optimizer_state_dict'])\n",
        "epoch = checkpoint['epoch']"
      ],
      "execution_count": null,
      "outputs": []
    },
    {
      "cell_type": "code",
      "metadata": {
        "id": "dqp0Czlv0kgb"
      },
      "source": [
        "while(1):\n",
        "  mask_color_list = [\"jet\", \"ocean\", \"Spectral\"]\n",
        "  seg_num_grids=[40, 36, 24, 16, 12]\n",
        "  with torch.no_grad():\n",
        "    solo_head.eval()\n",
        "    for i, data in enumerate(test_loader,0):\n",
        "      optimizer.zero_grad()\n",
        "      img, label_list, mask_list, bbox_list = [data[i] for i in range(len(data))]\n",
        "      img = img.float()\n",
        "      img=img.to(device)\n",
        "      backout = resnet50_fpn(img)\n",
        "      fpn_feat_list = list(backout.values())\n",
        "      cate_pred_list,ins_pred_list = solo_head.forward(fpn_feat_list,eval=True) \n",
        "      break\n",
        "  import math\n",
        "  sorted_ins,sorted_scores,sorted_cate_label_list=PostProcess(ins_pred_list,cate_pred_list,[4,400])\n",
        "  #ins_pred_list, cate_pred_list, ori_size = PostProcess(ins_pred_list, cate_pred_list,[800,1088])\n",
        "  decay_scores,decay_masks,decay_labels=MatrixNMS(sorted_ins[:50],sorted_scores[:50],sorted_cate_label_list[:50], method='gauss', gauss_sigma=0.5)\n",
        "  for i in range(5):\n",
        "    mask=torch.from_numpy(decay_masks[i])\n",
        "    label=decay_labels[i]\n",
        "    mask=mask.unsqueeze(0)\n",
        "    mask = mask.permute(0, 2, 1)\n",
        "    mask = F.interpolate(mask, size=800)\n",
        "    mask = mask.permute(0, 2, 1)\n",
        "    mask = F.interpolate(mask, size=1066)\n",
        "    mask=F.pad(mask,(11,11),value=0)\n",
        "    plt.imshow(img[0].permute(1,2,0).data.long().cpu().numpy())\n",
        "    mask_f=mask\n",
        "    mask_f = np.reshape(mask_f,(800,1088,1))\n",
        "    masked = np.ma.masked_where(mask_f == 0, mask_f)\n",
        "    masked=np.squeeze(masked)\n",
        "    plt.imshow(masked, cmap=mask_color_list[label], alpha=0.7)\n",
        "    plt.show()\n",
        "#sorted_scores,sorted_cate_label_list,sorted_ins=PostProcess(ins_pred_list,cate_pred_list,[4,400])"
      ],
      "execution_count": null,
      "outputs": []
    },
    {
      "cell_type": "code",
      "metadata": {
        "id": "9M9pRO9bTgc2"
      },
      "source": [
        "device = torch.device(\"cuda:0\" if torch.cuda.is_available() else \"cpu\")\n",
        "solo_head = solo_head.to(device)\n",
        "resnet50_fpn = Resnet50Backbone(device=device)\n",
        "optimizer = torch.optim.SGD(solo_head.parameters(),lr=0.01/8,momentum=0.9,weight_decay=0.0001)\n",
        "\n",
        "resume=True\n",
        "if resume:\n",
        "  path = '/content/gdrive/My Drive/CIS680_Rectified/SOLO_RM/Result'+str(36)\n",
        "  checkpoint = torch.load(path)\n",
        "  solo_head.load_state_dict(checkpoint['model_state_dict'])\n",
        "  optimizer.load_state_dict(checkpoint['optimizer_state_dict'])\n",
        "  epochsdone = checkpoint['epoch']"
      ],
      "execution_count": null,
      "outputs": []
    },
    {
      "cell_type": "code",
      "metadata": {
        "id": "LiMKL4icY-dQ",
        "colab": {
          "base_uri": "https://localhost:8080/",
          "height": 1000
        },
        "outputId": "41d6d985-db5f-43e9-c3ec-1c1659ba5a08"
      },
      "source": [
        "Mask_loss = []\n",
        "Focal_loss = []\n",
        "Total_loss = []\n",
        "Iters = []\n",
        "num_iters = 0\n",
        "tot_cumulative_loss = 0\n",
        "mask_cumulative_loss = 0\n",
        "focal_cumulative_loss = 0\n",
        "epochsdone = 0\n",
        "num_epochs = 20\n",
        "for epochs in tqdm.tqdm(range(num_epochs-epochsdone)):\n",
        "  start = time.time()\n",
        "  solo_head.train()\n",
        "  if epochs+epochsdone == 26:\n",
        "    optimizer = torch.optim.SGD(solo_head.parameters(),lr=0.01/80,momentum=0.9,weight_decay=0.0001)\n",
        "  if epochs+epochsdone == 33:\n",
        "    optimizer = torch.optim.SGD(solo_head.parameters(),lr=0.01/800,momentum=0.9,weight_decay=0.0001)\n",
        "  for i, data in enumerate(train_loader,0):\n",
        "    num_iters += 1\n",
        "    optimizer.zero_grad()\n",
        "    img, label_list, mask_list, bbox_list = [data[i] for i in range(len(data))]\n",
        "    img = img.float()\n",
        "    img=img.to(device)\n",
        "    with torch.no_grad():\n",
        "      backout = resnet50_fpn(img)\n",
        "      fpn_feat_list = list(backout.values())\n",
        "    del img\n",
        "    ## passing through the network\n",
        "    cate_pred_list,ins_pred_list = solo_head.forward(fpn_feat_list)\n",
        "    del fpn_feat_list\n",
        "    torch.cuda.empty_cache()\n",
        "    ##building Target\n",
        "\n",
        "\n",
        "    ins_gts_list, ins_ind_gts_list, cate_gts_list = solo_head.target(ins_pred_list,bbox_list,label_list,mask_list)\n",
        "    del bbox_list,label_list,mask_list\n",
        "    focal_loss,mask_loss,total_loss = solo_head.loss(cate_pred_list,ins_pred_list,ins_gts_list,ins_ind_gts_list,cate_gts_list)\n",
        "    total_loss.backward()\n",
        "    optimizer.step()\n",
        "    if num_iters%100 != 0:\n",
        "      tot_cumulative_loss += total_loss\n",
        "      mask_cumulative_loss += mask_loss\n",
        "      focal_cumulative_loss += focal_loss\n",
        "    else:\n",
        "      Total_loss.append(tot_cumulative_loss/100)\n",
        "      Mask_loss.append(mask_cumulative_loss/100)\n",
        "      Focal_loss.append(focal_cumulative_loss/100)\n",
        "      tot_cumulative_loss = 0\n",
        "      mask_cumulative_loss = 0\n",
        "      focal_cumulative_loss = 0\n",
        "      Iters.append(num_iters)\n",
        "      print(\"Epoch Number: {} | Iteration Number: {} | Focal Loss: {} | Mask Loss: {} | Total Loss: {}\".format(epochs+epochsdone+1,num_iters,focal_loss.cpu().item(),(mask_loss*3).cpu().item(),total_loss.cpu().item()))\n",
        "    \n",
        "  print('time taken in epoch {}:{}'.format(epochs+epochsdone+1,time.time()-start))\n",
        "  ##saving model\n",
        "  path = '/content/gdrive/My Drive/CIS680_Rectified/SOLO_RM/Result2_'+str(epochs+epochsdone+1)\n",
        "  torch.save({\\\n",
        "              'epoch': epochs+1,\\\n",
        "              'model_state_dict': solo_head.state_dict(),\\\n",
        "              'optimizer_state_dict':optimizer.state_dict()\\\n",
        "              },path)\n",
        "\n"
      ],
      "execution_count": null,
      "outputs": [
        {
          "output_type": "stream",
          "text": [
            "\n",
            "  0%|          | 0/20 [00:00<?, ?it/s]\u001b[A/usr/local/lib/python3.6/dist-packages/torch/nn/functional.py:3121: UserWarning: Default upsampling behavior when mode=bilinear is changed to align_corners=False since 0.4.0. Please specify align_corners=True if the old behavior is desired. See the documentation of nn.Upsample for details.\n",
            "  \"See the documentation of nn.Upsample for details.\".format(mode))\n",
            "/usr/local/lib/python3.6/dist-packages/torch/nn/functional.py:3000: UserWarning: The default behavior for interpolate/upsample with float scale_factor changed in 1.6.0 to align with other frameworks/libraries, and uses scale_factor directly, instead of relying on the computed output size. If you wish to keep the old behavior, please set recompute_scale_factor=True. See the documentation of nn.Upsample for details. \n",
            "  warnings.warn(\"The default behavior for interpolate/upsample with float scale_factor changed \"\n"
          ],
          "name": "stderr"
        },
        {
          "output_type": "stream",
          "text": [
            "Epoch Number: 1 | Iteration Number: 100 | Focal Loss: 0.0004327019560150802 | Mask Loss: 0.8694894313812256 | Total Loss: 0.8699221611022949\n",
            "Epoch Number: 1 | Iteration Number: 200 | Focal Loss: 0.0004287974152248353 | Mask Loss: 0.6610288619995117 | Total Loss: 0.6614576578140259\n",
            "Epoch Number: 1 | Iteration Number: 300 | Focal Loss: 0.0004970970330759883 | Mask Loss: 1.0513970851898193 | Total Loss: 1.051894187927246\n",
            "Epoch Number: 1 | Iteration Number: 400 | Focal Loss: 0.0006585498340427876 | Mask Loss: 0.8927428722381592 | Total Loss: 0.8934014439582825\n",
            "Epoch Number: 1 | Iteration Number: 500 | Focal Loss: 0.0003336597583256662 | Mask Loss: 0.4778112769126892 | Total Loss: 0.47814494371414185\n",
            "Epoch Number: 1 | Iteration Number: 600 | Focal Loss: 0.0005393053288571537 | Mask Loss: 0.8209611177444458 | Total Loss: 0.8215004205703735\n",
            "Epoch Number: 1 | Iteration Number: 700 | Focal Loss: 0.0006435668328776956 | Mask Loss: 1.1096068620681763 | Total Loss: 1.110250473022461\n",
            "Epoch Number: 1 | Iteration Number: 800 | Focal Loss: 0.0006819880218245089 | Mask Loss: 1.4021246433258057 | Total Loss: 1.4028066396713257\n",
            "Epoch Number: 1 | Iteration Number: 900 | Focal Loss: 0.0006772285560145974 | Mask Loss: 1.519690752029419 | Total Loss: 1.520367980003357\n",
            "Epoch Number: 1 | Iteration Number: 1000 | Focal Loss: 0.0004414315917529166 | Mask Loss: 1.098992943763733 | Total Loss: 1.0994343757629395\n",
            "Epoch Number: 1 | Iteration Number: 1100 | Focal Loss: 0.0006471287342719734 | Mask Loss: 1.1170724630355835 | Total Loss: 1.1177196502685547\n",
            "Epoch Number: 1 | Iteration Number: 1200 | Focal Loss: 0.0004760643932968378 | Mask Loss: 0.3500465452671051 | Total Loss: 0.35052260756492615\n",
            "Epoch Number: 1 | Iteration Number: 1300 | Focal Loss: 0.0005630076630041003 | Mask Loss: 0.7882320284843445 | Total Loss: 0.7887950539588928\n",
            "time taken in epoch 1:319.19713711738586\n"
          ],
          "name": "stdout"
        },
        {
          "output_type": "stream",
          "text": [
            "\n",
            "  5%|▌         | 1/20 [05:19<1:41:09, 319.47s/it]\u001b[A"
          ],
          "name": "stderr"
        },
        {
          "output_type": "stream",
          "text": [
            "Epoch Number: 2 | Iteration Number: 1400 | Focal Loss: 0.0003584471996873617 | Mask Loss: 0.2613016963005066 | Total Loss: 0.2616601288318634\n",
            "Epoch Number: 2 | Iteration Number: 1500 | Focal Loss: 0.00040504176286049187 | Mask Loss: 0.43439704179763794 | Total Loss: 0.4348020851612091\n",
            "Epoch Number: 2 | Iteration Number: 1600 | Focal Loss: 0.0004626641748473048 | Mask Loss: 0.5853871703147888 | Total Loss: 0.5858498215675354\n",
            "Epoch Number: 2 | Iteration Number: 1700 | Focal Loss: 0.00035286974161863327 | Mask Loss: 1.1868443489074707 | Total Loss: 1.187197208404541\n",
            "Epoch Number: 2 | Iteration Number: 1800 | Focal Loss: 0.0006744809215888381 | Mask Loss: 0.7009389400482178 | Total Loss: 0.7016134262084961\n",
            "Epoch Number: 2 | Iteration Number: 1900 | Focal Loss: 0.0003587426617741585 | Mask Loss: 0.4607791006565094 | Total Loss: 0.4611378312110901\n",
            "Epoch Number: 2 | Iteration Number: 2000 | Focal Loss: 0.0004476740141399205 | Mask Loss: 0.7881063222885132 | Total Loss: 0.7885540127754211\n",
            "Epoch Number: 2 | Iteration Number: 2100 | Focal Loss: 0.000376714626327157 | Mask Loss: 0.6160063743591309 | Total Loss: 0.6163830757141113\n",
            "Epoch Number: 2 | Iteration Number: 2200 | Focal Loss: 0.0009258264908567071 | Mask Loss: 0.960500955581665 | Total Loss: 0.9614267945289612\n",
            "Epoch Number: 2 | Iteration Number: 2300 | Focal Loss: 0.0007124245166778564 | Mask Loss: 1.046495795249939 | Total Loss: 1.0472081899642944\n",
            "Epoch Number: 2 | Iteration Number: 2400 | Focal Loss: 0.000818500411696732 | Mask Loss: 1.1709227561950684 | Total Loss: 1.171741247177124\n",
            "Epoch Number: 2 | Iteration Number: 2500 | Focal Loss: 0.00047044968232512474 | Mask Loss: 1.1755303144454956 | Total Loss: 1.176000714302063\n",
            "Epoch Number: 2 | Iteration Number: 2600 | Focal Loss: 0.0005857462529093027 | Mask Loss: 0.5200175046920776 | Total Loss: 0.5206032395362854\n",
            "time taken in epoch 2:318.0124464035034\n"
          ],
          "name": "stdout"
        },
        {
          "output_type": "stream",
          "text": [
            "\n",
            " 10%|█         | 2/20 [10:37<1:35:43, 319.11s/it]\u001b[A"
          ],
          "name": "stderr"
        },
        {
          "output_type": "stream",
          "text": [
            "Epoch Number: 3 | Iteration Number: 2700 | Focal Loss: 0.0003245740372221917 | Mask Loss: 0.5756102204322815 | Total Loss: 0.5759347677230835\n",
            "Epoch Number: 3 | Iteration Number: 2800 | Focal Loss: 0.0004009842232335359 | Mask Loss: 0.43796253204345703 | Total Loss: 0.43836352229118347\n",
            "Epoch Number: 3 | Iteration Number: 2900 | Focal Loss: 0.0006281935493461788 | Mask Loss: 0.6622858643531799 | Total Loss: 0.6629140377044678\n",
            "Epoch Number: 3 | Iteration Number: 3000 | Focal Loss: 0.00035830886918120086 | Mask Loss: 0.5403515100479126 | Total Loss: 0.5407097935676575\n",
            "Epoch Number: 3 | Iteration Number: 3100 | Focal Loss: 0.0004599916865117848 | Mask Loss: 0.8660857677459717 | Total Loss: 0.8665457367897034\n",
            "Epoch Number: 3 | Iteration Number: 3200 | Focal Loss: 0.0005319601623341441 | Mask Loss: 0.4594586491584778 | Total Loss: 0.45999062061309814\n",
            "Epoch Number: 3 | Iteration Number: 3300 | Focal Loss: 0.000817160471342504 | Mask Loss: 0.5916635394096375 | Total Loss: 0.5924807190895081\n",
            "Epoch Number: 3 | Iteration Number: 3400 | Focal Loss: 0.0006586453528143466 | Mask Loss: 0.6968536972999573 | Total Loss: 0.6975123286247253\n",
            "Epoch Number: 3 | Iteration Number: 3500 | Focal Loss: 0.0006424958701245487 | Mask Loss: 2.1963586807250977 | Total Loss: 2.1970012187957764\n",
            "Epoch Number: 3 | Iteration Number: 3600 | Focal Loss: 0.0005119511624798179 | Mask Loss: 1.1434012651443481 | Total Loss: 1.1439132690429688\n",
            "Epoch Number: 3 | Iteration Number: 3700 | Focal Loss: 0.0005813000025227666 | Mask Loss: 0.3725810945034027 | Total Loss: 0.3731623888015747\n",
            "Epoch Number: 3 | Iteration Number: 3800 | Focal Loss: 0.0005544243613258004 | Mask Loss: 0.7404576539993286 | Total Loss: 0.7410120964050293\n",
            "Epoch Number: 3 | Iteration Number: 3900 | Focal Loss: 0.00030947872437536716 | Mask Loss: 0.27628785371780396 | Total Loss: 0.2765973210334778\n",
            "time taken in epoch 3:318.32071256637573\n"
          ],
          "name": "stdout"
        },
        {
          "output_type": "stream",
          "text": [
            "\n",
            " 15%|█▌        | 3/20 [15:56<1:30:22, 318.95s/it]\u001b[A"
          ],
          "name": "stderr"
        },
        {
          "output_type": "stream",
          "text": [
            "Epoch Number: 4 | Iteration Number: 4000 | Focal Loss: 0.00038469661376439035 | Mask Loss: 0.6453123092651367 | Total Loss: 0.6456969976425171\n",
            "Epoch Number: 4 | Iteration Number: 4100 | Focal Loss: 0.0007493862649425864 | Mask Loss: 1.039662480354309 | Total Loss: 1.0404118299484253\n",
            "Epoch Number: 4 | Iteration Number: 4200 | Focal Loss: 0.00042694786679930985 | Mask Loss: 0.897955060005188 | Total Loss: 0.8983820080757141\n",
            "Epoch Number: 4 | Iteration Number: 4300 | Focal Loss: 0.0005855114432051778 | Mask Loss: 0.6537169814109802 | Total Loss: 0.6543024778366089\n",
            "Epoch Number: 4 | Iteration Number: 4400 | Focal Loss: 0.0006323199486359954 | Mask Loss: 1.5440661907196045 | Total Loss: 1.5446984767913818\n",
            "Epoch Number: 4 | Iteration Number: 4500 | Focal Loss: 0.0010079819476231933 | Mask Loss: 0.9339554309844971 | Total Loss: 0.9349634051322937\n",
            "Epoch Number: 4 | Iteration Number: 4600 | Focal Loss: 0.0006394903175532818 | Mask Loss: 0.9314541220664978 | Total Loss: 0.932093620300293\n",
            "Epoch Number: 4 | Iteration Number: 4700 | Focal Loss: 0.0006217847694642842 | Mask Loss: 1.7745018005371094 | Total Loss: 1.7751235961914062\n",
            "Epoch Number: 4 | Iteration Number: 4800 | Focal Loss: 0.0008900243556126952 | Mask Loss: 1.0849106311798096 | Total Loss: 1.0858006477355957\n",
            "Epoch Number: 4 | Iteration Number: 4900 | Focal Loss: 0.000597533246036619 | Mask Loss: 0.6365497708320618 | Total Loss: 0.6371473073959351\n",
            "Epoch Number: 4 | Iteration Number: 5000 | Focal Loss: 0.0004886464448645711 | Mask Loss: 1.11919367313385 | Total Loss: 1.1196823120117188\n",
            "Epoch Number: 4 | Iteration Number: 5100 | Focal Loss: 0.0008228985243476927 | Mask Loss: 2.0931453704833984 | Total Loss: 2.093968152999878\n",
            "Epoch Number: 4 | Iteration Number: 5200 | Focal Loss: 0.00048368697753176093 | Mask Loss: 1.1372956037521362 | Total Loss: 1.1377792358398438\n",
            "time taken in epoch 4:317.54862666130066\n"
          ],
          "name": "stdout"
        },
        {
          "output_type": "stream",
          "text": [
            "\n",
            " 20%|██        | 4/20 [21:14<1:24:57, 318.61s/it]\u001b[A"
          ],
          "name": "stderr"
        },
        {
          "output_type": "stream",
          "text": [
            "Epoch Number: 5 | Iteration Number: 5300 | Focal Loss: 0.0003864049504045397 | Mask Loss: 0.3629639446735382 | Total Loss: 0.36335036158561707\n",
            "Epoch Number: 5 | Iteration Number: 5400 | Focal Loss: 0.0005067872116342187 | Mask Loss: 0.9673521518707275 | Total Loss: 0.9678589105606079\n",
            "Epoch Number: 5 | Iteration Number: 5500 | Focal Loss: 0.0004308530769776553 | Mask Loss: 0.4592588245868683 | Total Loss: 0.4596896767616272\n",
            "Epoch Number: 5 | Iteration Number: 5600 | Focal Loss: 0.00033855243236757815 | Mask Loss: 0.18074746429920197 | Total Loss: 0.18108601868152618\n",
            "Epoch Number: 5 | Iteration Number: 5700 | Focal Loss: 0.0006983136408962309 | Mask Loss: 1.7341235876083374 | Total Loss: 1.7348219156265259\n",
            "Epoch Number: 5 | Iteration Number: 5800 | Focal Loss: 0.0006275571067817509 | Mask Loss: 0.9652235507965088 | Total Loss: 0.9658511281013489\n",
            "Epoch Number: 5 | Iteration Number: 5900 | Focal Loss: 0.0004769525839947164 | Mask Loss: 1.7410658597946167 | Total Loss: 1.7415428161621094\n",
            "Epoch Number: 5 | Iteration Number: 6000 | Focal Loss: 0.0005456385551951826 | Mask Loss: 1.3831180334091187 | Total Loss: 1.3836636543273926\n",
            "Epoch Number: 5 | Iteration Number: 6100 | Focal Loss: 0.0006538429297506809 | Mask Loss: 1.0136321783065796 | Total Loss: 1.0142860412597656\n",
            "Epoch Number: 5 | Iteration Number: 6200 | Focal Loss: 0.0004755578120239079 | Mask Loss: 0.5167796611785889 | Total Loss: 0.5172552466392517\n",
            "Epoch Number: 5 | Iteration Number: 6300 | Focal Loss: 0.0004234797670505941 | Mask Loss: 0.7596218585968018 | Total Loss: 0.7600453495979309\n",
            "Epoch Number: 5 | Iteration Number: 6400 | Focal Loss: 0.0003709782613441348 | Mask Loss: 1.1544890403747559 | Total Loss: 1.154860019683838\n",
            "Epoch Number: 5 | Iteration Number: 6500 | Focal Loss: 0.0005211778916418552 | Mask Loss: 0.7130441069602966 | Total Loss: 0.7135652899742126\n",
            "time taken in epoch 5:316.47721314430237\n"
          ],
          "name": "stdout"
        },
        {
          "output_type": "stream",
          "text": [
            "\n",
            " 25%|██▌       | 5/20 [26:30<1:19:30, 318.05s/it]\u001b[A"
          ],
          "name": "stderr"
        },
        {
          "output_type": "stream",
          "text": [
            "Epoch Number: 6 | Iteration Number: 6600 | Focal Loss: 0.0005673997802659869 | Mask Loss: 0.8091462850570679 | Total Loss: 0.8097136616706848\n",
            "Epoch Number: 6 | Iteration Number: 6700 | Focal Loss: 0.0006971050752326846 | Mask Loss: 0.8072384595870972 | Total Loss: 0.8079355359077454\n",
            "Epoch Number: 6 | Iteration Number: 6800 | Focal Loss: 0.00047534870100207627 | Mask Loss: 1.4145148992538452 | Total Loss: 1.4149903059005737\n",
            "Epoch Number: 6 | Iteration Number: 6900 | Focal Loss: 0.0005484031280502677 | Mask Loss: 0.931228518486023 | Total Loss: 0.9317769408226013\n",
            "Epoch Number: 6 | Iteration Number: 7000 | Focal Loss: 0.0009521396132186055 | Mask Loss: 1.1217131614685059 | Total Loss: 1.122665286064148\n",
            "Epoch Number: 6 | Iteration Number: 7100 | Focal Loss: 0.0006258798530325294 | Mask Loss: 0.5772284269332886 | Total Loss: 0.577854335308075\n",
            "Epoch Number: 6 | Iteration Number: 7200 | Focal Loss: 0.0004073413147125393 | Mask Loss: 1.1282918453216553 | Total Loss: 1.1286991834640503\n",
            "Epoch Number: 6 | Iteration Number: 7300 | Focal Loss: 0.0005073490319773555 | Mask Loss: 0.7667761445045471 | Total Loss: 0.7672834992408752\n",
            "Epoch Number: 6 | Iteration Number: 7400 | Focal Loss: 0.0005417951615527272 | Mask Loss: 0.42348623275756836 | Total Loss: 0.42402803897857666\n",
            "Epoch Number: 6 | Iteration Number: 7500 | Focal Loss: 0.0007097912020981312 | Mask Loss: 1.038122296333313 | Total Loss: 1.0388320684432983\n",
            "Epoch Number: 6 | Iteration Number: 7600 | Focal Loss: 0.00045732190483249724 | Mask Loss: 0.7841273546218872 | Total Loss: 0.7845847010612488\n",
            "Epoch Number: 6 | Iteration Number: 7700 | Focal Loss: 0.0005939463153481483 | Mask Loss: 1.069340705871582 | Total Loss: 1.069934606552124\n",
            "Epoch Number: 6 | Iteration Number: 7800 | Focal Loss: 0.0003797660756390542 | Mask Loss: 0.8888404369354248 | Total Loss: 0.8892201781272888\n",
            "time taken in epoch 6:316.7997281551361\n"
          ],
          "name": "stdout"
        },
        {
          "output_type": "stream",
          "text": [
            "\n",
            " 30%|███       | 6/20 [31:47<1:14:08, 317.76s/it]\u001b[A"
          ],
          "name": "stderr"
        },
        {
          "output_type": "stream",
          "text": [
            "Epoch Number: 7 | Iteration Number: 7900 | Focal Loss: 0.00046351688797585666 | Mask Loss: 0.6438581347465515 | Total Loss: 0.6443216800689697\n",
            "Epoch Number: 7 | Iteration Number: 8000 | Focal Loss: 0.0005964146694168448 | Mask Loss: 0.8138753771781921 | Total Loss: 0.8144717812538147\n",
            "Epoch Number: 7 | Iteration Number: 8100 | Focal Loss: 0.0003825607127510011 | Mask Loss: 1.6957643032073975 | Total Loss: 1.696146845817566\n",
            "Epoch Number: 7 | Iteration Number: 8200 | Focal Loss: 0.0003938012523576617 | Mask Loss: 0.6126883029937744 | Total Loss: 0.6130821108818054\n",
            "Epoch Number: 7 | Iteration Number: 8300 | Focal Loss: 0.0008515557274222374 | Mask Loss: 0.810615062713623 | Total Loss: 0.811466634273529\n",
            "Epoch Number: 7 | Iteration Number: 8400 | Focal Loss: 0.0005275289295241237 | Mask Loss: 0.5714256763458252 | Total Loss: 0.5719531774520874\n",
            "Epoch Number: 7 | Iteration Number: 8500 | Focal Loss: 0.0006501587922684848 | Mask Loss: 0.9139419794082642 | Total Loss: 0.9145921468734741\n",
            "Epoch Number: 7 | Iteration Number: 8600 | Focal Loss: 0.00037910352693870664 | Mask Loss: 0.49981963634490967 | Total Loss: 0.5001987218856812\n",
            "Epoch Number: 7 | Iteration Number: 8700 | Focal Loss: 0.0005830266745761037 | Mask Loss: 1.0423316955566406 | Total Loss: 1.0429147481918335\n",
            "Epoch Number: 7 | Iteration Number: 8800 | Focal Loss: 0.00042436696821823716 | Mask Loss: 0.33617937564849854 | Total Loss: 0.33660373091697693\n",
            "Epoch Number: 7 | Iteration Number: 8900 | Focal Loss: 0.0004913224256597459 | Mask Loss: 1.061437726020813 | Total Loss: 1.0619291067123413\n",
            "Epoch Number: 7 | Iteration Number: 9000 | Focal Loss: 0.00037383512244559824 | Mask Loss: 0.8240094184875488 | Total Loss: 0.8243832588195801\n",
            "Epoch Number: 7 | Iteration Number: 9100 | Focal Loss: 0.00047521069063805044 | Mask Loss: 0.6955087184906006 | Total Loss: 0.6959839463233948\n",
            "time taken in epoch 7:316.94039607048035\n"
          ],
          "name": "stdout"
        },
        {
          "output_type": "stream",
          "text": [
            "\n",
            " 35%|███▌      | 7/20 [37:05<1:08:48, 317.60s/it]\u001b[A"
          ],
          "name": "stderr"
        },
        {
          "output_type": "stream",
          "text": [
            "Epoch Number: 8 | Iteration Number: 9200 | Focal Loss: 0.00043531725532375276 | Mask Loss: 0.5371193885803223 | Total Loss: 0.5375546813011169\n",
            "Epoch Number: 8 | Iteration Number: 9300 | Focal Loss: 0.0010004282230511308 | Mask Loss: 0.9373202919960022 | Total Loss: 0.9383206963539124\n",
            "Epoch Number: 8 | Iteration Number: 9400 | Focal Loss: 0.0004611791227944195 | Mask Loss: 0.4149388074874878 | Total Loss: 0.4153999984264374\n",
            "Epoch Number: 8 | Iteration Number: 9500 | Focal Loss: 0.0006205688696354628 | Mask Loss: 1.0056718587875366 | Total Loss: 1.006292462348938\n",
            "Epoch Number: 8 | Iteration Number: 9600 | Focal Loss: 0.0006701558595523238 | Mask Loss: 0.9172687530517578 | Total Loss: 0.9179388880729675\n",
            "Epoch Number: 8 | Iteration Number: 9700 | Focal Loss: 0.0006123880739323795 | Mask Loss: 0.6743139028549194 | Total Loss: 0.6749262809753418\n",
            "Epoch Number: 8 | Iteration Number: 9800 | Focal Loss: 0.0005465701688081026 | Mask Loss: 1.1018162965774536 | Total Loss: 1.102362871170044\n",
            "Epoch Number: 8 | Iteration Number: 9900 | Focal Loss: 0.0007283673039637506 | Mask Loss: 1.1808924674987793 | Total Loss: 1.1816208362579346\n",
            "Epoch Number: 8 | Iteration Number: 10000 | Focal Loss: 0.0004802784533239901 | Mask Loss: 0.3738228976726532 | Total Loss: 0.3743031620979309\n",
            "Epoch Number: 8 | Iteration Number: 10100 | Focal Loss: 0.0006147754611447453 | Mask Loss: 1.4316256046295166 | Total Loss: 1.43224036693573\n",
            "Epoch Number: 8 | Iteration Number: 10200 | Focal Loss: 0.000502954819239676 | Mask Loss: 1.1414790153503418 | Total Loss: 1.1419819593429565\n",
            "Epoch Number: 8 | Iteration Number: 10300 | Focal Loss: 0.00039232283597812057 | Mask Loss: 0.6848706603050232 | Total Loss: 0.6852629780769348\n",
            "Epoch Number: 8 | Iteration Number: 10400 | Focal Loss: 0.0007561100646853447 | Mask Loss: 1.0021164417266846 | Total Loss: 1.0028725862503052\n",
            "time taken in epoch 8:317.13259768486023\n"
          ],
          "name": "stdout"
        },
        {
          "output_type": "stream",
          "text": [
            "\n",
            " 40%|████      | 8/20 [42:22<1:03:30, 317.54s/it]\u001b[A"
          ],
          "name": "stderr"
        },
        {
          "output_type": "stream",
          "text": [
            "Epoch Number: 9 | Iteration Number: 10500 | Focal Loss: 0.0006187563994899392 | Mask Loss: 0.6914884448051453 | Total Loss: 0.6921072006225586\n",
            "Epoch Number: 9 | Iteration Number: 10600 | Focal Loss: 0.000437540264101699 | Mask Loss: 1.5104522705078125 | Total Loss: 1.5108897686004639\n",
            "Epoch Number: 9 | Iteration Number: 10700 | Focal Loss: 0.0006779827526770532 | Mask Loss: 0.6449391841888428 | Total Loss: 0.6456171870231628\n",
            "Epoch Number: 9 | Iteration Number: 10800 | Focal Loss: 0.0005216264980845153 | Mask Loss: 0.632107138633728 | Total Loss: 0.6326287388801575\n",
            "Epoch Number: 9 | Iteration Number: 10900 | Focal Loss: 0.0008649670053273439 | Mask Loss: 0.7536901235580444 | Total Loss: 0.7545551061630249\n",
            "Epoch Number: 9 | Iteration Number: 11000 | Focal Loss: 0.00047377654118463397 | Mask Loss: 1.043743371963501 | Total Loss: 1.0442171096801758\n",
            "Epoch Number: 9 | Iteration Number: 11100 | Focal Loss: 0.00046566722448915243 | Mask Loss: 0.43693870306015015 | Total Loss: 0.4374043643474579\n",
            "Epoch Number: 9 | Iteration Number: 11200 | Focal Loss: 0.00042027869494631886 | Mask Loss: 1.8351142406463623 | Total Loss: 1.8355345726013184\n",
            "Epoch Number: 9 | Iteration Number: 11300 | Focal Loss: 0.0009293809998780489 | Mask Loss: 0.8000612854957581 | Total Loss: 0.800990641117096\n",
            "Epoch Number: 9 | Iteration Number: 11400 | Focal Loss: 0.0006443148595280945 | Mask Loss: 1.0811023712158203 | Total Loss: 1.0817466974258423\n",
            "Epoch Number: 9 | Iteration Number: 11500 | Focal Loss: 0.0004507615230977535 | Mask Loss: 0.5273324847221375 | Total Loss: 0.5277832746505737\n",
            "Epoch Number: 9 | Iteration Number: 11600 | Focal Loss: 0.000625089684035629 | Mask Loss: 0.5759251713752747 | Total Loss: 0.5765502452850342\n",
            "Epoch Number: 9 | Iteration Number: 11700 | Focal Loss: 0.00044098158832639456 | Mask Loss: 0.5825695395469666 | Total Loss: 0.5830104947090149\n",
            "time taken in epoch 9:317.530898809433\n"
          ],
          "name": "stdout"
        },
        {
          "output_type": "stream",
          "text": [
            "\n",
            " 45%|████▌     | 9/20 [47:40<58:13, 317.61s/it]  \u001b[A"
          ],
          "name": "stderr"
        },
        {
          "output_type": "stream",
          "text": [
            "Epoch Number: 10 | Iteration Number: 11800 | Focal Loss: 0.00036867393646389246 | Mask Loss: 0.38508540391921997 | Total Loss: 0.38545408844947815\n",
            "Epoch Number: 10 | Iteration Number: 11900 | Focal Loss: 0.0004346365749370307 | Mask Loss: 0.5461523532867432 | Total Loss: 0.5465869903564453\n",
            "Epoch Number: 10 | Iteration Number: 12000 | Focal Loss: 0.0005219974555075169 | Mask Loss: 0.909021258354187 | Total Loss: 0.9095432758331299\n",
            "Epoch Number: 10 | Iteration Number: 12100 | Focal Loss: 0.0006478251307271421 | Mask Loss: 1.585949420928955 | Total Loss: 1.586597204208374\n",
            "Epoch Number: 10 | Iteration Number: 12200 | Focal Loss: 0.0005587936611846089 | Mask Loss: 0.49065184593200684 | Total Loss: 0.4912106394767761\n",
            "Epoch Number: 10 | Iteration Number: 12300 | Focal Loss: 0.0006130855181254447 | Mask Loss: 0.44091323018074036 | Total Loss: 0.4415263235569\n",
            "Epoch Number: 10 | Iteration Number: 12400 | Focal Loss: 0.0005275389412418008 | Mask Loss: 0.5854313969612122 | Total Loss: 0.5859589576721191\n",
            "Epoch Number: 10 | Iteration Number: 12500 | Focal Loss: 0.0007011708221398294 | Mask Loss: 0.6588184833526611 | Total Loss: 0.6595196723937988\n",
            "Epoch Number: 10 | Iteration Number: 12600 | Focal Loss: 0.0007387713994830847 | Mask Loss: 1.1377924680709839 | Total Loss: 1.13853120803833\n",
            "Epoch Number: 10 | Iteration Number: 12700 | Focal Loss: 0.00042728721746243536 | Mask Loss: 0.8017074465751648 | Total Loss: 0.8021347522735596\n",
            "Epoch Number: 10 | Iteration Number: 12800 | Focal Loss: 0.0005329996347427368 | Mask Loss: 0.5579156875610352 | Total Loss: 0.5584486722946167\n",
            "Epoch Number: 10 | Iteration Number: 12900 | Focal Loss: 0.0004126876010559499 | Mask Loss: 0.5371504426002502 | Total Loss: 0.537563145160675\n",
            "Epoch Number: 10 | Iteration Number: 13000 | Focal Loss: 0.00045101321302354336 | Mask Loss: 0.5234438180923462 | Total Loss: 0.5238948464393616\n",
            "time taken in epoch 10:316.93470907211304\n"
          ],
          "name": "stdout"
        },
        {
          "output_type": "stream",
          "text": [
            "\n",
            " 50%|█████     | 10/20 [52:57<52:54, 317.49s/it]\u001b[A"
          ],
          "name": "stderr"
        },
        {
          "output_type": "stream",
          "text": [
            "Epoch Number: 11 | Iteration Number: 13100 | Focal Loss: 0.0008193585672415793 | Mask Loss: 1.091291904449463 | Total Loss: 1.0921112298965454\n",
            "Epoch Number: 11 | Iteration Number: 13200 | Focal Loss: 0.000566575734410435 | Mask Loss: 1.1051011085510254 | Total Loss: 1.1056677103042603\n",
            "Epoch Number: 11 | Iteration Number: 13300 | Focal Loss: 0.0007045148522593081 | Mask Loss: 1.3458497524261475 | Total Loss: 1.3465542793273926\n",
            "Epoch Number: 11 | Iteration Number: 13400 | Focal Loss: 0.0006187174003571272 | Mask Loss: 0.9346548914909363 | Total Loss: 0.9352735877037048\n",
            "Epoch Number: 11 | Iteration Number: 13500 | Focal Loss: 0.0009001391008496284 | Mask Loss: 1.369920253753662 | Total Loss: 1.37082040309906\n",
            "Epoch Number: 11 | Iteration Number: 13600 | Focal Loss: 0.0004138130461797118 | Mask Loss: 0.6859533786773682 | Total Loss: 0.6863672137260437\n",
            "Epoch Number: 11 | Iteration Number: 13700 | Focal Loss: 0.0004444957012310624 | Mask Loss: 0.3989561200141907 | Total Loss: 0.39940062165260315\n",
            "Epoch Number: 11 | Iteration Number: 13800 | Focal Loss: 0.0006007766351103783 | Mask Loss: 1.0591723918914795 | Total Loss: 1.0597732067108154\n",
            "Epoch Number: 11 | Iteration Number: 13900 | Focal Loss: 0.0009380959090776742 | Mask Loss: 1.2370660305023193 | Total Loss: 1.2380040884017944\n",
            "Epoch Number: 11 | Iteration Number: 14000 | Focal Loss: 0.00048815173795446754 | Mask Loss: 0.3561945855617523 | Total Loss: 0.35668274760246277\n",
            "Epoch Number: 11 | Iteration Number: 14100 | Focal Loss: 0.0005455956561490893 | Mask Loss: 0.7982459664344788 | Total Loss: 0.7987915873527527\n",
            "Epoch Number: 11 | Iteration Number: 14200 | Focal Loss: 0.000482414907310158 | Mask Loss: 0.7380881905555725 | Total Loss: 0.7385706305503845\n",
            "Epoch Number: 11 | Iteration Number: 14300 | Focal Loss: 0.00046145834494382143 | Mask Loss: 0.6556530594825745 | Total Loss: 0.6561145186424255\n",
            "time taken in epoch 11:316.30949902534485\n"
          ],
          "name": "stdout"
        },
        {
          "output_type": "stream",
          "text": [
            "\n",
            " 55%|█████▌    | 11/20 [58:14<47:34, 317.21s/it]\u001b[A"
          ],
          "name": "stderr"
        },
        {
          "output_type": "stream",
          "text": [
            "Epoch Number: 12 | Iteration Number: 14400 | Focal Loss: 0.00031897370354272425 | Mask Loss: 0.49829334020614624 | Total Loss: 0.49861231446266174\n",
            "Epoch Number: 12 | Iteration Number: 14500 | Focal Loss: 0.0003255935444030911 | Mask Loss: 0.35593733191490173 | Total Loss: 0.3562629222869873\n",
            "Epoch Number: 12 | Iteration Number: 14600 | Focal Loss: 0.0003037538263015449 | Mask Loss: 0.4558747708797455 | Total Loss: 0.4561785161495209\n",
            "Epoch Number: 12 | Iteration Number: 14700 | Focal Loss: 0.0007438651518896222 | Mask Loss: 0.9355447292327881 | Total Loss: 0.936288595199585\n",
            "Epoch Number: 12 | Iteration Number: 14800 | Focal Loss: 0.0003810056659858674 | Mask Loss: 1.3413188457489014 | Total Loss: 1.3416998386383057\n",
            "Epoch Number: 12 | Iteration Number: 14900 | Focal Loss: 0.0006312682526186109 | Mask Loss: 0.524944543838501 | Total Loss: 0.5255758166313171\n",
            "Epoch Number: 12 | Iteration Number: 15000 | Focal Loss: 0.0008260587928816676 | Mask Loss: 1.154910683631897 | Total Loss: 1.1557366847991943\n",
            "Epoch Number: 12 | Iteration Number: 15100 | Focal Loss: 0.0005438096704892814 | Mask Loss: 0.5650242567062378 | Total Loss: 0.5655680894851685\n",
            "Epoch Number: 12 | Iteration Number: 15200 | Focal Loss: 0.0004137856012675911 | Mask Loss: 1.2671618461608887 | Total Loss: 1.2675756216049194\n",
            "Epoch Number: 12 | Iteration Number: 15300 | Focal Loss: 0.0003659674257505685 | Mask Loss: 0.5482920408248901 | Total Loss: 0.548658013343811\n",
            "Epoch Number: 12 | Iteration Number: 15400 | Focal Loss: 0.00048258277820423245 | Mask Loss: 0.7159450054168701 | Total Loss: 0.7164275646209717\n",
            "Epoch Number: 12 | Iteration Number: 15500 | Focal Loss: 0.0006295964703895152 | Mask Loss: 0.710940957069397 | Total Loss: 0.7115705609321594\n",
            "Epoch Number: 12 | Iteration Number: 15600 | Focal Loss: 0.0006049281801097095 | Mask Loss: 0.7029815912246704 | Total Loss: 0.7035865187644958\n",
            "time taken in epoch 12:316.3897089958191\n"
          ],
          "name": "stdout"
        },
        {
          "output_type": "stream",
          "text": [
            "\n",
            " 60%|██████    | 12/20 [1:03:30<42:16, 317.04s/it]\u001b[A"
          ],
          "name": "stderr"
        },
        {
          "output_type": "stream",
          "text": [
            "Epoch Number: 13 | Iteration Number: 15700 | Focal Loss: 0.0006001846049912274 | Mask Loss: 0.6441813707351685 | Total Loss: 0.6447815299034119\n",
            "Epoch Number: 13 | Iteration Number: 15800 | Focal Loss: 0.0006541811162605882 | Mask Loss: 1.410433292388916 | Total Loss: 1.4110875129699707\n",
            "Epoch Number: 13 | Iteration Number: 15900 | Focal Loss: 0.0003997507446911186 | Mask Loss: 0.5833088159561157 | Total Loss: 0.5837085843086243\n",
            "Epoch Number: 13 | Iteration Number: 16000 | Focal Loss: 0.0003419270215090364 | Mask Loss: 0.5537689328193665 | Total Loss: 0.5541108846664429\n",
            "Epoch Number: 13 | Iteration Number: 16100 | Focal Loss: 0.0006615819875150919 | Mask Loss: 0.754664421081543 | Total Loss: 0.7553260326385498\n",
            "Epoch Number: 13 | Iteration Number: 16200 | Focal Loss: 0.00031364060123451054 | Mask Loss: 1.1005045175552368 | Total Loss: 1.100818157196045\n",
            "Epoch Number: 13 | Iteration Number: 16300 | Focal Loss: 0.0005262593040242791 | Mask Loss: 0.5178746581077576 | Total Loss: 0.5184009075164795\n",
            "Epoch Number: 13 | Iteration Number: 16400 | Focal Loss: 0.0005840574158355594 | Mask Loss: 0.9029874801635742 | Total Loss: 0.9035715460777283\n",
            "Epoch Number: 13 | Iteration Number: 16500 | Focal Loss: 0.00041931713349185884 | Mask Loss: 0.7033641934394836 | Total Loss: 0.7037835121154785\n",
            "Epoch Number: 13 | Iteration Number: 16600 | Focal Loss: 0.0005662197363562882 | Mask Loss: 1.7689930200576782 | Total Loss: 1.7695592641830444\n",
            "Epoch Number: 13 | Iteration Number: 16700 | Focal Loss: 0.0006210915744304657 | Mask Loss: 0.602947473526001 | Total Loss: 0.6035685539245605\n",
            "Epoch Number: 13 | Iteration Number: 16800 | Focal Loss: 0.0004760964075103402 | Mask Loss: 0.468600332736969 | Total Loss: 0.4690764248371124\n",
            "Epoch Number: 13 | Iteration Number: 16900 | Focal Loss: 0.0007339477888308465 | Mask Loss: 1.8837130069732666 | Total Loss: 1.8844469785690308\n",
            "time taken in epoch 13:316.0796821117401\n"
          ],
          "name": "stdout"
        },
        {
          "output_type": "stream",
          "text": [
            "\n",
            " 65%|██████▌   | 13/20 [1:08:47<36:57, 316.83s/it]\u001b[A"
          ],
          "name": "stderr"
        },
        {
          "output_type": "stream",
          "text": [
            "Epoch Number: 14 | Iteration Number: 17000 | Focal Loss: 0.00035664462484419346 | Mask Loss: 0.4272278845310211 | Total Loss: 0.42758452892303467\n",
            "Epoch Number: 14 | Iteration Number: 17100 | Focal Loss: 0.00037039158632978797 | Mask Loss: 0.9461761713027954 | Total Loss: 0.9465465545654297\n",
            "Epoch Number: 14 | Iteration Number: 17200 | Focal Loss: 0.0008119726553559303 | Mask Loss: 1.1716852188110352 | Total Loss: 1.1724971532821655\n",
            "Epoch Number: 14 | Iteration Number: 17300 | Focal Loss: 0.0004987770807929337 | Mask Loss: 1.1643595695495605 | Total Loss: 1.164858341217041\n",
            "Epoch Number: 14 | Iteration Number: 17400 | Focal Loss: 0.0010357135906815529 | Mask Loss: 1.035445213317871 | Total Loss: 1.0364809036254883\n",
            "Epoch Number: 14 | Iteration Number: 17500 | Focal Loss: 0.000430092157330364 | Mask Loss: 0.7298873662948608 | Total Loss: 0.7303174734115601\n",
            "Epoch Number: 14 | Iteration Number: 17600 | Focal Loss: 0.0005714055150747299 | Mask Loss: 1.0990504026412964 | Total Loss: 1.0996217727661133\n",
            "Epoch Number: 14 | Iteration Number: 17700 | Focal Loss: 0.00048401221283711493 | Mask Loss: 0.24760672450065613 | Total Loss: 0.2480907440185547\n",
            "Epoch Number: 14 | Iteration Number: 17800 | Focal Loss: 0.00045397286885418 | Mask Loss: 0.6804267764091492 | Total Loss: 0.6808807253837585\n",
            "Epoch Number: 14 | Iteration Number: 17900 | Focal Loss: 0.00041143305134028196 | Mask Loss: 1.5911614894866943 | Total Loss: 1.591572880744934\n",
            "Epoch Number: 14 | Iteration Number: 18000 | Focal Loss: 0.0006665572291240096 | Mask Loss: 1.001126766204834 | Total Loss: 1.0017932653427124\n",
            "Epoch Number: 14 | Iteration Number: 18100 | Focal Loss: 0.0005509000620804727 | Mask Loss: 0.7357759475708008 | Total Loss: 0.7363268733024597\n",
            "Epoch Number: 14 | Iteration Number: 18200 | Focal Loss: 0.00043493660632520914 | Mask Loss: 0.72511225938797 | Total Loss: 0.725547194480896\n",
            "time taken in epoch 14:315.820848941803\n"
          ],
          "name": "stdout"
        },
        {
          "output_type": "stream",
          "text": [
            "\n",
            " 70%|███████   | 14/20 [1:14:03<31:39, 316.61s/it]\u001b[A"
          ],
          "name": "stderr"
        },
        {
          "output_type": "stream",
          "text": [
            "Epoch Number: 15 | Iteration Number: 18300 | Focal Loss: 0.000668455264531076 | Mask Loss: 1.0077778100967407 | Total Loss: 1.008446216583252\n",
            "Epoch Number: 15 | Iteration Number: 18400 | Focal Loss: 0.0005248217494226992 | Mask Loss: 1.3335976600646973 | Total Loss: 1.3341225385665894\n",
            "Epoch Number: 15 | Iteration Number: 18500 | Focal Loss: 0.0006461289594881237 | Mask Loss: 0.6063576340675354 | Total Loss: 0.6070037484169006\n",
            "Epoch Number: 15 | Iteration Number: 18600 | Focal Loss: 0.0007338477880693972 | Mask Loss: 0.6779066324234009 | Total Loss: 0.6786404848098755\n",
            "Epoch Number: 15 | Iteration Number: 18700 | Focal Loss: 0.0005957167013548315 | Mask Loss: 0.7638821601867676 | Total Loss: 0.7644778490066528\n",
            "Epoch Number: 15 | Iteration Number: 18800 | Focal Loss: 0.0005043770652264357 | Mask Loss: 0.7525389790534973 | Total Loss: 0.7530433535575867\n",
            "Epoch Number: 15 | Iteration Number: 18900 | Focal Loss: 0.0005260549369268119 | Mask Loss: 1.114591121673584 | Total Loss: 1.1151171922683716\n",
            "Epoch Number: 15 | Iteration Number: 19000 | Focal Loss: 0.00036987726343795657 | Mask Loss: 0.9152147769927979 | Total Loss: 0.9155846834182739\n",
            "Epoch Number: 15 | Iteration Number: 19100 | Focal Loss: 0.00036126820486970246 | Mask Loss: 0.5840474963188171 | Total Loss: 0.5844087600708008\n",
            "Epoch Number: 15 | Iteration Number: 19200 | Focal Loss: 0.00039549561915919185 | Mask Loss: 0.7656607627868652 | Total Loss: 0.76605623960495\n",
            "Epoch Number: 15 | Iteration Number: 19300 | Focal Loss: 0.000665708037558943 | Mask Loss: 0.6887572407722473 | Total Loss: 0.6894229650497437\n",
            "Epoch Number: 15 | Iteration Number: 19400 | Focal Loss: 0.0008170293876901269 | Mask Loss: 0.6360142827033997 | Total Loss: 0.6368312835693359\n",
            "Epoch Number: 15 | Iteration Number: 19500 | Focal Loss: 0.0006465602200478315 | Mask Loss: 0.7560312151908875 | Total Loss: 0.7566777467727661\n",
            "time taken in epoch 15:318.84854316711426\n"
          ],
          "name": "stdout"
        },
        {
          "output_type": "stream",
          "text": [
            "\n",
            " 75%|███████▌  | 15/20 [1:19:22<26:26, 317.37s/it]\u001b[A"
          ],
          "name": "stderr"
        },
        {
          "output_type": "stream",
          "text": [
            "Epoch Number: 16 | Iteration Number: 19600 | Focal Loss: 0.0003807978064287454 | Mask Loss: 0.7949764728546143 | Total Loss: 0.7953572869300842\n",
            "Epoch Number: 16 | Iteration Number: 19700 | Focal Loss: 0.0005583586753346026 | Mask Loss: 0.9579426050186157 | Total Loss: 0.9585009813308716\n",
            "Epoch Number: 16 | Iteration Number: 19800 | Focal Loss: 0.0005858246004208922 | Mask Loss: 0.7614592909812927 | Total Loss: 0.76204514503479\n",
            "Epoch Number: 16 | Iteration Number: 19900 | Focal Loss: 0.0006683451356366277 | Mask Loss: 0.9640401005744934 | Total Loss: 0.9647084474563599\n",
            "Epoch Number: 16 | Iteration Number: 20000 | Focal Loss: 0.0006095380522310734 | Mask Loss: 0.8103832006454468 | Total Loss: 0.8109927177429199\n",
            "Epoch Number: 16 | Iteration Number: 20100 | Focal Loss: 0.00040671590249985456 | Mask Loss: 0.5111972093582153 | Total Loss: 0.5116039514541626\n",
            "Epoch Number: 16 | Iteration Number: 20200 | Focal Loss: 0.0007722669397480786 | Mask Loss: 0.9985389709472656 | Total Loss: 0.9993112087249756\n",
            "Epoch Number: 16 | Iteration Number: 20300 | Focal Loss: 0.0007287371554411948 | Mask Loss: 1.4812042713165283 | Total Loss: 1.4819329977035522\n",
            "Epoch Number: 16 | Iteration Number: 20400 | Focal Loss: 0.0010057674953714013 | Mask Loss: 1.2122056484222412 | Total Loss: 1.2132114171981812\n",
            "Epoch Number: 16 | Iteration Number: 20500 | Focal Loss: 0.0005809763679280877 | Mask Loss: 0.7874667048454285 | Total Loss: 0.7880476713180542\n",
            "Epoch Number: 16 | Iteration Number: 20600 | Focal Loss: 0.00038290847442112863 | Mask Loss: 0.6068238615989685 | Total Loss: 0.6072067618370056\n",
            "Epoch Number: 16 | Iteration Number: 20700 | Focal Loss: 0.0003693994367495179 | Mask Loss: 0.9897242784500122 | Total Loss: 0.9900936484336853\n",
            "Epoch Number: 16 | Iteration Number: 20800 | Focal Loss: 0.0004685042076744139 | Mask Loss: 0.8808315992355347 | Total Loss: 0.8813000917434692\n",
            "time taken in epoch 16:319.2129509449005\n"
          ],
          "name": "stdout"
        },
        {
          "output_type": "stream",
          "text": [
            "\n",
            " 80%|████████  | 16/20 [1:24:41<21:12, 318.01s/it]\u001b[A"
          ],
          "name": "stderr"
        },
        {
          "output_type": "stream",
          "text": [
            "Epoch Number: 17 | Iteration Number: 20900 | Focal Loss: 0.0005055377841927111 | Mask Loss: 0.4105667471885681 | Total Loss: 0.4110722839832306\n",
            "Epoch Number: 17 | Iteration Number: 21000 | Focal Loss: 0.0008474665810354054 | Mask Loss: 0.6824872493743896 | Total Loss: 0.6833347082138062\n",
            "Epoch Number: 17 | Iteration Number: 21100 | Focal Loss: 0.000611421768553555 | Mask Loss: 0.4529714584350586 | Total Loss: 0.45358288288116455\n",
            "Epoch Number: 17 | Iteration Number: 21200 | Focal Loss: 0.0005221517640165985 | Mask Loss: 0.40317124128341675 | Total Loss: 0.40369340777397156\n",
            "Epoch Number: 17 | Iteration Number: 21300 | Focal Loss: 0.0006963256164453924 | Mask Loss: 0.8926372528076172 | Total Loss: 0.8933335542678833\n",
            "Epoch Number: 17 | Iteration Number: 21400 | Focal Loss: 0.0010077136103063822 | Mask Loss: 1.2127645015716553 | Total Loss: 1.213772177696228\n",
            "Epoch Number: 17 | Iteration Number: 21500 | Focal Loss: 0.0007823067717254162 | Mask Loss: 0.5519362092018127 | Total Loss: 0.5527185201644897\n",
            "Epoch Number: 17 | Iteration Number: 21600 | Focal Loss: 0.0004019092011731118 | Mask Loss: 0.5968895554542542 | Total Loss: 0.5972914695739746\n",
            "Epoch Number: 17 | Iteration Number: 21700 | Focal Loss: 0.0006010843790136278 | Mask Loss: 0.6704484224319458 | Total Loss: 0.6710495352745056\n",
            "Epoch Number: 17 | Iteration Number: 21800 | Focal Loss: 0.0004864990769419819 | Mask Loss: 1.0114877223968506 | Total Loss: 1.0119742155075073\n",
            "Epoch Number: 17 | Iteration Number: 21900 | Focal Loss: 0.0005068073514848948 | Mask Loss: 1.0758955478668213 | Total Loss: 1.0764023065567017\n",
            "Epoch Number: 17 | Iteration Number: 22000 | Focal Loss: 0.00046892149839550257 | Mask Loss: 0.30983445048332214 | Total Loss: 0.31030336022377014\n",
            "Epoch Number: 17 | Iteration Number: 22100 | Focal Loss: 0.0008386831032112241 | Mask Loss: 0.9422576427459717 | Total Loss: 0.9430963397026062\n",
            "Epoch Number: 17 | Iteration Number: 22200 | Focal Loss: 0.0006333030760288239 | Mask Loss: 0.9735769033432007 | Total Loss: 0.9742102026939392\n",
            "time taken in epoch 17:318.98725867271423\n"
          ],
          "name": "stdout"
        },
        {
          "output_type": "stream",
          "text": [
            "\n",
            " 85%|████████▌ | 17/20 [1:30:01<15:55, 318.38s/it]\u001b[A"
          ],
          "name": "stderr"
        },
        {
          "output_type": "stream",
          "text": [
            "Epoch Number: 18 | Iteration Number: 22300 | Focal Loss: 0.0003139923501294106 | Mask Loss: 0.3527832627296448 | Total Loss: 0.35309725999832153\n",
            "Epoch Number: 18 | Iteration Number: 22400 | Focal Loss: 0.0005145811592228711 | Mask Loss: 1.192643404006958 | Total Loss: 1.1931580305099487\n",
            "Epoch Number: 18 | Iteration Number: 22500 | Focal Loss: 0.0003579864278435707 | Mask Loss: 0.5908202528953552 | Total Loss: 0.5911782383918762\n",
            "Epoch Number: 18 | Iteration Number: 22600 | Focal Loss: 0.0009279162040911615 | Mask Loss: 0.9846033453941345 | Total Loss: 0.9855312705039978\n",
            "Epoch Number: 18 | Iteration Number: 22700 | Focal Loss: 0.000439099851064384 | Mask Loss: 1.2783451080322266 | Total Loss: 1.278784155845642\n",
            "Epoch Number: 18 | Iteration Number: 22800 | Focal Loss: 0.00044988415902480483 | Mask Loss: 1.0553876161575317 | Total Loss: 1.0558375120162964\n",
            "Epoch Number: 18 | Iteration Number: 22900 | Focal Loss: 0.0004721084551420063 | Mask Loss: 0.8067968487739563 | Total Loss: 0.8072689771652222\n",
            "Epoch Number: 18 | Iteration Number: 23000 | Focal Loss: 0.00038363842759281397 | Mask Loss: 0.40160369873046875 | Total Loss: 0.40198734402656555\n",
            "Epoch Number: 18 | Iteration Number: 23100 | Focal Loss: 0.000584058347158134 | Mask Loss: 0.9963449239730835 | Total Loss: 0.9969289898872375\n",
            "Epoch Number: 18 | Iteration Number: 23200 | Focal Loss: 0.0007490698480978608 | Mask Loss: 0.5580681562423706 | Total Loss: 0.5588172078132629\n",
            "Epoch Number: 18 | Iteration Number: 23300 | Focal Loss: 0.0007146230200305581 | Mask Loss: 0.9673080444335938 | Total Loss: 0.9680226445198059\n",
            "Epoch Number: 18 | Iteration Number: 23400 | Focal Loss: 0.000779857044108212 | Mask Loss: 1.9877489805221558 | Total Loss: 1.988528847694397\n",
            "Epoch Number: 18 | Iteration Number: 23500 | Focal Loss: 0.0007199700339697301 | Mask Loss: 1.8334054946899414 | Total Loss: 1.8341255187988281\n",
            "time taken in epoch 18:319.1551675796509\n"
          ],
          "name": "stdout"
        },
        {
          "output_type": "stream",
          "text": [
            "\n",
            " 90%|█████████ | 18/20 [1:35:20<10:37, 318.70s/it]\u001b[A"
          ],
          "name": "stderr"
        },
        {
          "output_type": "stream",
          "text": [
            "Epoch Number: 19 | Iteration Number: 23600 | Focal Loss: 0.000578444276470691 | Mask Loss: 1.4309825897216797 | Total Loss: 1.43156099319458\n",
            "Epoch Number: 19 | Iteration Number: 23700 | Focal Loss: 0.00031519102049060166 | Mask Loss: 0.44357120990753174 | Total Loss: 0.443886399269104\n",
            "Epoch Number: 19 | Iteration Number: 23800 | Focal Loss: 0.0005531968781724572 | Mask Loss: 1.071812391281128 | Total Loss: 1.072365641593933\n",
            "Epoch Number: 19 | Iteration Number: 23900 | Focal Loss: 0.0003557091695256531 | Mask Loss: 0.4530099034309387 | Total Loss: 0.45336562395095825\n",
            "Epoch Number: 19 | Iteration Number: 24000 | Focal Loss: 0.0004305333422962576 | Mask Loss: 0.4923751652240753 | Total Loss: 0.49280568957328796\n",
            "Epoch Number: 19 | Iteration Number: 24100 | Focal Loss: 0.0006403500447049737 | Mask Loss: 0.8432809710502625 | Total Loss: 0.8439213037490845\n",
            "Epoch Number: 19 | Iteration Number: 24200 | Focal Loss: 0.00039191480027511716 | Mask Loss: 0.5699030756950378 | Total Loss: 0.570294976234436\n",
            "Epoch Number: 19 | Iteration Number: 24300 | Focal Loss: 0.00044442599755711854 | Mask Loss: 0.32191550731658936 | Total Loss: 0.32235991954803467\n",
            "Epoch Number: 19 | Iteration Number: 24400 | Focal Loss: 0.0007021751953288913 | Mask Loss: 0.7430506944656372 | Total Loss: 0.7437528967857361\n",
            "Epoch Number: 19 | Iteration Number: 24500 | Focal Loss: 0.0004386961809359491 | Mask Loss: 0.4597800374031067 | Total Loss: 0.46021872758865356\n",
            "Epoch Number: 19 | Iteration Number: 24600 | Focal Loss: 0.0010710159549489617 | Mask Loss: 1.0938894748687744 | Total Loss: 1.0949604511260986\n",
            "Epoch Number: 19 | Iteration Number: 24700 | Focal Loss: 0.0007504010573029518 | Mask Loss: 0.6423323750495911 | Total Loss: 0.6430827975273132\n",
            "Epoch Number: 19 | Iteration Number: 24800 | Focal Loss: 0.0007147440337575972 | Mask Loss: 0.5840600728988647 | Total Loss: 0.5847747921943665\n",
            "time taken in epoch 19:319.0408022403717\n"
          ],
          "name": "stdout"
        },
        {
          "output_type": "stream",
          "text": [
            "\n",
            " 95%|█████████▌| 19/20 [1:40:39<05:18, 318.89s/it]\u001b[A"
          ],
          "name": "stderr"
        },
        {
          "output_type": "stream",
          "text": [
            "Epoch Number: 20 | Iteration Number: 24900 | Focal Loss: 0.0007799621089361608 | Mask Loss: 0.6410351991653442 | Total Loss: 0.641815185546875\n",
            "Epoch Number: 20 | Iteration Number: 25000 | Focal Loss: 0.0006108845118433237 | Mask Loss: 0.7297118902206421 | Total Loss: 0.7303227782249451\n",
            "Epoch Number: 20 | Iteration Number: 25100 | Focal Loss: 0.0005226149223744869 | Mask Loss: 0.8040201663970947 | Total Loss: 0.8045427799224854\n",
            "Epoch Number: 20 | Iteration Number: 25200 | Focal Loss: 0.0005155674880370498 | Mask Loss: 0.6731072664260864 | Total Loss: 0.6736228466033936\n",
            "Epoch Number: 20 | Iteration Number: 25300 | Focal Loss: 0.0007900019409134984 | Mask Loss: 0.837232232093811 | Total Loss: 0.8380222320556641\n",
            "Epoch Number: 20 | Iteration Number: 25400 | Focal Loss: 0.00032039842335507274 | Mask Loss: 0.5097708702087402 | Total Loss: 0.510091245174408\n",
            "Epoch Number: 20 | Iteration Number: 25500 | Focal Loss: 0.0006086088251322508 | Mask Loss: 0.4804074168205261 | Total Loss: 0.48101603984832764\n",
            "Epoch Number: 20 | Iteration Number: 25600 | Focal Loss: 0.0008506813901476562 | Mask Loss: 1.153459072113037 | Total Loss: 1.1543097496032715\n",
            "Epoch Number: 20 | Iteration Number: 25700 | Focal Loss: 0.0005935950321145356 | Mask Loss: 0.9229873418807983 | Total Loss: 0.9235809445381165\n",
            "Epoch Number: 20 | Iteration Number: 25800 | Focal Loss: 0.00043558081961236894 | Mask Loss: 0.5186221599578857 | Total Loss: 0.5190577507019043\n",
            "Epoch Number: 20 | Iteration Number: 25900 | Focal Loss: 0.0004368048976175487 | Mask Loss: 0.45254865288734436 | Total Loss: 0.4529854655265808\n",
            "Epoch Number: 20 | Iteration Number: 26000 | Focal Loss: 0.0005866268184036016 | Mask Loss: 1.279634952545166 | Total Loss: 1.2802215814590454\n",
            "Epoch Number: 20 | Iteration Number: 26100 | Focal Loss: 0.0005211835377849638 | Mask Loss: 0.6572433710098267 | Total Loss: 0.6577645540237427\n",
            "time taken in epoch 20:318.52588176727295\n"
          ],
          "name": "stdout"
        },
        {
          "output_type": "stream",
          "text": [
            "\n",
            "100%|██████████| 20/20 [1:45:58<00:00, 317.93s/it]\n"
          ],
          "name": "stderr"
        }
      ]
    }
  ]
}